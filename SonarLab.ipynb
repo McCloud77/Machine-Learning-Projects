{
 "cells": [
  {
   "cell_type": "markdown",
   "metadata": {},
   "source": [
    "## Preamble"
   ]
  },
  {
   "cell_type": "markdown",
   "metadata": {},
   "source": [
    "This notebook contains an example of how a deep learning network such as Keras can be used to develop a model in Python. The model can then be saved to disk and, using DeepLearning4J, run on Spark when scaling is required."
   ]
  },
  {
   "cell_type": "markdown",
   "metadata": {},
   "source": [
    "## Data Set Information:\n",
    "\n",
    "The file \"sonar.mines\" contains 111 patterns obtained by bouncing sonar signals off a metal cylinder at various angles and under various conditions. The file \"sonar.rocks\" contains 97 patterns obtained from rocks under similar conditions. The transmitted sonar signal is a frequency-modulated chirp, rising in frequency. The data set contains signals obtained from a variety of different aspect angles, spanning 90 degrees for the cylinder and 180 degrees for the rock. \n",
    "\n",
    "Each pattern is a set of 60 numbers in the range 0.0 to 1.0. Each number represents the energy within a particular frequency band, integrated over a certain period of time. The integration aperture for higher frequencies occur later in time, since these frequencies are transmitted later during the chirp. \n",
    "\n",
    "The label associated with each record contains the letter \"R\" if the object is a rock and \"M\" if it is a mine (metal cylinder). The numbers in the labels are in increasing order of aspect angle, but they do not encode the angle directly.\n",
    "\n"
   ]
  },
  {
   "cell_type": "markdown",
   "metadata": {},
   "source": [
    "## Load Libraries"
   ]
  },
  {
   "cell_type": "code",
   "execution_count": 15,
   "metadata": {},
   "outputs": [],
   "source": [
    "import numpy as np\n",
    "import pandas as pd\n",
    "import matplotlib.pyplot as plt\n",
    "%matplotlib inline\n",
    "from keras.models import Sequential\n",
    "from keras.layers import Dense, Dropout, BatchNormalization\n",
    "from keras.wrappers.scikit_learn import KerasClassifier\n",
    "from sklearn.preprocessing import LabelEncoder\n",
    "from sklearn.model_selection import train_test_split\n",
    "from keras.utils import np_utils\n",
    "import warnings\n",
    "warnings.filterwarnings('ignore')"
   ]
  },
  {
   "cell_type": "markdown",
   "metadata": {},
   "source": [
    "## Download the Data"
   ]
  },
  {
   "cell_type": "code",
   "execution_count": 2,
   "metadata": {},
   "outputs": [
    {
     "data": {
      "text/html": [
       "<div>\n",
       "<style scoped>\n",
       "    .dataframe tbody tr th:only-of-type {\n",
       "        vertical-align: middle;\n",
       "    }\n",
       "\n",
       "    .dataframe tbody tr th {\n",
       "        vertical-align: top;\n",
       "    }\n",
       "\n",
       "    .dataframe thead th {\n",
       "        text-align: right;\n",
       "    }\n",
       "</style>\n",
       "<table border=\"1\" class=\"dataframe\">\n",
       "  <thead>\n",
       "    <tr style=\"text-align: right;\">\n",
       "      <th></th>\n",
       "      <th>0</th>\n",
       "      <th>1</th>\n",
       "      <th>2</th>\n",
       "      <th>3</th>\n",
       "      <th>4</th>\n",
       "      <th>5</th>\n",
       "      <th>6</th>\n",
       "      <th>7</th>\n",
       "      <th>8</th>\n",
       "      <th>9</th>\n",
       "      <th>...</th>\n",
       "      <th>51</th>\n",
       "      <th>52</th>\n",
       "      <th>53</th>\n",
       "      <th>54</th>\n",
       "      <th>55</th>\n",
       "      <th>56</th>\n",
       "      <th>57</th>\n",
       "      <th>58</th>\n",
       "      <th>59</th>\n",
       "      <th>60</th>\n",
       "    </tr>\n",
       "  </thead>\n",
       "  <tbody>\n",
       "    <tr>\n",
       "      <th>0</th>\n",
       "      <td>0.0200</td>\n",
       "      <td>0.0371</td>\n",
       "      <td>0.0428</td>\n",
       "      <td>0.0207</td>\n",
       "      <td>0.0954</td>\n",
       "      <td>0.0986</td>\n",
       "      <td>0.1539</td>\n",
       "      <td>0.1601</td>\n",
       "      <td>0.3109</td>\n",
       "      <td>0.2111</td>\n",
       "      <td>...</td>\n",
       "      <td>0.0027</td>\n",
       "      <td>0.0065</td>\n",
       "      <td>0.0159</td>\n",
       "      <td>0.0072</td>\n",
       "      <td>0.0167</td>\n",
       "      <td>0.0180</td>\n",
       "      <td>0.0084</td>\n",
       "      <td>0.0090</td>\n",
       "      <td>0.0032</td>\n",
       "      <td>R</td>\n",
       "    </tr>\n",
       "    <tr>\n",
       "      <th>1</th>\n",
       "      <td>0.0453</td>\n",
       "      <td>0.0523</td>\n",
       "      <td>0.0843</td>\n",
       "      <td>0.0689</td>\n",
       "      <td>0.1183</td>\n",
       "      <td>0.2583</td>\n",
       "      <td>0.2156</td>\n",
       "      <td>0.3481</td>\n",
       "      <td>0.3337</td>\n",
       "      <td>0.2872</td>\n",
       "      <td>...</td>\n",
       "      <td>0.0084</td>\n",
       "      <td>0.0089</td>\n",
       "      <td>0.0048</td>\n",
       "      <td>0.0094</td>\n",
       "      <td>0.0191</td>\n",
       "      <td>0.0140</td>\n",
       "      <td>0.0049</td>\n",
       "      <td>0.0052</td>\n",
       "      <td>0.0044</td>\n",
       "      <td>R</td>\n",
       "    </tr>\n",
       "    <tr>\n",
       "      <th>2</th>\n",
       "      <td>0.0262</td>\n",
       "      <td>0.0582</td>\n",
       "      <td>0.1099</td>\n",
       "      <td>0.1083</td>\n",
       "      <td>0.0974</td>\n",
       "      <td>0.2280</td>\n",
       "      <td>0.2431</td>\n",
       "      <td>0.3771</td>\n",
       "      <td>0.5598</td>\n",
       "      <td>0.6194</td>\n",
       "      <td>...</td>\n",
       "      <td>0.0232</td>\n",
       "      <td>0.0166</td>\n",
       "      <td>0.0095</td>\n",
       "      <td>0.0180</td>\n",
       "      <td>0.0244</td>\n",
       "      <td>0.0316</td>\n",
       "      <td>0.0164</td>\n",
       "      <td>0.0095</td>\n",
       "      <td>0.0078</td>\n",
       "      <td>R</td>\n",
       "    </tr>\n",
       "    <tr>\n",
       "      <th>3</th>\n",
       "      <td>0.0100</td>\n",
       "      <td>0.0171</td>\n",
       "      <td>0.0623</td>\n",
       "      <td>0.0205</td>\n",
       "      <td>0.0205</td>\n",
       "      <td>0.0368</td>\n",
       "      <td>0.1098</td>\n",
       "      <td>0.1276</td>\n",
       "      <td>0.0598</td>\n",
       "      <td>0.1264</td>\n",
       "      <td>...</td>\n",
       "      <td>0.0121</td>\n",
       "      <td>0.0036</td>\n",
       "      <td>0.0150</td>\n",
       "      <td>0.0085</td>\n",
       "      <td>0.0073</td>\n",
       "      <td>0.0050</td>\n",
       "      <td>0.0044</td>\n",
       "      <td>0.0040</td>\n",
       "      <td>0.0117</td>\n",
       "      <td>R</td>\n",
       "    </tr>\n",
       "    <tr>\n",
       "      <th>4</th>\n",
       "      <td>0.0762</td>\n",
       "      <td>0.0666</td>\n",
       "      <td>0.0481</td>\n",
       "      <td>0.0394</td>\n",
       "      <td>0.0590</td>\n",
       "      <td>0.0649</td>\n",
       "      <td>0.1209</td>\n",
       "      <td>0.2467</td>\n",
       "      <td>0.3564</td>\n",
       "      <td>0.4459</td>\n",
       "      <td>...</td>\n",
       "      <td>0.0031</td>\n",
       "      <td>0.0054</td>\n",
       "      <td>0.0105</td>\n",
       "      <td>0.0110</td>\n",
       "      <td>0.0015</td>\n",
       "      <td>0.0072</td>\n",
       "      <td>0.0048</td>\n",
       "      <td>0.0107</td>\n",
       "      <td>0.0094</td>\n",
       "      <td>R</td>\n",
       "    </tr>\n",
       "  </tbody>\n",
       "</table>\n",
       "<p>5 rows × 61 columns</p>\n",
       "</div>"
      ],
      "text/plain": [
       "       0       1       2       3       4       5       6       7       8   \\\n",
       "0  0.0200  0.0371  0.0428  0.0207  0.0954  0.0986  0.1539  0.1601  0.3109   \n",
       "1  0.0453  0.0523  0.0843  0.0689  0.1183  0.2583  0.2156  0.3481  0.3337   \n",
       "2  0.0262  0.0582  0.1099  0.1083  0.0974  0.2280  0.2431  0.3771  0.5598   \n",
       "3  0.0100  0.0171  0.0623  0.0205  0.0205  0.0368  0.1098  0.1276  0.0598   \n",
       "4  0.0762  0.0666  0.0481  0.0394  0.0590  0.0649  0.1209  0.2467  0.3564   \n",
       "\n",
       "       9  ...      51      52      53      54      55      56      57      58  \\\n",
       "0  0.2111 ...  0.0027  0.0065  0.0159  0.0072  0.0167  0.0180  0.0084  0.0090   \n",
       "1  0.2872 ...  0.0084  0.0089  0.0048  0.0094  0.0191  0.0140  0.0049  0.0052   \n",
       "2  0.6194 ...  0.0232  0.0166  0.0095  0.0180  0.0244  0.0316  0.0164  0.0095   \n",
       "3  0.1264 ...  0.0121  0.0036  0.0150  0.0085  0.0073  0.0050  0.0044  0.0040   \n",
       "4  0.4459 ...  0.0031  0.0054  0.0105  0.0110  0.0015  0.0072  0.0048  0.0107   \n",
       "\n",
       "       59  60  \n",
       "0  0.0032   R  \n",
       "1  0.0044   R  \n",
       "2  0.0078   R  \n",
       "3  0.0117   R  \n",
       "4  0.0094   R  \n",
       "\n",
       "[5 rows x 61 columns]"
      ]
     },
     "execution_count": 2,
     "metadata": {},
     "output_type": "execute_result"
    }
   ],
   "source": [
    "url = 'https://archive.ics.uci.edu/ml/machine-learning-databases/undocumented/connectionist-bench/sonar/sonar.all-data'\n",
    "df = pd.read_csv(url, header=None)\n",
    "df.head()"
   ]
  },
  {
   "cell_type": "markdown",
   "metadata": {},
   "source": [
    "### Example of a sonar pattern for a rock (R) and mine (M)"
   ]
  },
  {
   "cell_type": "code",
   "execution_count": 3,
   "metadata": {},
   "outputs": [
    {
     "data": {
      "image/png": "[encoded data removed]",
      "text/plain": [
       "<Figure size 576x288 with 1 Axes>"
      ]
     },
     "metadata": {},
     "output_type": "display_data"
    }
   ],
   "source": [
    "plt.figure(figsize=(8,4));\n",
    "#plt.subplot(121);\n",
    "plt.plot(df.iloc[0, 0:60], label='Rock');\n",
    "plt.plot(df.iloc[203, 0:60], label='Mine');\n",
    "plt.legend();"
   ]
  },
  {
   "cell_type": "markdown",
   "metadata": {},
   "source": [
    "## Convert Text Labels to Integers\n",
    "\n",
    "You will create a Keras Neural Network to classify each record as a Mine or a Rock. \n",
    "\n",
    "Although, It is straightforward to keep the labels \"M\" or \"R\" in Keras and have working code, the goal is to save the model and then load the model into DeepLearning4J, a java framework. The Java Code to import has been prebuilt and precompiled and expects numeric labels"
   ]
  },
  {
   "cell_type": "code",
   "execution_count": 4,
   "metadata": {},
   "outputs": [],
   "source": [
    "df.iloc[:,-1].replace({'R':1, 'M':0}, inplace=True)"
   ]
  },
  {
   "cell_type": "markdown",
   "metadata": {},
   "source": [
    "## Shuffle the Data"
   ]
  },
  {
   "cell_type": "code",
   "execution_count": 5,
   "metadata": {},
   "outputs": [
    {
     "data": {
      "text/html": [
       "<div>\n",
       "<style scoped>\n",
       "    .dataframe tbody tr th:only-of-type {\n",
       "        vertical-align: middle;\n",
       "    }\n",
       "\n",
       "    .dataframe tbody tr th {\n",
       "        vertical-align: top;\n",
       "    }\n",
       "\n",
       "    .dataframe thead th {\n",
       "        text-align: right;\n",
       "    }\n",
       "</style>\n",
       "<table border=\"1\" class=\"dataframe\">\n",
       "  <thead>\n",
       "    <tr style=\"text-align: right;\">\n",
       "      <th></th>\n",
       "      <th>0</th>\n",
       "      <th>1</th>\n",
       "      <th>2</th>\n",
       "      <th>3</th>\n",
       "      <th>4</th>\n",
       "      <th>5</th>\n",
       "      <th>6</th>\n",
       "      <th>7</th>\n",
       "      <th>8</th>\n",
       "      <th>9</th>\n",
       "      <th>...</th>\n",
       "      <th>51</th>\n",
       "      <th>52</th>\n",
       "      <th>53</th>\n",
       "      <th>54</th>\n",
       "      <th>55</th>\n",
       "      <th>56</th>\n",
       "      <th>57</th>\n",
       "      <th>58</th>\n",
       "      <th>59</th>\n",
       "      <th>60</th>\n",
       "    </tr>\n",
       "  </thead>\n",
       "  <tbody>\n",
       "    <tr>\n",
       "      <th>186</th>\n",
       "      <td>0.0209</td>\n",
       "      <td>0.0191</td>\n",
       "      <td>0.0411</td>\n",
       "      <td>0.0321</td>\n",
       "      <td>0.0698</td>\n",
       "      <td>0.1579</td>\n",
       "      <td>0.1438</td>\n",
       "      <td>0.1402</td>\n",
       "      <td>0.3048</td>\n",
       "      <td>0.3914</td>\n",
       "      <td>...</td>\n",
       "      <td>0.0078</td>\n",
       "      <td>0.0201</td>\n",
       "      <td>0.0104</td>\n",
       "      <td>0.0039</td>\n",
       "      <td>0.0031</td>\n",
       "      <td>0.0062</td>\n",
       "      <td>0.0087</td>\n",
       "      <td>0.0070</td>\n",
       "      <td>0.0042</td>\n",
       "      <td>0</td>\n",
       "    </tr>\n",
       "    <tr>\n",
       "      <th>134</th>\n",
       "      <td>0.1083</td>\n",
       "      <td>0.1070</td>\n",
       "      <td>0.0257</td>\n",
       "      <td>0.0837</td>\n",
       "      <td>0.0748</td>\n",
       "      <td>0.1125</td>\n",
       "      <td>0.3322</td>\n",
       "      <td>0.4590</td>\n",
       "      <td>0.5526</td>\n",
       "      <td>0.5966</td>\n",
       "      <td>...</td>\n",
       "      <td>0.0180</td>\n",
       "      <td>0.0110</td>\n",
       "      <td>0.0234</td>\n",
       "      <td>0.0276</td>\n",
       "      <td>0.0032</td>\n",
       "      <td>0.0084</td>\n",
       "      <td>0.0122</td>\n",
       "      <td>0.0082</td>\n",
       "      <td>0.0143</td>\n",
       "      <td>0</td>\n",
       "    </tr>\n",
       "    <tr>\n",
       "      <th>165</th>\n",
       "      <td>0.0221</td>\n",
       "      <td>0.0065</td>\n",
       "      <td>0.0164</td>\n",
       "      <td>0.0487</td>\n",
       "      <td>0.0519</td>\n",
       "      <td>0.0849</td>\n",
       "      <td>0.0812</td>\n",
       "      <td>0.1833</td>\n",
       "      <td>0.2228</td>\n",
       "      <td>0.1810</td>\n",
       "      <td>...</td>\n",
       "      <td>0.0089</td>\n",
       "      <td>0.0051</td>\n",
       "      <td>0.0015</td>\n",
       "      <td>0.0075</td>\n",
       "      <td>0.0058</td>\n",
       "      <td>0.0016</td>\n",
       "      <td>0.0070</td>\n",
       "      <td>0.0074</td>\n",
       "      <td>0.0038</td>\n",
       "      <td>0</td>\n",
       "    </tr>\n",
       "    <tr>\n",
       "      <th>72</th>\n",
       "      <td>0.0208</td>\n",
       "      <td>0.0186</td>\n",
       "      <td>0.0131</td>\n",
       "      <td>0.0211</td>\n",
       "      <td>0.0610</td>\n",
       "      <td>0.0613</td>\n",
       "      <td>0.0612</td>\n",
       "      <td>0.0506</td>\n",
       "      <td>0.0989</td>\n",
       "      <td>0.1093</td>\n",
       "      <td>...</td>\n",
       "      <td>0.0074</td>\n",
       "      <td>0.0063</td>\n",
       "      <td>0.0081</td>\n",
       "      <td>0.0087</td>\n",
       "      <td>0.0044</td>\n",
       "      <td>0.0028</td>\n",
       "      <td>0.0019</td>\n",
       "      <td>0.0049</td>\n",
       "      <td>0.0023</td>\n",
       "      <td>1</td>\n",
       "    </tr>\n",
       "    <tr>\n",
       "      <th>109</th>\n",
       "      <td>0.0264</td>\n",
       "      <td>0.0071</td>\n",
       "      <td>0.0342</td>\n",
       "      <td>0.0793</td>\n",
       "      <td>0.1043</td>\n",
       "      <td>0.0783</td>\n",
       "      <td>0.1417</td>\n",
       "      <td>0.1176</td>\n",
       "      <td>0.0453</td>\n",
       "      <td>0.0945</td>\n",
       "      <td>...</td>\n",
       "      <td>0.0214</td>\n",
       "      <td>0.0262</td>\n",
       "      <td>0.0177</td>\n",
       "      <td>0.0037</td>\n",
       "      <td>0.0068</td>\n",
       "      <td>0.0121</td>\n",
       "      <td>0.0077</td>\n",
       "      <td>0.0078</td>\n",
       "      <td>0.0066</td>\n",
       "      <td>0</td>\n",
       "    </tr>\n",
       "  </tbody>\n",
       "</table>\n",
       "<p>5 rows × 61 columns</p>\n",
       "</div>"
      ],
      "text/plain": [
       "         0       1       2       3       4       5       6       7       8   \\\n",
       "186  0.0209  0.0191  0.0411  0.0321  0.0698  0.1579  0.1438  0.1402  0.3048   \n",
       "134  0.1083  0.1070  0.0257  0.0837  0.0748  0.1125  0.3322  0.4590  0.5526   \n",
       "165  0.0221  0.0065  0.0164  0.0487  0.0519  0.0849  0.0812  0.1833  0.2228   \n",
       "72   0.0208  0.0186  0.0131  0.0211  0.0610  0.0613  0.0612  0.0506  0.0989   \n",
       "109  0.0264  0.0071  0.0342  0.0793  0.1043  0.0783  0.1417  0.1176  0.0453   \n",
       "\n",
       "         9  ...      51      52      53      54      55      56      57  \\\n",
       "186  0.3914 ...  0.0078  0.0201  0.0104  0.0039  0.0031  0.0062  0.0087   \n",
       "134  0.5966 ...  0.0180  0.0110  0.0234  0.0276  0.0032  0.0084  0.0122   \n",
       "165  0.1810 ...  0.0089  0.0051  0.0015  0.0075  0.0058  0.0016  0.0070   \n",
       "72   0.1093 ...  0.0074  0.0063  0.0081  0.0087  0.0044  0.0028  0.0019   \n",
       "109  0.0945 ...  0.0214  0.0262  0.0177  0.0037  0.0068  0.0121  0.0077   \n",
       "\n",
       "         58      59  60  \n",
       "186  0.0070  0.0042   0  \n",
       "134  0.0082  0.0143   0  \n",
       "165  0.0074  0.0038   0  \n",
       "72   0.0049  0.0023   1  \n",
       "109  0.0078  0.0066   0  \n",
       "\n",
       "[5 rows x 61 columns]"
      ]
     },
     "execution_count": 5,
     "metadata": {},
     "output_type": "execute_result"
    }
   ],
   "source": [
    "df = df.sample(frac=1)\n",
    "df.head()"
   ]
  },
  {
   "cell_type": "markdown",
   "metadata": {},
   "source": [
    "## Build a (Simple) Neural Network"
   ]
  },
  {
   "cell_type": "code",
   "execution_count": 6,
   "metadata": {},
   "outputs": [],
   "source": [
    "# fix random seed for reproducibility\n",
    "seed = 7\n",
    "np.random.seed(seed)"
   ]
  },
  {
   "cell_type": "code",
   "execution_count": 7,
   "metadata": {},
   "outputs": [],
   "source": [
    "# split into input (X) and output (Y) variables\n",
    "X = df.iloc[:,0:60]\n",
    "Y = df.iloc[:,60]"
   ]
  },
  {
   "cell_type": "code",
   "execution_count": 8,
   "metadata": {},
   "outputs": [],
   "source": [
    "# encode class values as integers\n",
    "encoder = LabelEncoder()\n",
    "encoder.fit(Y)\n",
    "encoded_Y = encoder.transform(Y)\n",
    "\n",
    "# convert integers to dummy variables (hot encoded)\n",
    "dummy_y = np_utils.to_categorical(encoded_Y)"
   ]
  },
  {
   "cell_type": "code",
   "execution_count": 9,
   "metadata": {},
   "outputs": [],
   "source": [
    "X_train, X_test, y_train, y_test = train_test_split(X, dummy_y, test_size=0.2, random_state=7764)"
   ]
  },
  {
   "cell_type": "markdown",
   "metadata": {},
   "source": [
    "## Build a Model"
   ]
  },
  {
   "cell_type": "code",
   "execution_count": 10,
   "metadata": {},
   "outputs": [],
   "source": [
    "model = Sequential()\n",
    "model.add(Dense(100, input_dim=60, kernel_initializer='glorot_uniform', activation='relu'))\n",
    "model.add(Dropout(rate=0.2))\n",
    "model.add(BatchNormalization())\n",
    "model.add(Dense(50, kernel_initializer='glorot_uniform', activation='relu'))\n",
    "model.add(Dropout(rate=0.1))\n",
    "model.add(BatchNormalization())\n",
    "model.add(Dense(50, kernel_initializer='glorot_uniform', activation='relu'))\n",
    "model.add(Dropout(rate=0.2))\n",
    "model.add(BatchNormalization())\n",
    "model.add(Dense(2, kernel_initializer='glorot_uniform', activation='sigmoid'))"
   ]
  },
  {
   "cell_type": "markdown",
   "metadata": {},
   "source": [
    "## Compile the Model and Train\n",
    "\n",
    "Modify the following cell and set your number of epochs and your batch size. "
   ]
  },
  {
   "cell_type": "code",
   "execution_count": 11,
   "metadata": {},
   "outputs": [
    {
     "name": "stdout",
     "output_type": "stream",
     "text": [
      "Epoch 1/40\n",
      "166/166 [==============================] - 2s 12ms/step - loss: 0.8987 - acc: 0.5000\n",
      "Epoch 2/40\n",
      "166/166 [==============================] - 0s 102us/step - loss: 0.8293 - acc: 0.5060\n",
      "Epoch 3/40\n",
      "166/166 [==============================] - 0s 132us/step - loss: 0.7785 - acc: 0.5271\n",
      "Epoch 4/40\n",
      "166/166 [==============================] - 0s 90us/step - loss: 0.7560 - acc: 0.5512\n",
      "Epoch 5/40\n",
      "166/166 [==============================] - 0s 114us/step - loss: 0.7166 - acc: 0.5753\n",
      "Epoch 6/40\n",
      "166/166 [==============================] - 0s 120us/step - loss: 0.6657 - acc: 0.6355\n",
      "Epoch 7/40\n",
      "166/166 [==============================] - 0s 127us/step - loss: 0.6588 - acc: 0.6416\n",
      "Epoch 8/40\n",
      "166/166 [==============================] - 0s 96us/step - loss: 0.6243 - acc: 0.6627\n",
      "Epoch 9/40\n",
      "166/166 [==============================] - 0s 108us/step - loss: 0.5948 - acc: 0.6988\n",
      "Epoch 10/40\n",
      "166/166 [==============================] - 0s 102us/step - loss: 0.5630 - acc: 0.7048\n",
      "Epoch 11/40\n",
      "166/166 [==============================] - 0s 108us/step - loss: 0.6219 - acc: 0.6627\n",
      "Epoch 12/40\n",
      "166/166 [==============================] - 0s 114us/step - loss: 0.5857 - acc: 0.6777\n",
      "Epoch 13/40\n",
      "166/166 [==============================] - 0s 102us/step - loss: 0.5458 - acc: 0.7229\n",
      "Epoch 14/40\n",
      "166/166 [==============================] - 0s 120us/step - loss: 0.5804 - acc: 0.6928\n",
      "Epoch 15/40\n",
      "166/166 [==============================] - 0s 96us/step - loss: 0.4955 - acc: 0.7651\n",
      "Epoch 16/40\n",
      "166/166 [==============================] - 0s 114us/step - loss: 0.4882 - acc: 0.7681\n",
      "Epoch 17/40\n",
      "166/166 [==============================] - 0s 108us/step - loss: 0.4471 - acc: 0.7771\n",
      "Epoch 18/40\n",
      "166/166 [==============================] - 0s 108us/step - loss: 0.4878 - acc: 0.7590\n",
      "Epoch 19/40\n",
      "166/166 [==============================] - 0s 102us/step - loss: 0.4827 - acc: 0.7530\n",
      "Epoch 20/40\n",
      "166/166 [==============================] - 0s 102us/step - loss: 0.4544 - acc: 0.7741\n",
      "Epoch 21/40\n",
      "166/166 [==============================] - 0s 102us/step - loss: 0.4367 - acc: 0.7922\n",
      "Epoch 22/40\n",
      "166/166 [==============================] - 0s 108us/step - loss: 0.4263 - acc: 0.8012\n",
      "Epoch 23/40\n",
      "166/166 [==============================] - 0s 96us/step - loss: 0.4229 - acc: 0.8072\n",
      "Epoch 24/40\n",
      "166/166 [==============================] - 0s 108us/step - loss: 0.4091 - acc: 0.8102\n",
      "Epoch 25/40\n",
      "166/166 [==============================] - 0s 102us/step - loss: 0.3845 - acc: 0.8283\n",
      "Epoch 26/40\n",
      "166/166 [==============================] - 0s 96us/step - loss: 0.3597 - acc: 0.8404\n",
      "Epoch 27/40\n",
      "166/166 [==============================] - 0s 102us/step - loss: 0.3312 - acc: 0.8735\n",
      "Epoch 28/40\n",
      "166/166 [==============================] - 0s 96us/step - loss: 0.3380 - acc: 0.8645\n",
      "Epoch 29/40\n",
      "166/166 [==============================] - 0s 120us/step - loss: 0.3661 - acc: 0.8373\n",
      "Epoch 30/40\n",
      "166/166 [==============================] - 0s 96us/step - loss: 0.3234 - acc: 0.8735\n",
      "Epoch 31/40\n",
      "166/166 [==============================] - 0s 108us/step - loss: 0.3482 - acc: 0.8373\n",
      "Epoch 32/40\n",
      "166/166 [==============================] - 0s 96us/step - loss: 0.3353 - acc: 0.8645\n",
      "Epoch 33/40\n",
      "166/166 [==============================] - 0s 108us/step - loss: 0.2803 - acc: 0.8946\n",
      "Epoch 34/40\n",
      "166/166 [==============================] - 0s 102us/step - loss: 0.3195 - acc: 0.8735\n",
      "Epoch 35/40\n",
      "166/166 [==============================] - 0s 96us/step - loss: 0.2963 - acc: 0.8765\n",
      "Epoch 36/40\n",
      "166/166 [==============================] - 0s 114us/step - loss: 0.3009 - acc: 0.8795\n",
      "Epoch 37/40\n",
      "166/166 [==============================] - 0s 96us/step - loss: 0.2788 - acc: 0.8946\n",
      "Epoch 38/40\n",
      "166/166 [==============================] - 0s 114us/step - loss: 0.2465 - acc: 0.9036\n",
      "Epoch 39/40\n",
      "166/166 [==============================] - 0s 102us/step - loss: 0.2684 - acc: 0.8916\n",
      "Epoch 40/40\n",
      "166/166 [==============================] - 0s 108us/step - loss: 0.2593 - acc: 0.9006\n"
     ]
    },
    {
     "data": {
      "text/plain": [
       "<keras.callbacks.History at 0x20d4dce0c50>"
      ]
     },
     "execution_count": 11,
     "metadata": {},
     "output_type": "execute_result"
    }
   ],
   "source": [
    "# Compile model\n",
    "model.compile(loss='binary_crossentropy', optimizer='adam', metrics=['accuracy'])\n",
    "model.fit(X_train, y_train, epochs=40, batch_size=64)"
   ]
  },
  {
   "cell_type": "code",
   "execution_count": 12,
   "metadata": {},
   "outputs": [
    {
     "name": "stdout",
     "output_type": "stream",
     "text": [
      "42/42 [==============================] - 0s 6ms/step\n"
     ]
    },
    {
     "data": {
      "text/plain": [
       "[0.4784039258956909, 0.8571428514662243]"
      ]
     },
     "execution_count": 12,
     "metadata": {},
     "output_type": "execute_result"
    }
   ],
   "source": [
    "model.evaluate(x=X_test, y=y_test, verbose=1)"
   ]
  },
  {
   "cell_type": "code",
   "execution_count": 13,
   "metadata": {},
   "outputs": [],
   "source": [
    "#model.predict(X_test)"
   ]
  },
  {
   "cell_type": "markdown",
   "metadata": {},
   "source": [
    "## Save the Model"
   ]
  },
  {
   "cell_type": "markdown",
   "metadata": {},
   "source": [
    "The model can be loaded into dl4j and run in a Spark context. A saved model includes the weights and the computation graph needed for either further training or inference. In this example we will load the model into dl4j and pass it our datafile and evaluate the accuracy of the model in dl4j running in spark. "
   ]
  },
  {
   "cell_type": "code",
   "execution_count": 14,
   "metadata": {},
   "outputs": [],
   "source": [
    "model.save('model/my_modelx.h5')"
   ]
  },
  {
   "cell_type": "markdown",
   "metadata": {},
   "source": [
    "## Run Code in DL4J on Spark"
   ]
  },
  {
   "cell_type": "markdown",
   "metadata": {},
   "source": [
    "DL4J has a KerasModelImport feature. Java code has been written and compiled that will import a keras model, run the model on a spark cluster.  \n",
    "https://github.com/maxpumperla/dl4j_coursera/blob/master/src/main/java/skymind/dsx/KerasImportCSVSparkRunner.java\n",
    "\n",
    "This Jar has the compiled class.  \n",
    "https://github.com/maxpumperla/dl4j_coursera/releases/download/v0.4/dl4j-snapshot.jar\n",
    " \n",
    "The class KerasImportCSVSparkRunner takes the following command line options, \n",
    "\n",
    "* indexLabel\n",
    "    * Column in the data file containing Labels\n",
    "    * Labels must be numeric\n",
    "* train\n",
    "    * Set to true or false\n",
    "    * true: perform training using provided data file\n",
    "    * false: perform evaluation using provided data file\n",
    "* numClasses \n",
    "    * number of classes\n",
    "* modelFileName\n",
    "    * Saved h5 archive of your Keras Model\n",
    "* dataFileName \n",
    "    * DataFile to run training/evaluation with"
   ]
  },
  {
   "cell_type": "markdown",
   "metadata": {},
   "source": [
    "Set the next two code blocks to 'Code' instead of 'Raw' when running on a Spark cluster."
   ]
  },
  {
   "cell_type": "raw",
   "metadata": {},
   "source": [
    "!wget https://github.com/maxpumperla/dl4j_coursera/releases/download/v0.4/dl4j-snapshot.jar"
   ]
  },
  {
   "cell_type": "raw",
   "metadata": {},
   "source": [
    "! $SPARK_HOME/bin/spark-submit \\\n",
    " --class skymind.dsx.KerasImportCSVSparkRunner \\\n",
    " --files sonar.csv,my_modelx.h5 \\\n",
    " --master $MASTER \\\n",
    " dl4j-snapshot.jar \\\n",
    "   -batchSizePerWorker 15 \\\n",
    "   -indexLabel 60 \\\n",
    "   -train false \\\n",
    "   -numClasses 2 \\\n",
    "   -modelFileName  my_modelx.h5 \\\n",
    "-dataFileName sonar.csv"
   ]
  },
  {
   "cell_type": "code",
   "execution_count": null,
   "metadata": {},
   "outputs": [],
   "source": []
  }
 ],
 "metadata": {
  "kernelspec": {
   "display_name": "Python 3",
   "language": "python",
   "name": "python3"
  },
  "language_info": {
   "codemirror_mode": {
    "name": "ipython",
    "version": 3
   },
   "file_extension": ".py",
   "mimetype": "text/x-python",
   "name": "python",
   "nbconvert_exporter": "python",
   "pygments_lexer": "ipython3",
   "version": "3.6.5"
  }
 },
 "nbformat": 4,
 "nbformat_minor": 2
}
