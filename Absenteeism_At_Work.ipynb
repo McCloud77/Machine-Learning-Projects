{
 "cells": [
  {
   "cell_type": "markdown",
   "metadata": {},
   "source": [
    "## Load Required Libraries"
   ]
  },
  {
   "cell_type": "code",
   "execution_count": 1,
   "metadata": {
    "collapsed": true
   },
   "outputs": [],
   "source": [
    "import pandas as pd\n",
    "import numpy as np\n",
    "import itertools\n",
    "import seaborn as sns\n",
    "import matplotlib.pyplot as plt\n",
    "%matplotlib inline"
   ]
  },
  {
   "cell_type": "markdown",
   "metadata": {},
   "source": [
    "The data and code book can be viewed at https://archive.ics.uci.edu/ml/datasets/Absenteeism+at+work"
   ]
  },
  {
   "cell_type": "markdown",
   "metadata": {},
   "source": [
    "## Attribute Description"
   ]
  },
  {
   "cell_type": "markdown",
   "metadata": {},
   "source": [
    "- Individual identification (ID)\n",
    "- Reason for absence (ICD).\n",
    "\n",
    "Absences attested by the International Code of Diseases (ICD) stratified into 21 categories (I to XXI) as follows:\n",
    "\n",
    "I. Certain infectious and parasitic diseases  \n",
    "II. Neoplasms  \n",
    "III. Diseases of the blood and blood-forming organs and certain disorders involving the immune mechanism  \n",
    "IV. Endocrine, nutritional and metabolic diseases  \n",
    "V. Mental and behavioural disorders  \n",
    "VI. Diseases of the nervous system  \n",
    "VII. Diseases of the eye and adnexa  \n",
    "VIII. Diseases of the ear and mastoid process  \n",
    "IX. Diseases of the circulatory system  \n",
    "X. Diseases of the respiratory system  \n",
    "XI. Diseases of the digestive system  \n",
    "XII. Diseases of the skin and subcutaneous tissue  \n",
    "XIII. Diseases of the musculoskeletal system and connective tissue  \n",
    "XIV. Diseases of the genitourinary system  \n",
    "XV. Pregnancy, childbirth and the puerperium  \n",
    "XVI. Certain conditions originating in the perinatal period  \n",
    "XVII. Congenital malformations, deformations and chromosomal abnormalities  \n",
    "XVIII. Symptoms, signs and abnormal clinical and laboratory findings, not elsewhere classified  \n",
    "XIX. Injury, poisoning and certain other consequences of external causes  \n",
    "XX. External causes of morbidity and mortality  \n",
    "XXI. Factors influencing health status and contact with health services  \n",
    "\n",
    "And 7 categories without (CID) patient follow-up (22), medical consultation (23), blood donation (24), laboratory examination (25), unjustified absence (26), physiotherapy (27), dental consultation (28).\n",
    "\n",
    "- Month of absence\n",
    "- Day of the week (Monday (2), Tuesday (3), Wednesday (4), Thursday (5), Friday (6))\n",
    "- Seasons (summer (1), autumn (2), winter (3), spring (4))\n",
    "- Transportation expense\n",
    "- Distance from Residence to Work (kilometers)\n",
    "- Service time\n",
    "- Age\n",
    "- Work load Average/day\n",
    "- Hit target\n",
    "- Disciplinary failure (yes=1; no=0)\n",
    "- Education (high school (1), graduate (2), postgraduate (3), master and doctor (4))\n",
    "- Son (number of children)\n",
    "- Social drinker (yes=1; no=0)\n",
    "- Social smoker (yes=1; no=0)\n",
    "- Pet (number of pet)\n",
    "- Weight\n",
    "- Height\n",
    "- Body mass index\n",
    "- Absenteeism time in hours (target) "
   ]
  },
  {
   "cell_type": "markdown",
   "metadata": {},
   "source": [
    "## Load Data"
   ]
  },
  {
   "cell_type": "code",
   "execution_count": 2,
   "metadata": {},
   "outputs": [
    {
     "name": "stdout",
     "output_type": "stream",
     "text": [
      "(740, 21)\n"
     ]
    },
    {
     "data": {
      "text/html": [
       "<div>\n",
       "<style>\n",
       "    .dataframe thead tr:only-child th {\n",
       "        text-align: right;\n",
       "    }\n",
       "\n",
       "    .dataframe thead th {\n",
       "        text-align: left;\n",
       "    }\n",
       "\n",
       "    .dataframe tbody tr th {\n",
       "        vertical-align: top;\n",
       "    }\n",
       "</style>\n",
       "<table border=\"1\" class=\"dataframe\">\n",
       "  <thead>\n",
       "    <tr style=\"text-align: right;\">\n",
       "      <th></th>\n",
       "      <th>ID</th>\n",
       "      <th>Reason</th>\n",
       "      <th>Month</th>\n",
       "      <th>WeekDay</th>\n",
       "      <th>Season</th>\n",
       "      <th>TravelExpense</th>\n",
       "      <th>TravelDistance</th>\n",
       "      <th>ServiceTime</th>\n",
       "      <th>Age</th>\n",
       "      <th>WorkLoad</th>\n",
       "      <th>...</th>\n",
       "      <th>DisciplinaryFailure</th>\n",
       "      <th>Education</th>\n",
       "      <th>Son</th>\n",
       "      <th>SocialDrinker</th>\n",
       "      <th>SocialSmoker</th>\n",
       "      <th>Pet</th>\n",
       "      <th>Weight</th>\n",
       "      <th>Height</th>\n",
       "      <th>BMI</th>\n",
       "      <th>Absenteeism</th>\n",
       "    </tr>\n",
       "  </thead>\n",
       "  <tbody>\n",
       "    <tr>\n",
       "      <th>0</th>\n",
       "      <td>11</td>\n",
       "      <td>26</td>\n",
       "      <td>7</td>\n",
       "      <td>3</td>\n",
       "      <td>1</td>\n",
       "      <td>289</td>\n",
       "      <td>36</td>\n",
       "      <td>13</td>\n",
       "      <td>33</td>\n",
       "      <td>239.554</td>\n",
       "      <td>...</td>\n",
       "      <td>0</td>\n",
       "      <td>1</td>\n",
       "      <td>2</td>\n",
       "      <td>1</td>\n",
       "      <td>0</td>\n",
       "      <td>1</td>\n",
       "      <td>90</td>\n",
       "      <td>172</td>\n",
       "      <td>30</td>\n",
       "      <td>4</td>\n",
       "    </tr>\n",
       "    <tr>\n",
       "      <th>1</th>\n",
       "      <td>36</td>\n",
       "      <td>0</td>\n",
       "      <td>7</td>\n",
       "      <td>3</td>\n",
       "      <td>1</td>\n",
       "      <td>118</td>\n",
       "      <td>13</td>\n",
       "      <td>18</td>\n",
       "      <td>50</td>\n",
       "      <td>239.554</td>\n",
       "      <td>...</td>\n",
       "      <td>1</td>\n",
       "      <td>1</td>\n",
       "      <td>1</td>\n",
       "      <td>1</td>\n",
       "      <td>0</td>\n",
       "      <td>0</td>\n",
       "      <td>98</td>\n",
       "      <td>178</td>\n",
       "      <td>31</td>\n",
       "      <td>0</td>\n",
       "    </tr>\n",
       "    <tr>\n",
       "      <th>2</th>\n",
       "      <td>3</td>\n",
       "      <td>23</td>\n",
       "      <td>7</td>\n",
       "      <td>4</td>\n",
       "      <td>1</td>\n",
       "      <td>179</td>\n",
       "      <td>51</td>\n",
       "      <td>18</td>\n",
       "      <td>38</td>\n",
       "      <td>239.554</td>\n",
       "      <td>...</td>\n",
       "      <td>0</td>\n",
       "      <td>1</td>\n",
       "      <td>0</td>\n",
       "      <td>1</td>\n",
       "      <td>0</td>\n",
       "      <td>0</td>\n",
       "      <td>89</td>\n",
       "      <td>170</td>\n",
       "      <td>31</td>\n",
       "      <td>2</td>\n",
       "    </tr>\n",
       "    <tr>\n",
       "      <th>3</th>\n",
       "      <td>7</td>\n",
       "      <td>7</td>\n",
       "      <td>7</td>\n",
       "      <td>5</td>\n",
       "      <td>1</td>\n",
       "      <td>279</td>\n",
       "      <td>5</td>\n",
       "      <td>14</td>\n",
       "      <td>39</td>\n",
       "      <td>239.554</td>\n",
       "      <td>...</td>\n",
       "      <td>0</td>\n",
       "      <td>1</td>\n",
       "      <td>2</td>\n",
       "      <td>1</td>\n",
       "      <td>1</td>\n",
       "      <td>0</td>\n",
       "      <td>68</td>\n",
       "      <td>168</td>\n",
       "      <td>24</td>\n",
       "      <td>4</td>\n",
       "    </tr>\n",
       "    <tr>\n",
       "      <th>4</th>\n",
       "      <td>11</td>\n",
       "      <td>23</td>\n",
       "      <td>7</td>\n",
       "      <td>5</td>\n",
       "      <td>1</td>\n",
       "      <td>289</td>\n",
       "      <td>36</td>\n",
       "      <td>13</td>\n",
       "      <td>33</td>\n",
       "      <td>239.554</td>\n",
       "      <td>...</td>\n",
       "      <td>0</td>\n",
       "      <td>1</td>\n",
       "      <td>2</td>\n",
       "      <td>1</td>\n",
       "      <td>0</td>\n",
       "      <td>1</td>\n",
       "      <td>90</td>\n",
       "      <td>172</td>\n",
       "      <td>30</td>\n",
       "      <td>2</td>\n",
       "    </tr>\n",
       "  </tbody>\n",
       "</table>\n",
       "<p>5 rows × 21 columns</p>\n",
       "</div>"
      ],
      "text/plain": [
       "   ID  Reason  Month  WeekDay  Season  TravelExpense  TravelDistance  \\\n",
       "0  11      26      7        3       1            289              36   \n",
       "1  36       0      7        3       1            118              13   \n",
       "2   3      23      7        4       1            179              51   \n",
       "3   7       7      7        5       1            279               5   \n",
       "4  11      23      7        5       1            289              36   \n",
       "\n",
       "   ServiceTime  Age  WorkLoad     ...       DisciplinaryFailure  Education  \\\n",
       "0           13   33   239.554     ...                         0          1   \n",
       "1           18   50   239.554     ...                         1          1   \n",
       "2           18   38   239.554     ...                         0          1   \n",
       "3           14   39   239.554     ...                         0          1   \n",
       "4           13   33   239.554     ...                         0          1   \n",
       "\n",
       "   Son  SocialDrinker  SocialSmoker  Pet  Weight  Height  BMI  Absenteeism  \n",
       "0    2              1             0    1      90     172   30            4  \n",
       "1    1              1             0    0      98     178   31            0  \n",
       "2    0              1             0    0      89     170   31            2  \n",
       "3    2              1             1    0      68     168   24            4  \n",
       "4    2              1             0    1      90     172   30            2  \n",
       "\n",
       "[5 rows x 21 columns]"
      ]
     },
     "execution_count": 2,
     "metadata": {},
     "output_type": "execute_result"
    }
   ],
   "source": [
    "colnames = ['ID', 'Reason', 'Month', 'WeekDay', 'Season', 'TravelExpense', 'TravelDistance',\n",
    "             'ServiceTime', 'Age', 'WorkLoad', 'HitTarget', 'DisciplinaryFailure', 'Education',\n",
    "             'Son', 'SocialDrinker', 'SocialSmoker', 'Pet', 'Weight', 'Height', 'BMI', 'Absenteeism']\n",
    "\n",
    "df = pd.read_csv(\"data\\Absenteeism_at_work.csv\",\n",
    "                 sep=\";\",\n",
    "                 skiprows = 1,\n",
    "                 header=None,\n",
    "                 names = colnames)\n",
    "print(df.shape)\n",
    "df.head()"
   ]
  },
  {
   "cell_type": "markdown",
   "metadata": {},
   "source": [
    "Some data visualizations can be seen at https://public.tableau.com/profile/mccloud77#!/vizhome/Absenteeism_2/Dashboard1?publish=yes from which it can be inferred that no simple linear relationship between `absenteeism time in hours` and some (if not all) of the other explanatory variables exists."
   ]
  },
  {
   "cell_type": "markdown",
   "metadata": {},
   "source": [
    "## Data Exploration"
   ]
  },
  {
   "cell_type": "code",
   "execution_count": 3,
   "metadata": {},
   "outputs": [
    {
     "name": "stdout",
     "output_type": "stream",
     "text": [
      "0  /  21\n",
      "0  /  740\n"
     ]
    }
   ],
   "source": [
    "# Check any number of columns with NaN\n",
    "print(df.isnull().any().sum(), ' / ', len(df.columns))\n",
    "# Check any number of data points with NaN\n",
    "print(df.isnull().any(axis=1).sum(), ' / ', len(df))"
   ]
  },
  {
   "cell_type": "markdown",
   "metadata": {},
   "source": [
    "Examine correlations."
   ]
  },
  {
   "cell_type": "code",
   "execution_count": 4,
   "metadata": {},
   "outputs": [
    {
     "data": {
      "text/html": [
       "<style  type=\"text/css\" >\n",
       "    #T_b999f2ec_9efe_11e8_9ef0_fc3fdbb02c95row0_col0 {\n",
       "            background-color:  #023858;\n",
       "        }    #T_b999f2ec_9efe_11e8_9ef0_fc3fdbb02c95row0_col1 {\n",
       "            background-color:  #efe9f3;\n",
       "        }    #T_b999f2ec_9efe_11e8_9ef0_fc3fdbb02c95row0_col2 {\n",
       "            background-color:  #8bb2d4;\n",
       "        }    #T_b999f2ec_9efe_11e8_9ef0_fc3fdbb02c95row0_col3 {\n",
       "            background-color:  #abbfdc;\n",
       "        }    #T_b999f2ec_9efe_11e8_9ef0_fc3fdbb02c95row0_col4 {\n",
       "            background-color:  #cdd0e5;\n",
       "        }    #T_b999f2ec_9efe_11e8_9ef0_fc3fdbb02c95row0_col5 {\n",
       "            background-color:  #cccfe5;\n",
       "        }    #T_b999f2ec_9efe_11e8_9ef0_fc3fdbb02c95row0_col6 {\n",
       "            background-color:  #dfddec;\n",
       "        }    #T_b999f2ec_9efe_11e8_9ef0_fc3fdbb02c95row0_col7 {\n",
       "            background-color:  #fff7fb;\n",
       "        }    #T_b999f2ec_9efe_11e8_9ef0_fc3fdbb02c95row0_col8 {\n",
       "            background-color:  #fff7fb;\n",
       "        }    #T_b999f2ec_9efe_11e8_9ef0_fc3fdbb02c95row0_col9 {\n",
       "            background-color:  #d6d6e9;\n",
       "        }    #T_b999f2ec_9efe_11e8_9ef0_fc3fdbb02c95row0_col10 {\n",
       "            background-color:  #d1d2e6;\n",
       "        }    #T_b999f2ec_9efe_11e8_9ef0_fc3fdbb02c95row0_col11 {\n",
       "            background-color:  #d6d6e9;\n",
       "        }    #T_b999f2ec_9efe_11e8_9ef0_fc3fdbb02c95row0_col12 {\n",
       "            background-color:  #b4c4df;\n",
       "        }    #T_b999f2ec_9efe_11e8_9ef0_fc3fdbb02c95row0_col13 {\n",
       "            background-color:  #eae6f1;\n",
       "        }    #T_b999f2ec_9efe_11e8_9ef0_fc3fdbb02c95row0_col14 {\n",
       "            background-color:  #b3c3de;\n",
       "        }    #T_b999f2ec_9efe_11e8_9ef0_fc3fdbb02c95row0_col15 {\n",
       "            background-color:  #d1d2e6;\n",
       "        }    #T_b999f2ec_9efe_11e8_9ef0_fc3fdbb02c95row0_col16 {\n",
       "            background-color:  #d9d8ea;\n",
       "        }    #T_b999f2ec_9efe_11e8_9ef0_fc3fdbb02c95row0_col17 {\n",
       "            background-color:  #bdc8e1;\n",
       "        }    #T_b999f2ec_9efe_11e8_9ef0_fc3fdbb02c95row0_col18 {\n",
       "            background-color:  #ebe6f2;\n",
       "        }    #T_b999f2ec_9efe_11e8_9ef0_fc3fdbb02c95row1_col0 {\n",
       "            background-color:  #bcc7e1;\n",
       "        }    #T_b999f2ec_9efe_11e8_9ef0_fc3fdbb02c95row1_col1 {\n",
       "            background-color:  #023858;\n",
       "        }    #T_b999f2ec_9efe_11e8_9ef0_fc3fdbb02c95row1_col2 {\n",
       "            background-color:  #f0eaf4;\n",
       "        }    #T_b999f2ec_9efe_11e8_9ef0_fc3fdbb02c95row1_col3 {\n",
       "            background-color:  #c5cce3;\n",
       "        }    #T_b999f2ec_9efe_11e8_9ef0_fc3fdbb02c95row1_col4 {\n",
       "            background-color:  #afc1dd;\n",
       "        }    #T_b999f2ec_9efe_11e8_9ef0_fc3fdbb02c95row1_col5 {\n",
       "            background-color:  #b8c6e0;\n",
       "        }    #T_b999f2ec_9efe_11e8_9ef0_fc3fdbb02c95row1_col6 {\n",
       "            background-color:  #dddbec;\n",
       "        }    #T_b999f2ec_9efe_11e8_9ef0_fc3fdbb02c95row1_col7 {\n",
       "            background-color:  #e5e1ef;\n",
       "        }    #T_b999f2ec_9efe_11e8_9ef0_fc3fdbb02c95row1_col8 {\n",
       "            background-color:  #b3c3de;\n",
       "        }    #T_b999f2ec_9efe_11e8_9ef0_fc3fdbb02c95row1_col9 {\n",
       "            background-color:  #eee8f3;\n",
       "        }    #T_b999f2ec_9efe_11e8_9ef0_fc3fdbb02c95row1_col10 {\n",
       "            background-color:  #b3c3de;\n",
       "        }    #T_b999f2ec_9efe_11e8_9ef0_fc3fdbb02c95row1_col11 {\n",
       "            background-color:  #d2d3e7;\n",
       "        }    #T_b999f2ec_9efe_11e8_9ef0_fc3fdbb02c95row1_col12 {\n",
       "            background-color:  #b7c5df;\n",
       "        }    #T_b999f2ec_9efe_11e8_9ef0_fc3fdbb02c95row1_col13 {\n",
       "            background-color:  #e0deed;\n",
       "        }    #T_b999f2ec_9efe_11e8_9ef0_fc3fdbb02c95row1_col14 {\n",
       "            background-color:  #c4cbe3;\n",
       "        }    #T_b999f2ec_9efe_11e8_9ef0_fc3fdbb02c95row1_col15 {\n",
       "            background-color:  #ebe6f2;\n",
       "        }    #T_b999f2ec_9efe_11e8_9ef0_fc3fdbb02c95row1_col16 {\n",
       "            background-color:  #dbdaeb;\n",
       "        }    #T_b999f2ec_9efe_11e8_9ef0_fc3fdbb02c95row1_col17 {\n",
       "            background-color:  #dddbec;\n",
       "        }    #T_b999f2ec_9efe_11e8_9ef0_fc3fdbb02c95row1_col18 {\n",
       "            background-color:  #fff7fb;\n",
       "        }    #T_b999f2ec_9efe_11e8_9ef0_fc3fdbb02c95row2_col0 {\n",
       "            background-color:  #4496c3;\n",
       "        }    #T_b999f2ec_9efe_11e8_9ef0_fc3fdbb02c95row2_col1 {\n",
       "            background-color:  #e6e2ef;\n",
       "        }    #T_b999f2ec_9efe_11e8_9ef0_fc3fdbb02c95row2_col2 {\n",
       "            background-color:  #023858;\n",
       "        }    #T_b999f2ec_9efe_11e8_9ef0_fc3fdbb02c95row2_col3 {\n",
       "            background-color:  #c4cbe3;\n",
       "        }    #T_b999f2ec_9efe_11e8_9ef0_fc3fdbb02c95row2_col4 {\n",
       "            background-color:  #d9d8ea;\n",
       "        }    #T_b999f2ec_9efe_11e8_9ef0_fc3fdbb02c95row2_col5 {\n",
       "            background-color:  #c0c9e2;\n",
       "        }    #T_b999f2ec_9efe_11e8_9ef0_fc3fdbb02c95row2_col6 {\n",
       "            background-color:  #e0deed;\n",
       "        }    #T_b999f2ec_9efe_11e8_9ef0_fc3fdbb02c95row2_col7 {\n",
       "            background-color:  #c8cde4;\n",
       "        }    #T_b999f2ec_9efe_11e8_9ef0_fc3fdbb02c95row2_col8 {\n",
       "            background-color:  #c9cee4;\n",
       "        }    #T_b999f2ec_9efe_11e8_9ef0_fc3fdbb02c95row2_col9 {\n",
       "            background-color:  #cdd0e5;\n",
       "        }    #T_b999f2ec_9efe_11e8_9ef0_fc3fdbb02c95row2_col10 {\n",
       "            background-color:  #c1cae2;\n",
       "        }    #T_b999f2ec_9efe_11e8_9ef0_fc3fdbb02c95row2_col11 {\n",
       "            background-color:  #dcdaeb;\n",
       "        }    #T_b999f2ec_9efe_11e8_9ef0_fc3fdbb02c95row2_col12 {\n",
       "            background-color:  #cccfe5;\n",
       "        }    #T_b999f2ec_9efe_11e8_9ef0_fc3fdbb02c95row2_col13 {\n",
       "            background-color:  #ece7f2;\n",
       "        }    #T_b999f2ec_9efe_11e8_9ef0_fc3fdbb02c95row2_col14 {\n",
       "            background-color:  #bbc7e0;\n",
       "        }    #T_b999f2ec_9efe_11e8_9ef0_fc3fdbb02c95row2_col15 {\n",
       "            background-color:  #d9d8ea;\n",
       "        }    #T_b999f2ec_9efe_11e8_9ef0_fc3fdbb02c95row2_col16 {\n",
       "            background-color:  #d3d4e7;\n",
       "        }    #T_b999f2ec_9efe_11e8_9ef0_fc3fdbb02c95row2_col17 {\n",
       "            background-color:  #cdd0e5;\n",
       "        }    #T_b999f2ec_9efe_11e8_9ef0_fc3fdbb02c95row2_col18 {\n",
       "            background-color:  #efe9f3;\n",
       "        }    #T_b999f2ec_9efe_11e8_9ef0_fc3fdbb02c95row3_col0 {\n",
       "            background-color:  #99b8d8;\n",
       "        }    #T_b999f2ec_9efe_11e8_9ef0_fc3fdbb02c95row3_col1 {\n",
       "            background-color:  #e8e4f0;\n",
       "        }    #T_b999f2ec_9efe_11e8_9ef0_fc3fdbb02c95row3_col2 {\n",
       "            background-color:  #f1ebf4;\n",
       "        }    #T_b999f2ec_9efe_11e8_9ef0_fc3fdbb02c95row3_col3 {\n",
       "            background-color:  #023858;\n",
       "        }    #T_b999f2ec_9efe_11e8_9ef0_fc3fdbb02c95row3_col4 {\n",
       "            background-color:  #86b0d3;\n",
       "        }    #T_b999f2ec_9efe_11e8_9ef0_fc3fdbb02c95row3_col5 {\n",
       "            background-color:  #f5eff6;\n",
       "        }    #T_b999f2ec_9efe_11e8_9ef0_fc3fdbb02c95row3_col6 {\n",
       "            background-color:  #fff7fb;\n",
       "        }    #T_b999f2ec_9efe_11e8_9ef0_fc3fdbb02c95row3_col7 {\n",
       "            background-color:  #e7e3f0;\n",
       "        }    #T_b999f2ec_9efe_11e8_9ef0_fc3fdbb02c95row3_col8 {\n",
       "            background-color:  #cdd0e5;\n",
       "        }    #T_b999f2ec_9efe_11e8_9ef0_fc3fdbb02c95row3_col9 {\n",
       "            background-color:  #d6d6e9;\n",
       "        }    #T_b999f2ec_9efe_11e8_9ef0_fc3fdbb02c95row3_col10 {\n",
       "            background-color:  #ced0e6;\n",
       "        }    #T_b999f2ec_9efe_11e8_9ef0_fc3fdbb02c95row3_col11 {\n",
       "            background-color:  #7bacd1;\n",
       "        }    #T_b999f2ec_9efe_11e8_9ef0_fc3fdbb02c95row3_col12 {\n",
       "            background-color:  #9ebad9;\n",
       "        }    #T_b999f2ec_9efe_11e8_9ef0_fc3fdbb02c95row3_col13 {\n",
       "            background-color:  #dbdaeb;\n",
       "        }    #T_b999f2ec_9efe_11e8_9ef0_fc3fdbb02c95row3_col14 {\n",
       "            background-color:  #4a98c5;\n",
       "        }    #T_b999f2ec_9efe_11e8_9ef0_fc3fdbb02c95row3_col15 {\n",
       "            background-color:  #f4eef6;\n",
       "        }    #T_b999f2ec_9efe_11e8_9ef0_fc3fdbb02c95row3_col16 {\n",
       "            background-color:  #ede8f3;\n",
       "        }    #T_b999f2ec_9efe_11e8_9ef0_fc3fdbb02c95row3_col17 {\n",
       "            background-color:  #e2dfee;\n",
       "        }    #T_b999f2ec_9efe_11e8_9ef0_fc3fdbb02c95row3_col18 {\n",
       "            background-color:  #eae6f1;\n",
       "        }    #T_b999f2ec_9efe_11e8_9ef0_fc3fdbb02c95row4_col0 {\n",
       "            background-color:  #bbc7e0;\n",
       "        }    #T_b999f2ec_9efe_11e8_9ef0_fc3fdbb02c95row4_col1 {\n",
       "            background-color:  #d7d6e9;\n",
       "        }    #T_b999f2ec_9efe_11e8_9ef0_fc3fdbb02c95row4_col2 {\n",
       "            background-color:  #fff7fb;\n",
       "        }    #T_b999f2ec_9efe_11e8_9ef0_fc3fdbb02c95row4_col3 {\n",
       "            background-color:  #86b0d3;\n",
       "        }    #T_b999f2ec_9efe_11e8_9ef0_fc3fdbb02c95row4_col4 {\n",
       "            background-color:  #023858;\n",
       "        }    #T_b999f2ec_9efe_11e8_9ef0_fc3fdbb02c95row4_col5 {\n",
       "            background-color:  #9ebad9;\n",
       "        }    #T_b999f2ec_9efe_11e8_9ef0_fc3fdbb02c95row4_col6 {\n",
       "            background-color:  #f5eef6;\n",
       "        }    #T_b999f2ec_9efe_11e8_9ef0_fc3fdbb02c95row4_col7 {\n",
       "            background-color:  #f2ecf5;\n",
       "        }    #T_b999f2ec_9efe_11e8_9ef0_fc3fdbb02c95row4_col8 {\n",
       "            background-color:  #bdc8e1;\n",
       "        }    #T_b999f2ec_9efe_11e8_9ef0_fc3fdbb02c95row4_col9 {\n",
       "            background-color:  #f3edf5;\n",
       "        }    #T_b999f2ec_9efe_11e8_9ef0_fc3fdbb02c95row4_col10 {\n",
       "            background-color:  #eee9f3;\n",
       "        }    #T_b999f2ec_9efe_11e8_9ef0_fc3fdbb02c95row4_col11 {\n",
       "            background-color:  #dad9ea;\n",
       "        }    #T_b999f2ec_9efe_11e8_9ef0_fc3fdbb02c95row4_col12 {\n",
       "            background-color:  #3b92c1;\n",
       "        }    #T_b999f2ec_9efe_11e8_9ef0_fc3fdbb02c95row4_col13 {\n",
       "            background-color:  #f0eaf4;\n",
       "        }    #T_b999f2ec_9efe_11e8_9ef0_fc3fdbb02c95row4_col14 {\n",
       "            background-color:  #89b1d4;\n",
       "        }    #T_b999f2ec_9efe_11e8_9ef0_fc3fdbb02c95row4_col15 {\n",
       "            background-color:  #dddbec;\n",
       "        }    #T_b999f2ec_9efe_11e8_9ef0_fc3fdbb02c95row4_col16 {\n",
       "            background-color:  #fff7fb;\n",
       "        }    #T_b999f2ec_9efe_11e8_9ef0_fc3fdbb02c95row4_col17 {\n",
       "            background-color:  #adc1dd;\n",
       "        }    #T_b999f2ec_9efe_11e8_9ef0_fc3fdbb02c95row4_col18 {\n",
       "            background-color:  #faf3f9;\n",
       "        }    #T_b999f2ec_9efe_11e8_9ef0_fc3fdbb02c95row5_col0 {\n",
       "            background-color:  #c9cee4;\n",
       "        }    #T_b999f2ec_9efe_11e8_9ef0_fc3fdbb02c95row5_col1 {\n",
       "            background-color:  #eae6f1;\n",
       "        }    #T_b999f2ec_9efe_11e8_9ef0_fc3fdbb02c95row5_col2 {\n",
       "            background-color:  #f8f1f8;\n",
       "        }    #T_b999f2ec_9efe_11e8_9ef0_fc3fdbb02c95row5_col3 {\n",
       "            background-color:  #fff7fb;\n",
       "        }    #T_b999f2ec_9efe_11e8_9ef0_fc3fdbb02c95row5_col4 {\n",
       "            background-color:  #acc0dd;\n",
       "        }    #T_b999f2ec_9efe_11e8_9ef0_fc3fdbb02c95row5_col5 {\n",
       "            background-color:  #023858;\n",
       "        }    #T_b999f2ec_9efe_11e8_9ef0_fc3fdbb02c95row5_col6 {\n",
       "            background-color:  #0c74b2;\n",
       "        }    #T_b999f2ec_9efe_11e8_9ef0_fc3fdbb02c95row5_col7 {\n",
       "            background-color:  #e7e3f0;\n",
       "        }    #T_b999f2ec_9efe_11e8_9ef0_fc3fdbb02c95row5_col8 {\n",
       "            background-color:  #bcc7e1;\n",
       "        }    #T_b999f2ec_9efe_11e8_9ef0_fc3fdbb02c95row5_col9 {\n",
       "            background-color:  #ece7f2;\n",
       "        }    #T_b999f2ec_9efe_11e8_9ef0_fc3fdbb02c95row5_col10 {\n",
       "            background-color:  #e7e3f0;\n",
       "        }    #T_b999f2ec_9efe_11e8_9ef0_fc3fdbb02c95row5_col11 {\n",
       "            background-color:  #ede8f3;\n",
       "        }    #T_b999f2ec_9efe_11e8_9ef0_fc3fdbb02c95row5_col12 {\n",
       "            background-color:  #5ea0ca;\n",
       "        }    #T_b999f2ec_9efe_11e8_9ef0_fc3fdbb02c95row5_col13 {\n",
       "            background-color:  #d6d6e9;\n",
       "        }    #T_b999f2ec_9efe_11e8_9ef0_fc3fdbb02c95row5_col14 {\n",
       "            background-color:  #fff7fb;\n",
       "        }    #T_b999f2ec_9efe_11e8_9ef0_fc3fdbb02c95row5_col15 {\n",
       "            background-color:  #4c99c5;\n",
       "        }    #T_b999f2ec_9efe_11e8_9ef0_fc3fdbb02c95row5_col16 {\n",
       "            background-color:  #d7d6e9;\n",
       "        }    #T_b999f2ec_9efe_11e8_9ef0_fc3fdbb02c95row5_col17 {\n",
       "            background-color:  #328dbf;\n",
       "        }    #T_b999f2ec_9efe_11e8_9ef0_fc3fdbb02c95row5_col18 {\n",
       "            background-color:  #ece7f2;\n",
       "        }    #T_b999f2ec_9efe_11e8_9ef0_fc3fdbb02c95row6_col0 {\n",
       "            background-color:  #bbc7e0;\n",
       "        }    #T_b999f2ec_9efe_11e8_9ef0_fc3fdbb02c95row6_col1 {\n",
       "            background-color:  #ede8f3;\n",
       "        }    #T_b999f2ec_9efe_11e8_9ef0_fc3fdbb02c95row6_col2 {\n",
       "            background-color:  #f8f1f8;\n",
       "        }    #T_b999f2ec_9efe_11e8_9ef0_fc3fdbb02c95row6_col3 {\n",
       "            background-color:  #f1ebf5;\n",
       "        }    #T_b999f2ec_9efe_11e8_9ef0_fc3fdbb02c95row6_col4 {\n",
       "            background-color:  #e6e2ef;\n",
       "        }    #T_b999f2ec_9efe_11e8_9ef0_fc3fdbb02c95row6_col5 {\n",
       "            background-color:  #056caa;\n",
       "        }    #T_b999f2ec_9efe_11e8_9ef0_fc3fdbb02c95row6_col6 {\n",
       "            background-color:  #023858;\n",
       "        }    #T_b999f2ec_9efe_11e8_9ef0_fc3fdbb02c95row6_col7 {\n",
       "            background-color:  #eee9f3;\n",
       "        }    #T_b999f2ec_9efe_11e8_9ef0_fc3fdbb02c95row6_col8 {\n",
       "            background-color:  #c4cbe3;\n",
       "        }    #T_b999f2ec_9efe_11e8_9ef0_fc3fdbb02c95row6_col9 {\n",
       "            background-color:  #d7d6e9;\n",
       "        }    #T_b999f2ec_9efe_11e8_9ef0_fc3fdbb02c95row6_col10 {\n",
       "            background-color:  #e9e5f1;\n",
       "        }    #T_b999f2ec_9efe_11e8_9ef0_fc3fdbb02c95row6_col11 {\n",
       "            background-color:  #dad9ea;\n",
       "        }    #T_b999f2ec_9efe_11e8_9ef0_fc3fdbb02c95row6_col12 {\n",
       "            background-color:  #89b1d4;\n",
       "        }    #T_b999f2ec_9efe_11e8_9ef0_fc3fdbb02c95row6_col13 {\n",
       "            background-color:  #cacee5;\n",
       "        }    #T_b999f2ec_9efe_11e8_9ef0_fc3fdbb02c95row6_col14 {\n",
       "            background-color:  #e7e3f0;\n",
       "        }    #T_b999f2ec_9efe_11e8_9ef0_fc3fdbb02c95row6_col15 {\n",
       "            background-color:  #5a9ec9;\n",
       "        }    #T_b999f2ec_9efe_11e8_9ef0_fc3fdbb02c95row6_col16 {\n",
       "            background-color:  #d9d8ea;\n",
       "        }    #T_b999f2ec_9efe_11e8_9ef0_fc3fdbb02c95row6_col17 {\n",
       "            background-color:  #3d93c2;\n",
       "        }    #T_b999f2ec_9efe_11e8_9ef0_fc3fdbb02c95row6_col18 {\n",
       "            background-color:  #e2dfee;\n",
       "        }    #T_b999f2ec_9efe_11e8_9ef0_fc3fdbb02c95row7_col0 {\n",
       "            background-color:  #dcdaeb;\n",
       "        }    #T_b999f2ec_9efe_11e8_9ef0_fc3fdbb02c95row7_col1 {\n",
       "            background-color:  #ece7f2;\n",
       "        }    #T_b999f2ec_9efe_11e8_9ef0_fc3fdbb02c95row7_col2 {\n",
       "            background-color:  #dbdaeb;\n",
       "        }    #T_b999f2ec_9efe_11e8_9ef0_fc3fdbb02c95row7_col3 {\n",
       "            background-color:  #cccfe5;\n",
       "        }    #T_b999f2ec_9efe_11e8_9ef0_fc3fdbb02c95row7_col4 {\n",
       "            background-color:  #d9d8ea;\n",
       "        }    #T_b999f2ec_9efe_11e8_9ef0_fc3fdbb02c95row7_col5 {\n",
       "            background-color:  #bdc8e1;\n",
       "        }    #T_b999f2ec_9efe_11e8_9ef0_fc3fdbb02c95row7_col6 {\n",
       "            background-color:  #e6e2ef;\n",
       "        }    #T_b999f2ec_9efe_11e8_9ef0_fc3fdbb02c95row7_col7 {\n",
       "            background-color:  #023858;\n",
       "        }    #T_b999f2ec_9efe_11e8_9ef0_fc3fdbb02c95row7_col8 {\n",
       "            background-color:  #ced0e6;\n",
       "        }    #T_b999f2ec_9efe_11e8_9ef0_fc3fdbb02c95row7_col9 {\n",
       "            background-color:  #e6e2ef;\n",
       "        }    #T_b999f2ec_9efe_11e8_9ef0_fc3fdbb02c95row7_col10 {\n",
       "            background-color:  #d2d2e7;\n",
       "        }    #T_b999f2ec_9efe_11e8_9ef0_fc3fdbb02c95row7_col11 {\n",
       "            background-color:  #e0dded;\n",
       "        }    #T_b999f2ec_9efe_11e8_9ef0_fc3fdbb02c95row7_col12 {\n",
       "            background-color:  #c9cee4;\n",
       "        }    #T_b999f2ec_9efe_11e8_9ef0_fc3fdbb02c95row7_col13 {\n",
       "            background-color:  #dddbec;\n",
       "        }    #T_b999f2ec_9efe_11e8_9ef0_fc3fdbb02c95row7_col14 {\n",
       "            background-color:  #bcc7e1;\n",
       "        }    #T_b999f2ec_9efe_11e8_9ef0_fc3fdbb02c95row7_col15 {\n",
       "            background-color:  #dbdaeb;\n",
       "        }    #T_b999f2ec_9efe_11e8_9ef0_fc3fdbb02c95row7_col16 {\n",
       "            background-color:  #b3c3de;\n",
       "        }    #T_b999f2ec_9efe_11e8_9ef0_fc3fdbb02c95row7_col17 {\n",
       "            background-color:  #dbdaeb;\n",
       "        }    #T_b999f2ec_9efe_11e8_9ef0_fc3fdbb02c95row7_col18 {\n",
       "            background-color:  #ebe6f2;\n",
       "        }    #T_b999f2ec_9efe_11e8_9ef0_fc3fdbb02c95row8_col0 {\n",
       "            background-color:  #fff7fb;\n",
       "        }    #T_b999f2ec_9efe_11e8_9ef0_fc3fdbb02c95row8_col1 {\n",
       "            background-color:  #e8e4f0;\n",
       "        }    #T_b999f2ec_9efe_11e8_9ef0_fc3fdbb02c95row8_col2 {\n",
       "            background-color:  #fff7fb;\n",
       "        }    #T_b999f2ec_9efe_11e8_9ef0_fc3fdbb02c95row8_col3 {\n",
       "            background-color:  #dbdaeb;\n",
       "        }    #T_b999f2ec_9efe_11e8_9ef0_fc3fdbb02c95row8_col4 {\n",
       "            background-color:  #d0d1e6;\n",
       "        }    #T_b999f2ec_9efe_11e8_9ef0_fc3fdbb02c95row8_col5 {\n",
       "            background-color:  #c0c9e2;\n",
       "        }    #T_b999f2ec_9efe_11e8_9ef0_fc3fdbb02c95row8_col6 {\n",
       "            background-color:  #e6e2ef;\n",
       "        }    #T_b999f2ec_9efe_11e8_9ef0_fc3fdbb02c95row8_col7 {\n",
       "            background-color:  #f5eef6;\n",
       "        }    #T_b999f2ec_9efe_11e8_9ef0_fc3fdbb02c95row8_col8 {\n",
       "            background-color:  #023858;\n",
       "        }    #T_b999f2ec_9efe_11e8_9ef0_fc3fdbb02c95row8_col9 {\n",
       "            background-color:  #fff7fb;\n",
       "        }    #T_b999f2ec_9efe_11e8_9ef0_fc3fdbb02c95row8_col10 {\n",
       "            background-color:  #a9bfdc;\n",
       "        }    #T_b999f2ec_9efe_11e8_9ef0_fc3fdbb02c95row8_col11 {\n",
       "            background-color:  #e7e3f0;\n",
       "        }    #T_b999f2ec_9efe_11e8_9ef0_fc3fdbb02c95row8_col12 {\n",
       "            background-color:  #d6d6e9;\n",
       "        }    #T_b999f2ec_9efe_11e8_9ef0_fc3fdbb02c95row8_col13 {\n",
       "            background-color:  #d9d8ea;\n",
       "        }    #T_b999f2ec_9efe_11e8_9ef0_fc3fdbb02c95row8_col14 {\n",
       "            background-color:  #bcc7e1;\n",
       "        }    #T_b999f2ec_9efe_11e8_9ef0_fc3fdbb02c95row8_col15 {\n",
       "            background-color:  #dcdaeb;\n",
       "        }    #T_b999f2ec_9efe_11e8_9ef0_fc3fdbb02c95row8_col16 {\n",
       "            background-color:  #b5c4df;\n",
       "        }    #T_b999f2ec_9efe_11e8_9ef0_fc3fdbb02c95row8_col17 {\n",
       "            background-color:  #dad9ea;\n",
       "        }    #T_b999f2ec_9efe_11e8_9ef0_fc3fdbb02c95row8_col18 {\n",
       "            background-color:  #eae6f1;\n",
       "        }    #T_b999f2ec_9efe_11e8_9ef0_fc3fdbb02c95row9_col0 {\n",
       "            background-color:  #a1bbda;\n",
       "        }    #T_b999f2ec_9efe_11e8_9ef0_fc3fdbb02c95row9_col1 {\n",
       "            background-color:  #f0eaf4;\n",
       "        }    #T_b999f2ec_9efe_11e8_9ef0_fc3fdbb02c95row9_col2 {\n",
       "            background-color:  #dbdaeb;\n",
       "        }    #T_b999f2ec_9efe_11e8_9ef0_fc3fdbb02c95row9_col3 {\n",
       "            background-color:  #b1c2de;\n",
       "        }    #T_b999f2ec_9efe_11e8_9ef0_fc3fdbb02c95row9_col4 {\n",
       "            background-color:  #d7d6e9;\n",
       "        }    #T_b999f2ec_9efe_11e8_9ef0_fc3fdbb02c95row9_col5 {\n",
       "            background-color:  #bdc8e1;\n",
       "        }    #T_b999f2ec_9efe_11e8_9ef0_fc3fdbb02c95row9_col6 {\n",
       "            background-color:  #c9cee4;\n",
       "        }    #T_b999f2ec_9efe_11e8_9ef0_fc3fdbb02c95row9_col7 {\n",
       "            background-color:  #e2dfee;\n",
       "        }    #T_b999f2ec_9efe_11e8_9ef0_fc3fdbb02c95row9_col8 {\n",
       "            background-color:  #d9d8ea;\n",
       "        }    #T_b999f2ec_9efe_11e8_9ef0_fc3fdbb02c95row9_col9 {\n",
       "            background-color:  #023858;\n",
       "        }    #T_b999f2ec_9efe_11e8_9ef0_fc3fdbb02c95row9_col10 {\n",
       "            background-color:  #ced0e6;\n",
       "        }    #T_b999f2ec_9efe_11e8_9ef0_fc3fdbb02c95row9_col11 {\n",
       "            background-color:  #d7d6e9;\n",
       "        }    #T_b999f2ec_9efe_11e8_9ef0_fc3fdbb02c95row9_col12 {\n",
       "            background-color:  #b4c4df;\n",
       "        }    #T_b999f2ec_9efe_11e8_9ef0_fc3fdbb02c95row9_col13 {\n",
       "            background-color:  #cccfe5;\n",
       "        }    #T_b999f2ec_9efe_11e8_9ef0_fc3fdbb02c95row9_col14 {\n",
       "            background-color:  #b9c6e0;\n",
       "        }    #T_b999f2ec_9efe_11e8_9ef0_fc3fdbb02c95row9_col15 {\n",
       "            background-color:  #c4cbe3;\n",
       "        }    #T_b999f2ec_9efe_11e8_9ef0_fc3fdbb02c95row9_col16 {\n",
       "            background-color:  #d0d1e6;\n",
       "        }    #T_b999f2ec_9efe_11e8_9ef0_fc3fdbb02c95row9_col17 {\n",
       "            background-color:  #b7c5df;\n",
       "        }    #T_b999f2ec_9efe_11e8_9ef0_fc3fdbb02c95row9_col18 {\n",
       "            background-color:  #fff7fb;\n",
       "        }    #T_b999f2ec_9efe_11e8_9ef0_fc3fdbb02c95row10_col0 {\n",
       "            background-color:  #c9cee4;\n",
       "        }    #T_b999f2ec_9efe_11e8_9ef0_fc3fdbb02c95row10_col1 {\n",
       "            background-color:  #e3e0ee;\n",
       "        }    #T_b999f2ec_9efe_11e8_9ef0_fc3fdbb02c95row10_col2 {\n",
       "            background-color:  #f7f0f7;\n",
       "        }    #T_b999f2ec_9efe_11e8_9ef0_fc3fdbb02c95row10_col3 {\n",
       "            background-color:  #d8d7e9;\n",
       "        }    #T_b999f2ec_9efe_11e8_9ef0_fc3fdbb02c95row10_col4 {\n",
       "            background-color:  #f5eef6;\n",
       "        }    #T_b999f2ec_9efe_11e8_9ef0_fc3fdbb02c95row10_col5 {\n",
       "            background-color:  #e5e1ef;\n",
       "        }    #T_b999f2ec_9efe_11e8_9ef0_fc3fdbb02c95row10_col6 {\n",
       "            background-color:  #fef6fb;\n",
       "        }    #T_b999f2ec_9efe_11e8_9ef0_fc3fdbb02c95row10_col7 {\n",
       "            background-color:  #f3edf5;\n",
       "        }    #T_b999f2ec_9efe_11e8_9ef0_fc3fdbb02c95row10_col8 {\n",
       "            background-color:  #a2bcda;\n",
       "        }    #T_b999f2ec_9efe_11e8_9ef0_fc3fdbb02c95row10_col9 {\n",
       "            background-color:  #f4edf6;\n",
       "        }    #T_b999f2ec_9efe_11e8_9ef0_fc3fdbb02c95row10_col10 {\n",
       "            background-color:  #023858;\n",
       "        }    #T_b999f2ec_9efe_11e8_9ef0_fc3fdbb02c95row10_col11 {\n",
       "            background-color:  #fff7fb;\n",
       "        }    #T_b999f2ec_9efe_11e8_9ef0_fc3fdbb02c95row10_col12 {\n",
       "            background-color:  #fff7fb;\n",
       "        }    #T_b999f2ec_9efe_11e8_9ef0_fc3fdbb02c95row10_col13 {\n",
       "            background-color:  #dddbec;\n",
       "        }    #T_b999f2ec_9efe_11e8_9ef0_fc3fdbb02c95row10_col14 {\n",
       "            background-color:  #cacee5;\n",
       "        }    #T_b999f2ec_9efe_11e8_9ef0_fc3fdbb02c95row10_col15 {\n",
       "            background-color:  #fff7fb;\n",
       "        }    #T_b999f2ec_9efe_11e8_9ef0_fc3fdbb02c95row10_col16 {\n",
       "            background-color:  #b4c4df;\n",
       "        }    #T_b999f2ec_9efe_11e8_9ef0_fc3fdbb02c95row10_col17 {\n",
       "            background-color:  #fff7fb;\n",
       "        }    #T_b999f2ec_9efe_11e8_9ef0_fc3fdbb02c95row10_col18 {\n",
       "            background-color:  #f5eef6;\n",
       "        }    #T_b999f2ec_9efe_11e8_9ef0_fc3fdbb02c95row11_col0 {\n",
       "            background-color:  #a8bedc;\n",
       "        }    #T_b999f2ec_9efe_11e8_9ef0_fc3fdbb02c95row11_col1 {\n",
       "            background-color:  #dbdaeb;\n",
       "        }    #T_b999f2ec_9efe_11e8_9ef0_fc3fdbb02c95row11_col2 {\n",
       "            background-color:  #f0eaf4;\n",
       "        }    #T_b999f2ec_9efe_11e8_9ef0_fc3fdbb02c95row11_col3 {\n",
       "            background-color:  #60a1ca;\n",
       "        }    #T_b999f2ec_9efe_11e8_9ef0_fc3fdbb02c95row11_col4 {\n",
       "            background-color:  #bfc9e1;\n",
       "        }    #T_b999f2ec_9efe_11e8_9ef0_fc3fdbb02c95row11_col5 {\n",
       "            background-color:  #c9cee4;\n",
       "        }    #T_b999f2ec_9efe_11e8_9ef0_fc3fdbb02c95row11_col6 {\n",
       "            background-color:  #d4d4e8;\n",
       "        }    #T_b999f2ec_9efe_11e8_9ef0_fc3fdbb02c95row11_col7 {\n",
       "            background-color:  #e2dfee;\n",
       "        }    #T_b999f2ec_9efe_11e8_9ef0_fc3fdbb02c95row11_col8 {\n",
       "            background-color:  #bdc8e1;\n",
       "        }    #T_b999f2ec_9efe_11e8_9ef0_fc3fdbb02c95row11_col9 {\n",
       "            background-color:  #dddbec;\n",
       "        }    #T_b999f2ec_9efe_11e8_9ef0_fc3fdbb02c95row11_col10 {\n",
       "            background-color:  #e4e1ef;\n",
       "        }    #T_b999f2ec_9efe_11e8_9ef0_fc3fdbb02c95row11_col11 {\n",
       "            background-color:  #023858;\n",
       "        }    #T_b999f2ec_9efe_11e8_9ef0_fc3fdbb02c95row11_col12 {\n",
       "            background-color:  #8cb3d5;\n",
       "        }    #T_b999f2ec_9efe_11e8_9ef0_fc3fdbb02c95row11_col13 {\n",
       "            background-color:  #c1cae2;\n",
       "        }    #T_b999f2ec_9efe_11e8_9ef0_fc3fdbb02c95row11_col14 {\n",
       "            background-color:  #a4bcda;\n",
       "        }    #T_b999f2ec_9efe_11e8_9ef0_fc3fdbb02c95row11_col15 {\n",
       "            background-color:  #ede7f2;\n",
       "        }    #T_b999f2ec_9efe_11e8_9ef0_fc3fdbb02c95row11_col16 {\n",
       "            background-color:  #d0d1e6;\n",
       "        }    #T_b999f2ec_9efe_11e8_9ef0_fc3fdbb02c95row11_col17 {\n",
       "            background-color:  #e4e1ef;\n",
       "        }    #T_b999f2ec_9efe_11e8_9ef0_fc3fdbb02c95row11_col18 {\n",
       "            background-color:  #d9d8ea;\n",
       "        }    #T_b999f2ec_9efe_11e8_9ef0_fc3fdbb02c95row12_col0 {\n",
       "            background-color:  #adc1dd;\n",
       "        }    #T_b999f2ec_9efe_11e8_9ef0_fc3fdbb02c95row12_col1 {\n",
       "            background-color:  #e7e3f0;\n",
       "        }    #T_b999f2ec_9efe_11e8_9ef0_fc3fdbb02c95row12_col2 {\n",
       "            background-color:  #fdf5fa;\n",
       "        }    #T_b999f2ec_9efe_11e8_9ef0_fc3fdbb02c95row12_col3 {\n",
       "            background-color:  #a9bfdc;\n",
       "        }    #T_b999f2ec_9efe_11e8_9ef0_fc3fdbb02c95row12_col4 {\n",
       "            background-color:  #4496c3;\n",
       "        }    #T_b999f2ec_9efe_11e8_9ef0_fc3fdbb02c95row12_col5 {\n",
       "            background-color:  #5a9ec9;\n",
       "        }    #T_b999f2ec_9efe_11e8_9ef0_fc3fdbb02c95row12_col6 {\n",
       "            background-color:  #abbfdc;\n",
       "        }    #T_b999f2ec_9efe_11e8_9ef0_fc3fdbb02c95row12_col7 {\n",
       "            background-color:  #eee8f3;\n",
       "        }    #T_b999f2ec_9efe_11e8_9ef0_fc3fdbb02c95row12_col8 {\n",
       "            background-color:  #d2d2e7;\n",
       "        }    #T_b999f2ec_9efe_11e8_9ef0_fc3fdbb02c95row12_col9 {\n",
       "            background-color:  #e1dfed;\n",
       "        }    #T_b999f2ec_9efe_11e8_9ef0_fc3fdbb02c95row12_col10 {\n",
       "            background-color:  #fff7fb;\n",
       "        }    #T_b999f2ec_9efe_11e8_9ef0_fc3fdbb02c95row12_col11 {\n",
       "            background-color:  #b4c4df;\n",
       "        }    #T_b999f2ec_9efe_11e8_9ef0_fc3fdbb02c95row12_col12 {\n",
       "            background-color:  #023858;\n",
       "        }    #T_b999f2ec_9efe_11e8_9ef0_fc3fdbb02c95row12_col13 {\n",
       "            background-color:  #f4eef6;\n",
       "        }    #T_b999f2ec_9efe_11e8_9ef0_fc3fdbb02c95row12_col14 {\n",
       "            background-color:  #d7d6e9;\n",
       "        }    #T_b999f2ec_9efe_11e8_9ef0_fc3fdbb02c95row12_col15 {\n",
       "            background-color:  #69a5cc;\n",
       "        }    #T_b999f2ec_9efe_11e8_9ef0_fc3fdbb02c95row12_col16 {\n",
       "            background-color:  #a2bcda;\n",
       "        }    #T_b999f2ec_9efe_11e8_9ef0_fc3fdbb02c95row12_col17 {\n",
       "            background-color:  #71a8ce;\n",
       "        }    #T_b999f2ec_9efe_11e8_9ef0_fc3fdbb02c95row12_col18 {\n",
       "            background-color:  #e2dfee;\n",
       "        }    #T_b999f2ec_9efe_11e8_9ef0_fc3fdbb02c95row13_col0 {\n",
       "            background-color:  #c4cbe3;\n",
       "        }    #T_b999f2ec_9efe_11e8_9ef0_fc3fdbb02c95row13_col1 {\n",
       "            background-color:  #ece7f2;\n",
       "        }    #T_b999f2ec_9efe_11e8_9ef0_fc3fdbb02c95row13_col2 {\n",
       "            background-color:  #fdf5fa;\n",
       "        }    #T_b999f2ec_9efe_11e8_9ef0_fc3fdbb02c95row13_col3 {\n",
       "            background-color:  #c2cbe2;\n",
       "        }    #T_b999f2ec_9efe_11e8_9ef0_fc3fdbb02c95row13_col4 {\n",
       "            background-color:  #dad9ea;\n",
       "        }    #T_b999f2ec_9efe_11e8_9ef0_fc3fdbb02c95row13_col5 {\n",
       "            background-color:  #acc0dd;\n",
       "        }    #T_b999f2ec_9efe_11e8_9ef0_fc3fdbb02c95row13_col6 {\n",
       "            background-color:  #c4cbe3;\n",
       "        }    #T_b999f2ec_9efe_11e8_9ef0_fc3fdbb02c95row13_col7 {\n",
       "            background-color:  #e2dfee;\n",
       "        }    #T_b999f2ec_9efe_11e8_9ef0_fc3fdbb02c95row13_col8 {\n",
       "            background-color:  #afc1dd;\n",
       "        }    #T_b999f2ec_9efe_11e8_9ef0_fc3fdbb02c95row13_col9 {\n",
       "            background-color:  #d4d4e8;\n",
       "        }    #T_b999f2ec_9efe_11e8_9ef0_fc3fdbb02c95row13_col10 {\n",
       "            background-color:  #b9c6e0;\n",
       "        }    #T_b999f2ec_9efe_11e8_9ef0_fc3fdbb02c95row13_col11 {\n",
       "            background-color:  #c2cbe2;\n",
       "        }    #T_b999f2ec_9efe_11e8_9ef0_fc3fdbb02c95row13_col12 {\n",
       "            background-color:  #d8d7e9;\n",
       "        }    #T_b999f2ec_9efe_11e8_9ef0_fc3fdbb02c95row13_col13 {\n",
       "            background-color:  #023858;\n",
       "        }    #T_b999f2ec_9efe_11e8_9ef0_fc3fdbb02c95row13_col14 {\n",
       "            background-color:  #a5bddb;\n",
       "        }    #T_b999f2ec_9efe_11e8_9ef0_fc3fdbb02c95row13_col15 {\n",
       "            background-color:  #f3edf5;\n",
       "        }    #T_b999f2ec_9efe_11e8_9ef0_fc3fdbb02c95row13_col16 {\n",
       "            background-color:  #cccfe5;\n",
       "        }    #T_b999f2ec_9efe_11e8_9ef0_fc3fdbb02c95row13_col17 {\n",
       "            background-color:  #ece7f2;\n",
       "        }    #T_b999f2ec_9efe_11e8_9ef0_fc3fdbb02c95row13_col18 {\n",
       "            background-color:  #f0eaf4;\n",
       "        }    #T_b999f2ec_9efe_11e8_9ef0_fc3fdbb02c95row14_col0 {\n",
       "            background-color:  #afc1dd;\n",
       "        }    #T_b999f2ec_9efe_11e8_9ef0_fc3fdbb02c95row14_col1 {\n",
       "            background-color:  #f2ecf5;\n",
       "        }    #T_b999f2ec_9efe_11e8_9ef0_fc3fdbb02c95row14_col2 {\n",
       "            background-color:  #f4eef6;\n",
       "        }    #T_b999f2ec_9efe_11e8_9ef0_fc3fdbb02c95row14_col3 {\n",
       "            background-color:  #589ec8;\n",
       "        }    #T_b999f2ec_9efe_11e8_9ef0_fc3fdbb02c95row14_col4 {\n",
       "            background-color:  #97b7d7;\n",
       "        }    #T_b999f2ec_9efe_11e8_9ef0_fc3fdbb02c95row14_col5 {\n",
       "            background-color:  #fff7fb;\n",
       "        }    #T_b999f2ec_9efe_11e8_9ef0_fc3fdbb02c95row14_col6 {\n",
       "            background-color:  #fff7fb;\n",
       "        }    #T_b999f2ec_9efe_11e8_9ef0_fc3fdbb02c95row14_col7 {\n",
       "            background-color:  #e7e3f0;\n",
       "        }    #T_b999f2ec_9efe_11e8_9ef0_fc3fdbb02c95row14_col8 {\n",
       "            background-color:  #b9c6e0;\n",
       "        }    #T_b999f2ec_9efe_11e8_9ef0_fc3fdbb02c95row14_col9 {\n",
       "            background-color:  #e7e3f0;\n",
       "        }    #T_b999f2ec_9efe_11e8_9ef0_fc3fdbb02c95row14_col10 {\n",
       "            background-color:  #cdd0e5;\n",
       "        }    #T_b999f2ec_9efe_11e8_9ef0_fc3fdbb02c95row14_col11 {\n",
       "            background-color:  #d0d1e6;\n",
       "        }    #T_b999f2ec_9efe_11e8_9ef0_fc3fdbb02c95row14_col12 {\n",
       "            background-color:  #d9d8ea;\n",
       "        }    #T_b999f2ec_9efe_11e8_9ef0_fc3fdbb02c95row14_col13 {\n",
       "            background-color:  #d0d1e6;\n",
       "        }    #T_b999f2ec_9efe_11e8_9ef0_fc3fdbb02c95row14_col14 {\n",
       "            background-color:  #023858;\n",
       "        }    #T_b999f2ec_9efe_11e8_9ef0_fc3fdbb02c95row14_col15 {\n",
       "            background-color:  #e7e3f0;\n",
       "        }    #T_b999f2ec_9efe_11e8_9ef0_fc3fdbb02c95row14_col16 {\n",
       "            background-color:  #dfddec;\n",
       "        }    #T_b999f2ec_9efe_11e8_9ef0_fc3fdbb02c95row14_col17 {\n",
       "            background-color:  #d9d8ea;\n",
       "        }    #T_b999f2ec_9efe_11e8_9ef0_fc3fdbb02c95row14_col18 {\n",
       "            background-color:  #f2ecf5;\n",
       "        }    #T_b999f2ec_9efe_11e8_9ef0_fc3fdbb02c95row15_col0 {\n",
       "            background-color:  #b5c4df;\n",
       "        }    #T_b999f2ec_9efe_11e8_9ef0_fc3fdbb02c95row15_col1 {\n",
       "            background-color:  #fff7fb;\n",
       "        }    #T_b999f2ec_9efe_11e8_9ef0_fc3fdbb02c95row15_col2 {\n",
       "            background-color:  #faf3f9;\n",
       "        }    #T_b999f2ec_9efe_11e8_9ef0_fc3fdbb02c95row15_col3 {\n",
       "            background-color:  #efe9f3;\n",
       "        }    #T_b999f2ec_9efe_11e8_9ef0_fc3fdbb02c95row15_col4 {\n",
       "            background-color:  #d6d6e9;\n",
       "        }    #T_b999f2ec_9efe_11e8_9ef0_fc3fdbb02c95row15_col5 {\n",
       "            background-color:  #3790c0;\n",
       "        }    #T_b999f2ec_9efe_11e8_9ef0_fc3fdbb02c95row15_col6 {\n",
       "            background-color:  #65a3cb;\n",
       "        }    #T_b999f2ec_9efe_11e8_9ef0_fc3fdbb02c95row15_col7 {\n",
       "            background-color:  #eee9f3;\n",
       "        }    #T_b999f2ec_9efe_11e8_9ef0_fc3fdbb02c95row15_col8 {\n",
       "            background-color:  #c5cce3;\n",
       "        }    #T_b999f2ec_9efe_11e8_9ef0_fc3fdbb02c95row15_col9 {\n",
       "            background-color:  #dddbec;\n",
       "        }    #T_b999f2ec_9efe_11e8_9ef0_fc3fdbb02c95row15_col10 {\n",
       "            background-color:  #f2ecf5;\n",
       "        }    #T_b999f2ec_9efe_11e8_9ef0_fc3fdbb02c95row15_col11 {\n",
       "            background-color:  #f9f2f8;\n",
       "        }    #T_b999f2ec_9efe_11e8_9ef0_fc3fdbb02c95row15_col12 {\n",
       "            background-color:  #569dc8;\n",
       "        }    #T_b999f2ec_9efe_11e8_9ef0_fc3fdbb02c95row15_col13 {\n",
       "            background-color:  #fff7fb;\n",
       "        }    #T_b999f2ec_9efe_11e8_9ef0_fc3fdbb02c95row15_col14 {\n",
       "            background-color:  #d4d4e8;\n",
       "        }    #T_b999f2ec_9efe_11e8_9ef0_fc3fdbb02c95row15_col15 {\n",
       "            background-color:  #023858;\n",
       "        }    #T_b999f2ec_9efe_11e8_9ef0_fc3fdbb02c95row15_col16 {\n",
       "            background-color:  #79abd0;\n",
       "        }    #T_b999f2ec_9efe_11e8_9ef0_fc3fdbb02c95row15_col17 {\n",
       "            background-color:  #034a74;\n",
       "        }    #T_b999f2ec_9efe_11e8_9ef0_fc3fdbb02c95row15_col18 {\n",
       "            background-color:  #ede7f2;\n",
       "        }    #T_b999f2ec_9efe_11e8_9ef0_fc3fdbb02c95row16_col0 {\n",
       "            background-color:  #cacee5;\n",
       "        }    #T_b999f2ec_9efe_11e8_9ef0_fc3fdbb02c95row16_col1 {\n",
       "            background-color:  #f9f2f8;\n",
       "        }    #T_b999f2ec_9efe_11e8_9ef0_fc3fdbb02c95row16_col2 {\n",
       "            background-color:  #fbf3f9;\n",
       "        }    #T_b999f2ec_9efe_11e8_9ef0_fc3fdbb02c95row16_col3 {\n",
       "            background-color:  #eee8f3;\n",
       "        }    #T_b999f2ec_9efe_11e8_9ef0_fc3fdbb02c95row16_col4 {\n",
       "            background-color:  #fff7fb;\n",
       "        }    #T_b999f2ec_9efe_11e8_9ef0_fc3fdbb02c95row16_col5 {\n",
       "            background-color:  #cacee5;\n",
       "        }    #T_b999f2ec_9efe_11e8_9ef0_fc3fdbb02c95row16_col6 {\n",
       "            background-color:  #eae6f1;\n",
       "        }    #T_b999f2ec_9efe_11e8_9ef0_fc3fdbb02c95row16_col7 {\n",
       "            background-color:  #d4d4e8;\n",
       "        }    #T_b999f2ec_9efe_11e8_9ef0_fc3fdbb02c95row16_col8 {\n",
       "            background-color:  #a4bcda;\n",
       "        }    #T_b999f2ec_9efe_11e8_9ef0_fc3fdbb02c95row16_col9 {\n",
       "            background-color:  #ede8f3;\n",
       "        }    #T_b999f2ec_9efe_11e8_9ef0_fc3fdbb02c95row16_col10 {\n",
       "            background-color:  #a9bfdc;\n",
       "        }    #T_b999f2ec_9efe_11e8_9ef0_fc3fdbb02c95row16_col11 {\n",
       "            background-color:  #e7e3f0;\n",
       "        }    #T_b999f2ec_9efe_11e8_9ef0_fc3fdbb02c95row16_col12 {\n",
       "            background-color:  #96b6d7;\n",
       "        }    #T_b999f2ec_9efe_11e8_9ef0_fc3fdbb02c95row16_col13 {\n",
       "            background-color:  #e2dfee;\n",
       "        }    #T_b999f2ec_9efe_11e8_9ef0_fc3fdbb02c95row16_col14 {\n",
       "            background-color:  #d4d4e8;\n",
       "        }    #T_b999f2ec_9efe_11e8_9ef0_fc3fdbb02c95row16_col15 {\n",
       "            background-color:  #81aed2;\n",
       "        }    #T_b999f2ec_9efe_11e8_9ef0_fc3fdbb02c95row16_col16 {\n",
       "            background-color:  #023858;\n",
       "        }    #T_b999f2ec_9efe_11e8_9ef0_fc3fdbb02c95row16_col17 {\n",
       "            background-color:  #e0dded;\n",
       "        }    #T_b999f2ec_9efe_11e8_9ef0_fc3fdbb02c95row16_col18 {\n",
       "            background-color:  #d2d3e7;\n",
       "        }    #T_b999f2ec_9efe_11e8_9ef0_fc3fdbb02c95row17_col0 {\n",
       "            background-color:  #afc1dd;\n",
       "        }    #T_b999f2ec_9efe_11e8_9ef0_fc3fdbb02c95row17_col1 {\n",
       "            background-color:  #fcf4fa;\n",
       "        }    #T_b999f2ec_9efe_11e8_9ef0_fc3fdbb02c95row17_col2 {\n",
       "            background-color:  #f8f1f8;\n",
       "        }    #T_b999f2ec_9efe_11e8_9ef0_fc3fdbb02c95row17_col3 {\n",
       "            background-color:  #e5e1ef;\n",
       "        }    #T_b999f2ec_9efe_11e8_9ef0_fc3fdbb02c95row17_col4 {\n",
       "            background-color:  #b0c2de;\n",
       "        }    #T_b999f2ec_9efe_11e8_9ef0_fc3fdbb02c95row17_col5 {\n",
       "            background-color:  #2a88bc;\n",
       "        }    #T_b999f2ec_9efe_11e8_9ef0_fc3fdbb02c95row17_col6 {\n",
       "            background-color:  #529bc7;\n",
       "        }    #T_b999f2ec_9efe_11e8_9ef0_fc3fdbb02c95row17_col7 {\n",
       "            background-color:  #f5eef6;\n",
       "        }    #T_b999f2ec_9efe_11e8_9ef0_fc3fdbb02c95row17_col8 {\n",
       "            background-color:  #ced0e6;\n",
       "        }    #T_b999f2ec_9efe_11e8_9ef0_fc3fdbb02c95row17_col9 {\n",
       "            background-color:  #dcdaeb;\n",
       "        }    #T_b999f2ec_9efe_11e8_9ef0_fc3fdbb02c95row17_col10 {\n",
       "            background-color:  #faf2f8;\n",
       "        }    #T_b999f2ec_9efe_11e8_9ef0_fc3fdbb02c95row17_col11 {\n",
       "            background-color:  #faf2f8;\n",
       "        }    #T_b999f2ec_9efe_11e8_9ef0_fc3fdbb02c95row17_col12 {\n",
       "            background-color:  #67a4cc;\n",
       "        }    #T_b999f2ec_9efe_11e8_9ef0_fc3fdbb02c95row17_col13 {\n",
       "            background-color:  #fff7fb;\n",
       "        }    #T_b999f2ec_9efe_11e8_9ef0_fc3fdbb02c95row17_col14 {\n",
       "            background-color:  #d0d1e6;\n",
       "        }    #T_b999f2ec_9efe_11e8_9ef0_fc3fdbb02c95row17_col15 {\n",
       "            background-color:  #034b76;\n",
       "        }    #T_b999f2ec_9efe_11e8_9ef0_fc3fdbb02c95row17_col16 {\n",
       "            background-color:  #e2dfee;\n",
       "        }    #T_b999f2ec_9efe_11e8_9ef0_fc3fdbb02c95row17_col17 {\n",
       "            background-color:  #023858;\n",
       "        }    #T_b999f2ec_9efe_11e8_9ef0_fc3fdbb02c95row17_col18 {\n",
       "            background-color:  #f5eff6;\n",
       "        }    #T_b999f2ec_9efe_11e8_9ef0_fc3fdbb02c95row18_col0 {\n",
       "            background-color:  #b5c4df;\n",
       "        }    #T_b999f2ec_9efe_11e8_9ef0_fc3fdbb02c95row18_col1 {\n",
       "            background-color:  #fef6fb;\n",
       "        }    #T_b999f2ec_9efe_11e8_9ef0_fc3fdbb02c95row18_col2 {\n",
       "            background-color:  #f7f0f7;\n",
       "        }    #T_b999f2ec_9efe_11e8_9ef0_fc3fdbb02c95row18_col3 {\n",
       "            background-color:  #c6cce3;\n",
       "        }    #T_b999f2ec_9efe_11e8_9ef0_fc3fdbb02c95row18_col4 {\n",
       "            background-color:  #dcdaeb;\n",
       "        }    #T_b999f2ec_9efe_11e8_9ef0_fc3fdbb02c95row18_col5 {\n",
       "            background-color:  #b9c6e0;\n",
       "        }    #T_b999f2ec_9efe_11e8_9ef0_fc3fdbb02c95row18_col6 {\n",
       "            background-color:  #d2d3e7;\n",
       "        }    #T_b999f2ec_9efe_11e8_9ef0_fc3fdbb02c95row18_col7 {\n",
       "            background-color:  #e3e0ee;\n",
       "        }    #T_b999f2ec_9efe_11e8_9ef0_fc3fdbb02c95row18_col8 {\n",
       "            background-color:  #b4c4df;\n",
       "        }    #T_b999f2ec_9efe_11e8_9ef0_fc3fdbb02c95row18_col9 {\n",
       "            background-color:  #fcf4fa;\n",
       "        }    #T_b999f2ec_9efe_11e8_9ef0_fc3fdbb02c95row18_col10 {\n",
       "            background-color:  #cccfe5;\n",
       "        }    #T_b999f2ec_9efe_11e8_9ef0_fc3fdbb02c95row18_col11 {\n",
       "            background-color:  #ced0e6;\n",
       "        }    #T_b999f2ec_9efe_11e8_9ef0_fc3fdbb02c95row18_col12 {\n",
       "            background-color:  #b1c2de;\n",
       "        }    #T_b999f2ec_9efe_11e8_9ef0_fc3fdbb02c95row18_col13 {\n",
       "            background-color:  #e5e1ef;\n",
       "        }    #T_b999f2ec_9efe_11e8_9ef0_fc3fdbb02c95row18_col14 {\n",
       "            background-color:  #c4cbe3;\n",
       "        }    #T_b999f2ec_9efe_11e8_9ef0_fc3fdbb02c95row18_col15 {\n",
       "            background-color:  #d2d2e7;\n",
       "        }    #T_b999f2ec_9efe_11e8_9ef0_fc3fdbb02c95row18_col16 {\n",
       "            background-color:  #a8bedc;\n",
       "        }    #T_b999f2ec_9efe_11e8_9ef0_fc3fdbb02c95row18_col17 {\n",
       "            background-color:  #d4d4e8;\n",
       "        }    #T_b999f2ec_9efe_11e8_9ef0_fc3fdbb02c95row18_col18 {\n",
       "            background-color:  #023858;\n",
       "        }</style>  \n",
       "<table id=\"T_b999f2ec_9efe_11e8_9ef0_fc3fdbb02c95\" > \n",
       "<thead>    <tr> \n",
       "        <th class=\"blank level0\" ></th> \n",
       "        <th class=\"col_heading level0 col0\" >Month</th> \n",
       "        <th class=\"col_heading level0 col1\" >WeekDay</th> \n",
       "        <th class=\"col_heading level0 col2\" >Season</th> \n",
       "        <th class=\"col_heading level0 col3\" >TravelExpense</th> \n",
       "        <th class=\"col_heading level0 col4\" >TravelDistance</th> \n",
       "        <th class=\"col_heading level0 col5\" >ServiceTime</th> \n",
       "        <th class=\"col_heading level0 col6\" >Age</th> \n",
       "        <th class=\"col_heading level0 col7\" >WorkLoad</th> \n",
       "        <th class=\"col_heading level0 col8\" >HitTarget</th> \n",
       "        <th class=\"col_heading level0 col9\" >DisciplinaryFailure</th> \n",
       "        <th class=\"col_heading level0 col10\" >Education</th> \n",
       "        <th class=\"col_heading level0 col11\" >Son</th> \n",
       "        <th class=\"col_heading level0 col12\" >SocialDrinker</th> \n",
       "        <th class=\"col_heading level0 col13\" >SocialSmoker</th> \n",
       "        <th class=\"col_heading level0 col14\" >Pet</th> \n",
       "        <th class=\"col_heading level0 col15\" >Weight</th> \n",
       "        <th class=\"col_heading level0 col16\" >Height</th> \n",
       "        <th class=\"col_heading level0 col17\" >BMI</th> \n",
       "        <th class=\"col_heading level0 col18\" >Absenteeism</th> \n",
       "    </tr></thead> \n",
       "<tbody>    <tr> \n",
       "        <th id=\"T_b999f2ec_9efe_11e8_9ef0_fc3fdbb02c95\" class=\"row_heading level0 row0\" >Month</th> \n",
       "        <td id=\"T_b999f2ec_9efe_11e8_9ef0_fc3fdbb02c95row0_col0\" class=\"data row0 col0\" >1</td> \n",
       "        <td id=\"T_b999f2ec_9efe_11e8_9ef0_fc3fdbb02c95row0_col1\" class=\"data row0 col1\" >-0.00652801</td> \n",
       "        <td id=\"T_b999f2ec_9efe_11e8_9ef0_fc3fdbb02c95row0_col2\" class=\"data row0 col2\" >0.40777</td> \n",
       "        <td id=\"T_b999f2ec_9efe_11e8_9ef0_fc3fdbb02c95row0_col3\" class=\"data row0 col3\" >0.137525</td> \n",
       "        <td id=\"T_b999f2ec_9efe_11e8_9ef0_fc3fdbb02c95row0_col4\" class=\"data row0 col4\" >-0.00388726</td> \n",
       "        <td id=\"T_b999f2ec_9efe_11e8_9ef0_fc3fdbb02c95row0_col5\" class=\"data row0 col5\" >-0.0628623</td> \n",
       "        <td id=\"T_b999f2ec_9efe_11e8_9ef0_fc3fdbb02c95row0_col6\" class=\"data row0 col6\" >-0.00151954</td> \n",
       "        <td id=\"T_b999f2ec_9efe_11e8_9ef0_fc3fdbb02c95row0_col7\" class=\"data row0 col7\" >-0.169989</td> \n",
       "        <td id=\"T_b999f2ec_9efe_11e8_9ef0_fc3fdbb02c95row0_col8\" class=\"data row0 col8\" >-0.460453</td> \n",
       "        <td id=\"T_b999f2ec_9efe_11e8_9ef0_fc3fdbb02c95row0_col9\" class=\"data row0 col9\" >0.107946</td> \n",
       "        <td id=\"T_b999f2ec_9efe_11e8_9ef0_fc3fdbb02c95row0_col10\" class=\"data row0 col10\" >-0.0661277</td> \n",
       "        <td id=\"T_b999f2ec_9efe_11e8_9ef0_fc3fdbb02c95row0_col11\" class=\"data row0 col11\" >0.0790313</td> \n",
       "        <td id=\"T_b999f2ec_9efe_11e8_9ef0_fc3fdbb02c95row0_col12\" class=\"data row0 col12\" >0.0562262</td> \n",
       "        <td id=\"T_b999f2ec_9efe_11e8_9ef0_fc3fdbb02c95row0_col13\" class=\"data row0 col13\" >-0.0386025</td> \n",
       "        <td id=\"T_b999f2ec_9efe_11e8_9ef0_fc3fdbb02c95row0_col14\" class=\"data row0 col14\" >0.0477873</td> \n",
       "        <td id=\"T_b999f2ec_9efe_11e8_9ef0_fc3fdbb02c95row0_col15\" class=\"data row0 col15\" >0.0232783</td> \n",
       "        <td id=\"T_b999f2ec_9efe_11e8_9ef0_fc3fdbb02c95row0_col16\" class=\"data row0 col16\" >-0.0689424</td> \n",
       "        <td id=\"T_b999f2ec_9efe_11e8_9ef0_fc3fdbb02c95row0_col17\" class=\"data row0 col17\" >0.0510463</td> \n",
       "        <td id=\"T_b999f2ec_9efe_11e8_9ef0_fc3fdbb02c95row0_col18\" class=\"data row0 col18\" >0.0243454</td> \n",
       "    </tr>    <tr> \n",
       "        <th id=\"T_b999f2ec_9efe_11e8_9ef0_fc3fdbb02c95\" class=\"row_heading level0 row1\" >WeekDay</th> \n",
       "        <td id=\"T_b999f2ec_9efe_11e8_9ef0_fc3fdbb02c95row1_col0\" class=\"data row1 col0\" >-0.00652801</td> \n",
       "        <td id=\"T_b999f2ec_9efe_11e8_9ef0_fc3fdbb02c95row1_col1\" class=\"data row1 col1\" >1</td> \n",
       "        <td id=\"T_b999f2ec_9efe_11e8_9ef0_fc3fdbb02c95row1_col2\" class=\"data row1 col2\" >0.0464935</td> \n",
       "        <td id=\"T_b999f2ec_9efe_11e8_9ef0_fc3fdbb02c95row1_col3\" class=\"data row1 col3\" >0.0339882</td> \n",
       "        <td id=\"T_b999f2ec_9efe_11e8_9ef0_fc3fdbb02c95row1_col4\" class=\"data row1 col4\" >0.118026</td> \n",
       "        <td id=\"T_b999f2ec_9efe_11e8_9ef0_fc3fdbb02c95row1_col5\" class=\"data row1 col5\" >0.0212523</td> \n",
       "        <td id=\"T_b999f2ec_9efe_11e8_9ef0_fc3fdbb02c95row1_col6\" class=\"data row1 col6\" >0.00445883</td> \n",
       "        <td id=\"T_b999f2ec_9efe_11e8_9ef0_fc3fdbb02c95row1_col7\" class=\"data row1 col7\" >0.0156461</td> \n",
       "        <td id=\"T_b999f2ec_9efe_11e8_9ef0_fc3fdbb02c95row1_col8\" class=\"data row1 col8\" >0.0309861</td> \n",
       "        <td id=\"T_b999f2ec_9efe_11e8_9ef0_fc3fdbb02c95row1_col9\" class=\"data row1 col9\" >-0.0151204</td> \n",
       "        <td id=\"T_b999f2ec_9efe_11e8_9ef0_fc3fdbb02c95row1_col10\" class=\"data row1 col10\" >0.0585159</td> \n",
       "        <td id=\"T_b999f2ec_9efe_11e8_9ef0_fc3fdbb02c95row1_col11\" class=\"data row1 col11\" >0.0980788</td> \n",
       "        <td id=\"T_b999f2ec_9efe_11e8_9ef0_fc3fdbb02c95row1_col12\" class=\"data row1 col12\" >0.0417723</td> \n",
       "        <td id=\"T_b999f2ec_9efe_11e8_9ef0_fc3fdbb02c95row1_col13\" class=\"data row1 col13\" >0.0131556</td> \n",
       "        <td id=\"T_b999f2ec_9efe_11e8_9ef0_fc3fdbb02c95row1_col14\" class=\"data row1 col14\" >-0.0288851</td> \n",
       "        <td id=\"T_b999f2ec_9efe_11e8_9ef0_fc3fdbb02c95row1_col15\" class=\"data row1 col15\" >-0.12898</td> \n",
       "        <td id=\"T_b999f2ec_9efe_11e8_9ef0_fc3fdbb02c95row1_col16\" class=\"data row1 col16\" >-0.0821332</td> \n",
       "        <td id=\"T_b999f2ec_9efe_11e8_9ef0_fc3fdbb02c95row1_col17\" class=\"data row1 col17\" >-0.103578</td> \n",
       "        <td id=\"T_b999f2ec_9efe_11e8_9ef0_fc3fdbb02c95row1_col18\" class=\"data row1 col18\" >-0.124361</td> \n",
       "    </tr>    <tr> \n",
       "        <th id=\"T_b999f2ec_9efe_11e8_9ef0_fc3fdbb02c95\" class=\"row_heading level0 row2\" >Season</th> \n",
       "        <td id=\"T_b999f2ec_9efe_11e8_9ef0_fc3fdbb02c95row2_col0\" class=\"data row2 col0\" >0.40777</td> \n",
       "        <td id=\"T_b999f2ec_9efe_11e8_9ef0_fc3fdbb02c95row2_col1\" class=\"data row2 col1\" >0.0464935</td> \n",
       "        <td id=\"T_b999f2ec_9efe_11e8_9ef0_fc3fdbb02c95row2_col2\" class=\"data row2 col2\" >1</td> \n",
       "        <td id=\"T_b999f2ec_9efe_11e8_9ef0_fc3fdbb02c95row2_col3\" class=\"data row2 col3\" >0.0369949</td> \n",
       "        <td id=\"T_b999f2ec_9efe_11e8_9ef0_fc3fdbb02c95row2_col4\" class=\"data row2 col4\" >-0.0631084</td> \n",
       "        <td id=\"T_b999f2ec_9efe_11e8_9ef0_fc3fdbb02c95row2_col5\" class=\"data row2 col5\" >-0.0109037</td> \n",
       "        <td id=\"T_b999f2ec_9efe_11e8_9ef0_fc3fdbb02c95row2_col6\" class=\"data row2 col6\" >-0.0120885</td> \n",
       "        <td id=\"T_b999f2ec_9efe_11e8_9ef0_fc3fdbb02c95row2_col7\" class=\"data row2 col7\" >0.150439</td> \n",
       "        <td id=\"T_b999f2ec_9efe_11e8_9ef0_fc3fdbb02c95row2_col8\" class=\"data row2 col8\" >-0.0611541</td> \n",
       "        <td id=\"T_b999f2ec_9efe_11e8_9ef0_fc3fdbb02c95row2_col9\" class=\"data row2 col9\" >0.151766</td> \n",
       "        <td id=\"T_b999f2ec_9efe_11e8_9ef0_fc3fdbb02c95row2_col10\" class=\"data row2 col10\" >-0.0029511</td> \n",
       "        <td id=\"T_b999f2ec_9efe_11e8_9ef0_fc3fdbb02c95row2_col11\" class=\"data row2 col11\" >0.0469502</td> \n",
       "        <td id=\"T_b999f2ec_9efe_11e8_9ef0_fc3fdbb02c95row2_col12\" class=\"data row2 col12\" >-0.0459819</td> \n",
       "        <td id=\"T_b999f2ec_9efe_11e8_9ef0_fc3fdbb02c95row2_col13\" class=\"data row2 col13\" >-0.0486707</td> \n",
       "        <td id=\"T_b999f2ec_9efe_11e8_9ef0_fc3fdbb02c95row2_col14\" class=\"data row2 col14\" >0.0123565</td> \n",
       "        <td id=\"T_b999f2ec_9efe_11e8_9ef0_fc3fdbb02c95row2_col15\" class=\"data row2 col15\" >-0.0262776</td> \n",
       "        <td id=\"T_b999f2ec_9efe_11e8_9ef0_fc3fdbb02c95row2_col16\" class=\"data row2 col16\" >-0.0337374</td> \n",
       "        <td id=\"T_b999f2ec_9efe_11e8_9ef0_fc3fdbb02c95row2_col17\" class=\"data row2 col17\" >-0.0110311</td> \n",
       "        <td id=\"T_b999f2ec_9efe_11e8_9ef0_fc3fdbb02c95row2_col18\" class=\"data row2 col18\" >-0.00561498</td> \n",
       "    </tr>    <tr> \n",
       "        <th id=\"T_b999f2ec_9efe_11e8_9ef0_fc3fdbb02c95\" class=\"row_heading level0 row3\" >TravelExpense</th> \n",
       "        <td id=\"T_b999f2ec_9efe_11e8_9ef0_fc3fdbb02c95row3_col0\" class=\"data row3 col0\" >0.137525</td> \n",
       "        <td id=\"T_b999f2ec_9efe_11e8_9ef0_fc3fdbb02c95row3_col1\" class=\"data row3 col1\" >0.0339882</td> \n",
       "        <td id=\"T_b999f2ec_9efe_11e8_9ef0_fc3fdbb02c95row3_col2\" class=\"data row3 col2\" >0.0369949</td> \n",
       "        <td id=\"T_b999f2ec_9efe_11e8_9ef0_fc3fdbb02c95row3_col3\" class=\"data row3 col3\" >1</td> \n",
       "        <td id=\"T_b999f2ec_9efe_11e8_9ef0_fc3fdbb02c95row3_col4\" class=\"data row3 col4\" >0.262183</td> \n",
       "        <td id=\"T_b999f2ec_9efe_11e8_9ef0_fc3fdbb02c95row3_col5\" class=\"data row3 col5\" >-0.349887</td> \n",
       "        <td id=\"T_b999f2ec_9efe_11e8_9ef0_fc3fdbb02c95row3_col6\" class=\"data row3 col6\" >-0.227542</td> \n",
       "        <td id=\"T_b999f2ec_9efe_11e8_9ef0_fc3fdbb02c95row3_col7\" class=\"data row3 col7\" >0.00543806</td> \n",
       "        <td id=\"T_b999f2ec_9efe_11e8_9ef0_fc3fdbb02c95row3_col8\" class=\"data row3 col8\" >-0.080193</td> \n",
       "        <td id=\"T_b999f2ec_9efe_11e8_9ef0_fc3fdbb02c95row3_col9\" class=\"data row3 col9\" >0.109222</td> \n",
       "        <td id=\"T_b999f2ec_9efe_11e8_9ef0_fc3fdbb02c95row3_col10\" class=\"data row3 col10\" >-0.0550648</td> \n",
       "        <td id=\"T_b999f2ec_9efe_11e8_9ef0_fc3fdbb02c95row3_col11\" class=\"data row3 col11\" >0.383001</td> \n",
       "        <td id=\"T_b999f2ec_9efe_11e8_9ef0_fc3fdbb02c95row3_col12\" class=\"data row3 col12\" >0.145117</td> \n",
       "        <td id=\"T_b999f2ec_9efe_11e8_9ef0_fc3fdbb02c95row3_col13\" class=\"data row3 col13\" >0.0443561</td> \n",
       "        <td id=\"T_b999f2ec_9efe_11e8_9ef0_fc3fdbb02c95row3_col14\" class=\"data row3 col14\" >0.40008</td> \n",
       "        <td id=\"T_b999f2ec_9efe_11e8_9ef0_fc3fdbb02c95row3_col15\" class=\"data row3 col15\" >-0.207435</td> \n",
       "        <td id=\"T_b999f2ec_9efe_11e8_9ef0_fc3fdbb02c95row3_col16\" class=\"data row3 col16\" >-0.194496</td> \n",
       "        <td id=\"T_b999f2ec_9efe_11e8_9ef0_fc3fdbb02c95row3_col17\" class=\"data row3 col17\" >-0.136517</td> \n",
       "        <td id=\"T_b999f2ec_9efe_11e8_9ef0_fc3fdbb02c95row3_col18\" class=\"data row3 col18\" >0.0275846</td> \n",
       "    </tr>    <tr> \n",
       "        <th id=\"T_b999f2ec_9efe_11e8_9ef0_fc3fdbb02c95\" class=\"row_heading level0 row4\" >TravelDistance</th> \n",
       "        <td id=\"T_b999f2ec_9efe_11e8_9ef0_fc3fdbb02c95row4_col0\" class=\"data row4 col0\" >-0.00388726</td> \n",
       "        <td id=\"T_b999f2ec_9efe_11e8_9ef0_fc3fdbb02c95row4_col1\" class=\"data row4 col1\" >0.118026</td> \n",
       "        <td id=\"T_b999f2ec_9efe_11e8_9ef0_fc3fdbb02c95row4_col2\" class=\"data row4 col2\" >-0.0631084</td> \n",
       "        <td id=\"T_b999f2ec_9efe_11e8_9ef0_fc3fdbb02c95row4_col3\" class=\"data row4 col3\" >0.262183</td> \n",
       "        <td id=\"T_b999f2ec_9efe_11e8_9ef0_fc3fdbb02c95row4_col4\" class=\"data row4 col4\" >1</td> \n",
       "        <td id=\"T_b999f2ec_9efe_11e8_9ef0_fc3fdbb02c95row4_col5\" class=\"data row4 col5\" >0.13173</td> \n",
       "        <td id=\"T_b999f2ec_9efe_11e8_9ef0_fc3fdbb02c95row4_col6\" class=\"data row4 col6\" >-0.145886</td> \n",
       "        <td id=\"T_b999f2ec_9efe_11e8_9ef0_fc3fdbb02c95row4_col7\" class=\"data row4 col7\" >-0.068677</td> \n",
       "        <td id=\"T_b999f2ec_9efe_11e8_9ef0_fc3fdbb02c95row4_col8\" class=\"data row4 col8\" >-0.0138646</td> \n",
       "        <td id=\"T_b999f2ec_9efe_11e8_9ef0_fc3fdbb02c95row4_col9\" class=\"data row4 col9\" >-0.0565271</td> \n",
       "        <td id=\"T_b999f2ec_9efe_11e8_9ef0_fc3fdbb02c95row4_col10\" class=\"data row4 col10\" >-0.259605</td> \n",
       "        <td id=\"T_b999f2ec_9efe_11e8_9ef0_fc3fdbb02c95row4_col11\" class=\"data row4 col11\" >0.0542304</td> \n",
       "        <td id=\"T_b999f2ec_9efe_11e8_9ef0_fc3fdbb02c95row4_col12\" class=\"data row4 col12\" >0.452196</td> \n",
       "        <td id=\"T_b999f2ec_9efe_11e8_9ef0_fc3fdbb02c95row4_col13\" class=\"data row4 col13\" >-0.0753688</td> \n",
       "        <td id=\"T_b999f2ec_9efe_11e8_9ef0_fc3fdbb02c95row4_col14\" class=\"data row4 col14\" >0.205941</td> \n",
       "        <td id=\"T_b999f2ec_9efe_11e8_9ef0_fc3fdbb02c95row4_col15\" class=\"data row4 col15\" >-0.0478591</td> \n",
       "        <td id=\"T_b999f2ec_9efe_11e8_9ef0_fc3fdbb02c95row4_col16\" class=\"data row4 col16\" >-0.353372</td> \n",
       "        <td id=\"T_b999f2ec_9efe_11e8_9ef0_fc3fdbb02c95row4_col17\" class=\"data row4 col17\" >0.113772</td> \n",
       "        <td id=\"T_b999f2ec_9efe_11e8_9ef0_fc3fdbb02c95row4_col18\" class=\"data row4 col18\" >-0.0883628</td> \n",
       "    </tr>    <tr> \n",
       "        <th id=\"T_b999f2ec_9efe_11e8_9ef0_fc3fdbb02c95\" class=\"row_heading level0 row5\" >ServiceTime</th> \n",
       "        <td id=\"T_b999f2ec_9efe_11e8_9ef0_fc3fdbb02c95row5_col0\" class=\"data row5 col0\" >-0.0628623</td> \n",
       "        <td id=\"T_b999f2ec_9efe_11e8_9ef0_fc3fdbb02c95row5_col1\" class=\"data row5 col1\" >0.0212523</td> \n",
       "        <td id=\"T_b999f2ec_9efe_11e8_9ef0_fc3fdbb02c95row5_col2\" class=\"data row5 col2\" >-0.0109037</td> \n",
       "        <td id=\"T_b999f2ec_9efe_11e8_9ef0_fc3fdbb02c95row5_col3\" class=\"data row5 col3\" >-0.349887</td> \n",
       "        <td id=\"T_b999f2ec_9efe_11e8_9ef0_fc3fdbb02c95row5_col4\" class=\"data row5 col4\" >0.13173</td> \n",
       "        <td id=\"T_b999f2ec_9efe_11e8_9ef0_fc3fdbb02c95row5_col5\" class=\"data row5 col5\" >1</td> \n",
       "        <td id=\"T_b999f2ec_9efe_11e8_9ef0_fc3fdbb02c95row5_col6\" class=\"data row5 col6\" >0.670979</td> \n",
       "        <td id=\"T_b999f2ec_9efe_11e8_9ef0_fc3fdbb02c95row5_col7\" class=\"data row5 col7\" >-0.000668491</td> \n",
       "        <td id=\"T_b999f2ec_9efe_11e8_9ef0_fc3fdbb02c95row5_col8\" class=\"data row5 col8\" >-0.00784003</td> \n",
       "        <td id=\"T_b999f2ec_9efe_11e8_9ef0_fc3fdbb02c95row5_col9\" class=\"data row5 col9\" >-0.00022116</td> \n",
       "        <td id=\"T_b999f2ec_9efe_11e8_9ef0_fc3fdbb02c95row5_col10\" class=\"data row5 col10\" >-0.213</td> \n",
       "        <td id=\"T_b999f2ec_9efe_11e8_9ef0_fc3fdbb02c95row5_col11\" class=\"data row5 col11\" >-0.0471284</td> \n",
       "        <td id=\"T_b999f2ec_9efe_11e8_9ef0_fc3fdbb02c95row5_col12\" class=\"data row5 col12\" >0.353141</td> \n",
       "        <td id=\"T_b999f2ec_9efe_11e8_9ef0_fc3fdbb02c95row5_col13\" class=\"data row5 col13\" >0.0724243</td> \n",
       "        <td id=\"T_b999f2ec_9efe_11e8_9ef0_fc3fdbb02c95row5_col14\" class=\"data row5 col14\" >-0.440301</td> \n",
       "        <td id=\"T_b999f2ec_9efe_11e8_9ef0_fc3fdbb02c95row5_col15\" class=\"data row5 col15\" >0.455975</td> \n",
       "        <td id=\"T_b999f2ec_9efe_11e8_9ef0_fc3fdbb02c95row5_col16\" class=\"data row5 col16\" >-0.0531345</td> \n",
       "        <td id=\"T_b999f2ec_9efe_11e8_9ef0_fc3fdbb02c95row5_col17\" class=\"data row5 col17\" >0.499718</td> \n",
       "        <td id=\"T_b999f2ec_9efe_11e8_9ef0_fc3fdbb02c95row5_col18\" class=\"data row5 col18\" >0.0190293</td> \n",
       "    </tr>    <tr> \n",
       "        <th id=\"T_b999f2ec_9efe_11e8_9ef0_fc3fdbb02c95\" class=\"row_heading level0 row6\" >Age</th> \n",
       "        <td id=\"T_b999f2ec_9efe_11e8_9ef0_fc3fdbb02c95row6_col0\" class=\"data row6 col0\" >-0.00151954</td> \n",
       "        <td id=\"T_b999f2ec_9efe_11e8_9ef0_fc3fdbb02c95row6_col1\" class=\"data row6 col1\" >0.00445883</td> \n",
       "        <td id=\"T_b999f2ec_9efe_11e8_9ef0_fc3fdbb02c95row6_col2\" class=\"data row6 col2\" >-0.0120885</td> \n",
       "        <td id=\"T_b999f2ec_9efe_11e8_9ef0_fc3fdbb02c95row6_col3\" class=\"data row6 col3\" >-0.227542</td> \n",
       "        <td id=\"T_b999f2ec_9efe_11e8_9ef0_fc3fdbb02c95row6_col4\" class=\"data row6 col4\" >-0.145886</td> \n",
       "        <td id=\"T_b999f2ec_9efe_11e8_9ef0_fc3fdbb02c95row6_col5\" class=\"data row6 col5\" >0.670979</td> \n",
       "        <td id=\"T_b999f2ec_9efe_11e8_9ef0_fc3fdbb02c95row6_col6\" class=\"data row6 col6\" >1</td> \n",
       "        <td id=\"T_b999f2ec_9efe_11e8_9ef0_fc3fdbb02c95row6_col7\" class=\"data row6 col7\" >-0.0394252</td> \n",
       "        <td id=\"T_b999f2ec_9efe_11e8_9ef0_fc3fdbb02c95row6_col8\" class=\"data row6 col8\" >-0.0392243</td> \n",
       "        <td id=\"T_b999f2ec_9efe_11e8_9ef0_fc3fdbb02c95row6_col9\" class=\"data row6 col9\" >0.104304</td> \n",
       "        <td id=\"T_b999f2ec_9efe_11e8_9ef0_fc3fdbb02c95row6_col10\" class=\"data row6 col10\" >-0.221882</td> \n",
       "        <td id=\"T_b999f2ec_9efe_11e8_9ef0_fc3fdbb02c95row6_col11\" class=\"data row6 col11\" >0.0569841</td> \n",
       "        <td id=\"T_b999f2ec_9efe_11e8_9ef0_fc3fdbb02c95row6_col12\" class=\"data row6 col12\" >0.213183</td> \n",
       "        <td id=\"T_b999f2ec_9efe_11e8_9ef0_fc3fdbb02c95row6_col13\" class=\"data row6 col13\" >0.121738</td> \n",
       "        <td id=\"T_b999f2ec_9efe_11e8_9ef0_fc3fdbb02c95row6_col14\" class=\"data row6 col14\" >-0.231226</td> \n",
       "        <td id=\"T_b999f2ec_9efe_11e8_9ef0_fc3fdbb02c95row6_col15\" class=\"data row6 col15\" >0.41873</td> \n",
       "        <td id=\"T_b999f2ec_9efe_11e8_9ef0_fc3fdbb02c95row6_col16\" class=\"data row6 col16\" >-0.0629966</td> \n",
       "        <td id=\"T_b999f2ec_9efe_11e8_9ef0_fc3fdbb02c95row6_col17\" class=\"data row6 col17\" >0.470688</td> \n",
       "        <td id=\"T_b999f2ec_9efe_11e8_9ef0_fc3fdbb02c95row6_col18\" class=\"data row6 col18\" >0.0657597</td> \n",
       "    </tr>    <tr> \n",
       "        <th id=\"T_b999f2ec_9efe_11e8_9ef0_fc3fdbb02c95\" class=\"row_heading level0 row7\" >WorkLoad</th> \n",
       "        <td id=\"T_b999f2ec_9efe_11e8_9ef0_fc3fdbb02c95row7_col0\" class=\"data row7 col0\" >-0.169989</td> \n",
       "        <td id=\"T_b999f2ec_9efe_11e8_9ef0_fc3fdbb02c95row7_col1\" class=\"data row7 col1\" >0.0156461</td> \n",
       "        <td id=\"T_b999f2ec_9efe_11e8_9ef0_fc3fdbb02c95row7_col2\" class=\"data row7 col2\" >0.150439</td> \n",
       "        <td id=\"T_b999f2ec_9efe_11e8_9ef0_fc3fdbb02c95row7_col3\" class=\"data row7 col3\" >0.00543806</td> \n",
       "        <td id=\"T_b999f2ec_9efe_11e8_9ef0_fc3fdbb02c95row7_col4\" class=\"data row7 col4\" >-0.068677</td> \n",
       "        <td id=\"T_b999f2ec_9efe_11e8_9ef0_fc3fdbb02c95row7_col5\" class=\"data row7 col5\" >-0.000668491</td> \n",
       "        <td id=\"T_b999f2ec_9efe_11e8_9ef0_fc3fdbb02c95row7_col6\" class=\"data row7 col6\" >-0.0394252</td> \n",
       "        <td id=\"T_b999f2ec_9efe_11e8_9ef0_fc3fdbb02c95row7_col7\" class=\"data row7 col7\" >1</td> \n",
       "        <td id=\"T_b999f2ec_9efe_11e8_9ef0_fc3fdbb02c95row7_col8\" class=\"data row7 col8\" >-0.089445</td> \n",
       "        <td id=\"T_b999f2ec_9efe_11e8_9ef0_fc3fdbb02c95row7_col9\" class=\"data row7 col9\" >0.0290258</td> \n",
       "        <td id=\"T_b999f2ec_9efe_11e8_9ef0_fc3fdbb02c95row7_col10\" class=\"data row7 col10\" >-0.0749596</td> \n",
       "        <td id=\"T_b999f2ec_9efe_11e8_9ef0_fc3fdbb02c95row7_col11\" class=\"data row7 col11\" >0.0278202</td> \n",
       "        <td id=\"T_b999f2ec_9efe_11e8_9ef0_fc3fdbb02c95row7_col12\" class=\"data row7 col12\" >-0.0337126</td> \n",
       "        <td id=\"T_b999f2ec_9efe_11e8_9ef0_fc3fdbb02c95row7_col13\" class=\"data row7 col13\" >0.0309683</td> \n",
       "        <td id=\"T_b999f2ec_9efe_11e8_9ef0_fc3fdbb02c95row7_col14\" class=\"data row7 col14\" >0.0071142</td> \n",
       "        <td id=\"T_b999f2ec_9efe_11e8_9ef0_fc3fdbb02c95row7_col15\" class=\"data row7 col15\" >-0.0385216</td> \n",
       "        <td id=\"T_b999f2ec_9efe_11e8_9ef0_fc3fdbb02c95row7_col16\" class=\"data row7 col16\" >0.103315</td> \n",
       "        <td id=\"T_b999f2ec_9efe_11e8_9ef0_fc3fdbb02c95row7_col17\" class=\"data row7 col17\" >-0.0907093</td> \n",
       "        <td id=\"T_b999f2ec_9efe_11e8_9ef0_fc3fdbb02c95row7_col18\" class=\"data row7 col18\" >0.0247489</td> \n",
       "    </tr>    <tr> \n",
       "        <th id=\"T_b999f2ec_9efe_11e8_9ef0_fc3fdbb02c95\" class=\"row_heading level0 row8\" >HitTarget</th> \n",
       "        <td id=\"T_b999f2ec_9efe_11e8_9ef0_fc3fdbb02c95row8_col0\" class=\"data row8 col0\" >-0.460453</td> \n",
       "        <td id=\"T_b999f2ec_9efe_11e8_9ef0_fc3fdbb02c95row8_col1\" class=\"data row8 col1\" >0.0309861</td> \n",
       "        <td id=\"T_b999f2ec_9efe_11e8_9ef0_fc3fdbb02c95row8_col2\" class=\"data row8 col2\" >-0.0611541</td> \n",
       "        <td id=\"T_b999f2ec_9efe_11e8_9ef0_fc3fdbb02c95row8_col3\" class=\"data row8 col3\" >-0.080193</td> \n",
       "        <td id=\"T_b999f2ec_9efe_11e8_9ef0_fc3fdbb02c95row8_col4\" class=\"data row8 col4\" >-0.0138646</td> \n",
       "        <td id=\"T_b999f2ec_9efe_11e8_9ef0_fc3fdbb02c95row8_col5\" class=\"data row8 col5\" >-0.00784003</td> \n",
       "        <td id=\"T_b999f2ec_9efe_11e8_9ef0_fc3fdbb02c95row8_col6\" class=\"data row8 col6\" >-0.0392243</td> \n",
       "        <td id=\"T_b999f2ec_9efe_11e8_9ef0_fc3fdbb02c95row8_col7\" class=\"data row8 col7\" >-0.089445</td> \n",
       "        <td id=\"T_b999f2ec_9efe_11e8_9ef0_fc3fdbb02c95row8_col8\" class=\"data row8 col8\" >1</td> \n",
       "        <td id=\"T_b999f2ec_9efe_11e8_9ef0_fc3fdbb02c95row8_col9\" class=\"data row8 col9\" >-0.147971</td> \n",
       "        <td id=\"T_b999f2ec_9efe_11e8_9ef0_fc3fdbb02c95row8_col10\" class=\"data row8 col10\" >0.101062</td> \n",
       "        <td id=\"T_b999f2ec_9efe_11e8_9ef0_fc3fdbb02c95row8_col11\" class=\"data row8 col11\" >-0.0140906</td> \n",
       "        <td id=\"T_b999f2ec_9efe_11e8_9ef0_fc3fdbb02c95row8_col12\" class=\"data row8 col12\" >-0.10248</td> \n",
       "        <td id=\"T_b999f2ec_9efe_11e8_9ef0_fc3fdbb02c95row8_col13\" class=\"data row8 col13\" >0.0512539</td> \n",
       "        <td id=\"T_b999f2ec_9efe_11e8_9ef0_fc3fdbb02c95row8_col14\" class=\"data row8 col14\" >0.00720128</td> \n",
       "        <td id=\"T_b999f2ec_9efe_11e8_9ef0_fc3fdbb02c95row8_col15\" class=\"data row8 col15\" >-0.0449474</td> \n",
       "        <td id=\"T_b999f2ec_9efe_11e8_9ef0_fc3fdbb02c95row8_col16\" class=\"data row8 col16\" >0.0932669</td> \n",
       "        <td id=\"T_b999f2ec_9efe_11e8_9ef0_fc3fdbb02c95row8_col17\" class=\"data row8 col17\" >-0.0889395</td> \n",
       "        <td id=\"T_b999f2ec_9efe_11e8_9ef0_fc3fdbb02c95row8_col18\" class=\"data row8 col18\" >0.0266951</td> \n",
       "    </tr>    <tr> \n",
       "        <th id=\"T_b999f2ec_9efe_11e8_9ef0_fc3fdbb02c95\" class=\"row_heading level0 row9\" >DisciplinaryFailure</th> \n",
       "        <td id=\"T_b999f2ec_9efe_11e8_9ef0_fc3fdbb02c95row9_col0\" class=\"data row9 col0\" >0.107946</td> \n",
       "        <td id=\"T_b999f2ec_9efe_11e8_9ef0_fc3fdbb02c95row9_col1\" class=\"data row9 col1\" >-0.0151204</td> \n",
       "        <td id=\"T_b999f2ec_9efe_11e8_9ef0_fc3fdbb02c95row9_col2\" class=\"data row9 col2\" >0.151766</td> \n",
       "        <td id=\"T_b999f2ec_9efe_11e8_9ef0_fc3fdbb02c95row9_col3\" class=\"data row9 col3\" >0.109222</td> \n",
       "        <td id=\"T_b999f2ec_9efe_11e8_9ef0_fc3fdbb02c95row9_col4\" class=\"data row9 col4\" >-0.0565271</td> \n",
       "        <td id=\"T_b999f2ec_9efe_11e8_9ef0_fc3fdbb02c95row9_col5\" class=\"data row9 col5\" >-0.00022116</td> \n",
       "        <td id=\"T_b999f2ec_9efe_11e8_9ef0_fc3fdbb02c95row9_col6\" class=\"data row9 col6\" >0.104304</td> \n",
       "        <td id=\"T_b999f2ec_9efe_11e8_9ef0_fc3fdbb02c95row9_col7\" class=\"data row9 col7\" >0.0290258</td> \n",
       "        <td id=\"T_b999f2ec_9efe_11e8_9ef0_fc3fdbb02c95row9_col8\" class=\"data row9 col8\" >-0.147971</td> \n",
       "        <td id=\"T_b999f2ec_9efe_11e8_9ef0_fc3fdbb02c95row9_col9\" class=\"data row9 col9\" >1</td> \n",
       "        <td id=\"T_b999f2ec_9efe_11e8_9ef0_fc3fdbb02c95row9_col10\" class=\"data row9 col10\" >-0.0592982</td> \n",
       "        <td id=\"T_b999f2ec_9efe_11e8_9ef0_fc3fdbb02c95row9_col11\" class=\"data row9 col11\" >0.0720963</td> \n",
       "        <td id=\"T_b999f2ec_9efe_11e8_9ef0_fc3fdbb02c95row9_col12\" class=\"data row9 col12\" >0.051838</td> \n",
       "        <td id=\"T_b999f2ec_9efe_11e8_9ef0_fc3fdbb02c95row9_col13\" class=\"data row9 col13\" >0.116748</td> \n",
       "        <td id=\"T_b999f2ec_9efe_11e8_9ef0_fc3fdbb02c95row9_col14\" class=\"data row9 col14\" >0.0188814</td> \n",
       "        <td id=\"T_b999f2ec_9efe_11e8_9ef0_fc3fdbb02c95row9_col15\" class=\"data row9 col15\" >0.0722246</td> \n",
       "        <td id=\"T_b999f2ec_9efe_11e8_9ef0_fc3fdbb02c95row9_col16\" class=\"data row9 col16\" >-0.0104984</td> \n",
       "        <td id=\"T_b999f2ec_9efe_11e8_9ef0_fc3fdbb02c95row9_col17\" class=\"data row9 col17\" >0.0794282</td> \n",
       "        <td id=\"T_b999f2ec_9efe_11e8_9ef0_fc3fdbb02c95row9_col18\" class=\"data row9 col18\" >-0.124248</td> \n",
       "    </tr>    <tr> \n",
       "        <th id=\"T_b999f2ec_9efe_11e8_9ef0_fc3fdbb02c95\" class=\"row_heading level0 row10\" >Education</th> \n",
       "        <td id=\"T_b999f2ec_9efe_11e8_9ef0_fc3fdbb02c95row10_col0\" class=\"data row10 col0\" >-0.0661277</td> \n",
       "        <td id=\"T_b999f2ec_9efe_11e8_9ef0_fc3fdbb02c95row10_col1\" class=\"data row10 col1\" >0.0585159</td> \n",
       "        <td id=\"T_b999f2ec_9efe_11e8_9ef0_fc3fdbb02c95row10_col2\" class=\"data row10 col2\" >-0.0029511</td> \n",
       "        <td id=\"T_b999f2ec_9efe_11e8_9ef0_fc3fdbb02c95row10_col3\" class=\"data row10 col3\" >-0.0550648</td> \n",
       "        <td id=\"T_b999f2ec_9efe_11e8_9ef0_fc3fdbb02c95row10_col4\" class=\"data row10 col4\" >-0.259605</td> \n",
       "        <td id=\"T_b999f2ec_9efe_11e8_9ef0_fc3fdbb02c95row10_col5\" class=\"data row10 col5\" >-0.213</td> \n",
       "        <td id=\"T_b999f2ec_9efe_11e8_9ef0_fc3fdbb02c95row10_col6\" class=\"data row10 col6\" >-0.221882</td> \n",
       "        <td id=\"T_b999f2ec_9efe_11e8_9ef0_fc3fdbb02c95row10_col7\" class=\"data row10 col7\" >-0.0749596</td> \n",
       "        <td id=\"T_b999f2ec_9efe_11e8_9ef0_fc3fdbb02c95row10_col8\" class=\"data row10 col8\" >0.101062</td> \n",
       "        <td id=\"T_b999f2ec_9efe_11e8_9ef0_fc3fdbb02c95row10_col9\" class=\"data row10 col9\" >-0.0592982</td> \n",
       "        <td id=\"T_b999f2ec_9efe_11e8_9ef0_fc3fdbb02c95row10_col10\" class=\"data row10 col10\" >1</td> \n",
       "        <td id=\"T_b999f2ec_9efe_11e8_9ef0_fc3fdbb02c95row10_col11\" class=\"data row10 col11\" >-0.188622</td> \n",
       "        <td id=\"T_b999f2ec_9efe_11e8_9ef0_fc3fdbb02c95row10_col12\" class=\"data row10 col12\" >-0.420013</td> \n",
       "        <td id=\"T_b999f2ec_9efe_11e8_9ef0_fc3fdbb02c95row10_col13\" class=\"data row10 col13\" >0.0327273</td> \n",
       "        <td id=\"T_b999f2ec_9efe_11e8_9ef0_fc3fdbb02c95row10_col14\" class=\"data row10 col14\" >-0.0535543</td> \n",
       "        <td id=\"T_b999f2ec_9efe_11e8_9ef0_fc3fdbb02c95row10_col15\" class=\"data row10 col15\" >-0.300574</td> \n",
       "        <td id=\"T_b999f2ec_9efe_11e8_9ef0_fc3fdbb02c95row10_col16\" class=\"data row10 col16\" >0.100977</td> \n",
       "        <td id=\"T_b999f2ec_9efe_11e8_9ef0_fc3fdbb02c95row10_col17\" class=\"data row10 col17\" >-0.366884</td> \n",
       "        <td id=\"T_b999f2ec_9efe_11e8_9ef0_fc3fdbb02c95row10_col18\" class=\"data row10 col18\" >-0.0462352</td> \n",
       "    </tr>    <tr> \n",
       "        <th id=\"T_b999f2ec_9efe_11e8_9ef0_fc3fdbb02c95\" class=\"row_heading level0 row11\" >Son</th> \n",
       "        <td id=\"T_b999f2ec_9efe_11e8_9ef0_fc3fdbb02c95row11_col0\" class=\"data row11 col0\" >0.0790313</td> \n",
       "        <td id=\"T_b999f2ec_9efe_11e8_9ef0_fc3fdbb02c95row11_col1\" class=\"data row11 col1\" >0.0980788</td> \n",
       "        <td id=\"T_b999f2ec_9efe_11e8_9ef0_fc3fdbb02c95row11_col2\" class=\"data row11 col2\" >0.0469502</td> \n",
       "        <td id=\"T_b999f2ec_9efe_11e8_9ef0_fc3fdbb02c95row11_col3\" class=\"data row11 col3\" >0.383001</td> \n",
       "        <td id=\"T_b999f2ec_9efe_11e8_9ef0_fc3fdbb02c95row11_col4\" class=\"data row11 col4\" >0.0542304</td> \n",
       "        <td id=\"T_b999f2ec_9efe_11e8_9ef0_fc3fdbb02c95row11_col5\" class=\"data row11 col5\" >-0.0471284</td> \n",
       "        <td id=\"T_b999f2ec_9efe_11e8_9ef0_fc3fdbb02c95row11_col6\" class=\"data row11 col6\" >0.0569841</td> \n",
       "        <td id=\"T_b999f2ec_9efe_11e8_9ef0_fc3fdbb02c95row11_col7\" class=\"data row11 col7\" >0.0278202</td> \n",
       "        <td id=\"T_b999f2ec_9efe_11e8_9ef0_fc3fdbb02c95row11_col8\" class=\"data row11 col8\" >-0.0140906</td> \n",
       "        <td id=\"T_b999f2ec_9efe_11e8_9ef0_fc3fdbb02c95row11_col9\" class=\"data row11 col9\" >0.0720963</td> \n",
       "        <td id=\"T_b999f2ec_9efe_11e8_9ef0_fc3fdbb02c95row11_col10\" class=\"data row11 col10\" >-0.188622</td> \n",
       "        <td id=\"T_b999f2ec_9efe_11e8_9ef0_fc3fdbb02c95row11_col11\" class=\"data row11 col11\" >1</td> \n",
       "        <td id=\"T_b999f2ec_9efe_11e8_9ef0_fc3fdbb02c95row11_col12\" class=\"data row11 col12\" >0.206376</td> \n",
       "        <td id=\"T_b999f2ec_9efe_11e8_9ef0_fc3fdbb02c95row11_col13\" class=\"data row11 col13\" >0.156088</td> \n",
       "        <td id=\"T_b999f2ec_9efe_11e8_9ef0_fc3fdbb02c95row11_col14\" class=\"data row11 col14\" >0.108917</td> \n",
       "        <td id=\"T_b999f2ec_9efe_11e8_9ef0_fc3fdbb02c95row11_col15\" class=\"data row11 col15\" >-0.139552</td> \n",
       "        <td id=\"T_b999f2ec_9efe_11e8_9ef0_fc3fdbb02c95row11_col16\" class=\"data row11 col16\" >-0.0142083</td> \n",
       "        <td id=\"T_b999f2ec_9efe_11e8_9ef0_fc3fdbb02c95row11_col17\" class=\"data row11 col17\" >-0.14415</td> \n",
       "        <td id=\"T_b999f2ec_9efe_11e8_9ef0_fc3fdbb02c95row11_col18\" class=\"data row11 col18\" >0.113756</td> \n",
       "    </tr>    <tr> \n",
       "        <th id=\"T_b999f2ec_9efe_11e8_9ef0_fc3fdbb02c95\" class=\"row_heading level0 row12\" >SocialDrinker</th> \n",
       "        <td id=\"T_b999f2ec_9efe_11e8_9ef0_fc3fdbb02c95row12_col0\" class=\"data row12 col0\" >0.0562262</td> \n",
       "        <td id=\"T_b999f2ec_9efe_11e8_9ef0_fc3fdbb02c95row12_col1\" class=\"data row12 col1\" >0.0417723</td> \n",
       "        <td id=\"T_b999f2ec_9efe_11e8_9ef0_fc3fdbb02c95row12_col2\" class=\"data row12 col2\" >-0.0459819</td> \n",
       "        <td id=\"T_b999f2ec_9efe_11e8_9ef0_fc3fdbb02c95row12_col3\" class=\"data row12 col3\" >0.145117</td> \n",
       "        <td id=\"T_b999f2ec_9efe_11e8_9ef0_fc3fdbb02c95row12_col4\" class=\"data row12 col4\" >0.452196</td> \n",
       "        <td id=\"T_b999f2ec_9efe_11e8_9ef0_fc3fdbb02c95row12_col5\" class=\"data row12 col5\" >0.353141</td> \n",
       "        <td id=\"T_b999f2ec_9efe_11e8_9ef0_fc3fdbb02c95row12_col6\" class=\"data row12 col6\" >0.213183</td> \n",
       "        <td id=\"T_b999f2ec_9efe_11e8_9ef0_fc3fdbb02c95row12_col7\" class=\"data row12 col7\" >-0.0337126</td> \n",
       "        <td id=\"T_b999f2ec_9efe_11e8_9ef0_fc3fdbb02c95row12_col8\" class=\"data row12 col8\" >-0.10248</td> \n",
       "        <td id=\"T_b999f2ec_9efe_11e8_9ef0_fc3fdbb02c95row12_col9\" class=\"data row12 col9\" >0.051838</td> \n",
       "        <td id=\"T_b999f2ec_9efe_11e8_9ef0_fc3fdbb02c95row12_col10\" class=\"data row12 col10\" >-0.420013</td> \n",
       "        <td id=\"T_b999f2ec_9efe_11e8_9ef0_fc3fdbb02c95row12_col11\" class=\"data row12 col11\" >0.206376</td> \n",
       "        <td id=\"T_b999f2ec_9efe_11e8_9ef0_fc3fdbb02c95row12_col12\" class=\"data row12 col12\" >1</td> \n",
       "        <td id=\"T_b999f2ec_9efe_11e8_9ef0_fc3fdbb02c95row12_col13\" class=\"data row12 col13\" >-0.111678</td> \n",
       "        <td id=\"T_b999f2ec_9efe_11e8_9ef0_fc3fdbb02c95row12_col14\" class=\"data row12 col14\" >-0.12278</td> \n",
       "        <td id=\"T_b999f2ec_9efe_11e8_9ef0_fc3fdbb02c95row12_col15\" class=\"data row12 col15\" >0.378664</td> \n",
       "        <td id=\"T_b999f2ec_9efe_11e8_9ef0_fc3fdbb02c95row12_col16\" class=\"data row12 col16\" >0.169951</td> \n",
       "        <td id=\"T_b999f2ec_9efe_11e8_9ef0_fc3fdbb02c95row12_col17\" class=\"data row12 col17\" >0.323978</td> \n",
       "        <td id=\"T_b999f2ec_9efe_11e8_9ef0_fc3fdbb02c95row12_col18\" class=\"data row12 col18\" >0.0650673</td> \n",
       "    </tr>    <tr> \n",
       "        <th id=\"T_b999f2ec_9efe_11e8_9ef0_fc3fdbb02c95\" class=\"row_heading level0 row13\" >SocialSmoker</th> \n",
       "        <td id=\"T_b999f2ec_9efe_11e8_9ef0_fc3fdbb02c95row13_col0\" class=\"data row13 col0\" >-0.0386025</td> \n",
       "        <td id=\"T_b999f2ec_9efe_11e8_9ef0_fc3fdbb02c95row13_col1\" class=\"data row13 col1\" >0.0131556</td> \n",
       "        <td id=\"T_b999f2ec_9efe_11e8_9ef0_fc3fdbb02c95row13_col2\" class=\"data row13 col2\" >-0.0486707</td> \n",
       "        <td id=\"T_b999f2ec_9efe_11e8_9ef0_fc3fdbb02c95row13_col3\" class=\"data row13 col3\" >0.0443561</td> \n",
       "        <td id=\"T_b999f2ec_9efe_11e8_9ef0_fc3fdbb02c95row13_col4\" class=\"data row13 col4\" >-0.0753688</td> \n",
       "        <td id=\"T_b999f2ec_9efe_11e8_9ef0_fc3fdbb02c95row13_col5\" class=\"data row13 col5\" >0.0724243</td> \n",
       "        <td id=\"T_b999f2ec_9efe_11e8_9ef0_fc3fdbb02c95row13_col6\" class=\"data row13 col6\" >0.121738</td> \n",
       "        <td id=\"T_b999f2ec_9efe_11e8_9ef0_fc3fdbb02c95row13_col7\" class=\"data row13 col7\" >0.0309683</td> \n",
       "        <td id=\"T_b999f2ec_9efe_11e8_9ef0_fc3fdbb02c95row13_col8\" class=\"data row13 col8\" >0.0512539</td> \n",
       "        <td id=\"T_b999f2ec_9efe_11e8_9ef0_fc3fdbb02c95row13_col9\" class=\"data row13 col9\" >0.116748</td> \n",
       "        <td id=\"T_b999f2ec_9efe_11e8_9ef0_fc3fdbb02c95row13_col10\" class=\"data row13 col10\" >0.0327273</td> \n",
       "        <td id=\"T_b999f2ec_9efe_11e8_9ef0_fc3fdbb02c95row13_col11\" class=\"data row13 col11\" >0.156088</td> \n",
       "        <td id=\"T_b999f2ec_9efe_11e8_9ef0_fc3fdbb02c95row13_col12\" class=\"data row13 col12\" >-0.111678</td> \n",
       "        <td id=\"T_b999f2ec_9efe_11e8_9ef0_fc3fdbb02c95row13_col13\" class=\"data row13 col13\" >1</td> \n",
       "        <td id=\"T_b999f2ec_9efe_11e8_9ef0_fc3fdbb02c95row13_col14\" class=\"data row13 col14\" >0.105379</td> \n",
       "        <td id=\"T_b999f2ec_9efe_11e8_9ef0_fc3fdbb02c95row13_col15\" class=\"data row13 col15\" >-0.198511</td> \n",
       "        <td id=\"T_b999f2ec_9efe_11e8_9ef0_fc3fdbb02c95row13_col16\" class=\"data row13 col16\" >0.00327139</td> \n",
       "        <td id=\"T_b999f2ec_9efe_11e8_9ef0_fc3fdbb02c95row13_col17\" class=\"data row13 col17\" >-0.196006</td> \n",
       "        <td id=\"T_b999f2ec_9efe_11e8_9ef0_fc3fdbb02c95row13_col18\" class=\"data row13 col18\" >-0.00893642</td> \n",
       "    </tr>    <tr> \n",
       "        <th id=\"T_b999f2ec_9efe_11e8_9ef0_fc3fdbb02c95\" class=\"row_heading level0 row14\" >Pet</th> \n",
       "        <td id=\"T_b999f2ec_9efe_11e8_9ef0_fc3fdbb02c95row14_col0\" class=\"data row14 col0\" >0.0477873</td> \n",
       "        <td id=\"T_b999f2ec_9efe_11e8_9ef0_fc3fdbb02c95row14_col1\" class=\"data row14 col1\" >-0.0288851</td> \n",
       "        <td id=\"T_b999f2ec_9efe_11e8_9ef0_fc3fdbb02c95row14_col2\" class=\"data row14 col2\" >0.0123565</td> \n",
       "        <td id=\"T_b999f2ec_9efe_11e8_9ef0_fc3fdbb02c95row14_col3\" class=\"data row14 col3\" >0.40008</td> \n",
       "        <td id=\"T_b999f2ec_9efe_11e8_9ef0_fc3fdbb02c95row14_col4\" class=\"data row14 col4\" >0.205941</td> \n",
       "        <td id=\"T_b999f2ec_9efe_11e8_9ef0_fc3fdbb02c95row14_col5\" class=\"data row14 col5\" >-0.440301</td> \n",
       "        <td id=\"T_b999f2ec_9efe_11e8_9ef0_fc3fdbb02c95row14_col6\" class=\"data row14 col6\" >-0.231226</td> \n",
       "        <td id=\"T_b999f2ec_9efe_11e8_9ef0_fc3fdbb02c95row14_col7\" class=\"data row14 col7\" >0.0071142</td> \n",
       "        <td id=\"T_b999f2ec_9efe_11e8_9ef0_fc3fdbb02c95row14_col8\" class=\"data row14 col8\" >0.00720128</td> \n",
       "        <td id=\"T_b999f2ec_9efe_11e8_9ef0_fc3fdbb02c95row14_col9\" class=\"data row14 col9\" >0.0188814</td> \n",
       "        <td id=\"T_b999f2ec_9efe_11e8_9ef0_fc3fdbb02c95row14_col10\" class=\"data row14 col10\" >-0.0535543</td> \n",
       "        <td id=\"T_b999f2ec_9efe_11e8_9ef0_fc3fdbb02c95row14_col11\" class=\"data row14 col11\" >0.108917</td> \n",
       "        <td id=\"T_b999f2ec_9efe_11e8_9ef0_fc3fdbb02c95row14_col12\" class=\"data row14 col12\" >-0.12278</td> \n",
       "        <td id=\"T_b999f2ec_9efe_11e8_9ef0_fc3fdbb02c95row14_col13\" class=\"data row14 col13\" >0.105379</td> \n",
       "        <td id=\"T_b999f2ec_9efe_11e8_9ef0_fc3fdbb02c95row14_col14\" class=\"data row14 col14\" >1</td> \n",
       "        <td id=\"T_b999f2ec_9efe_11e8_9ef0_fc3fdbb02c95row14_col15\" class=\"data row14 col15\" >-0.10377</td> \n",
       "        <td id=\"T_b999f2ec_9efe_11e8_9ef0_fc3fdbb02c95row14_col16\" class=\"data row14 col16\" >-0.103143</td> \n",
       "        <td id=\"T_b999f2ec_9efe_11e8_9ef0_fc3fdbb02c95row14_col17\" class=\"data row14 col17\" >-0.0761029</td> \n",
       "        <td id=\"T_b999f2ec_9efe_11e8_9ef0_fc3fdbb02c95row14_col18\" class=\"data row14 col18\" >-0.0282766</td> \n",
       "    </tr>    <tr> \n",
       "        <th id=\"T_b999f2ec_9efe_11e8_9ef0_fc3fdbb02c95\" class=\"row_heading level0 row15\" >Weight</th> \n",
       "        <td id=\"T_b999f2ec_9efe_11e8_9ef0_fc3fdbb02c95row15_col0\" class=\"data row15 col0\" >0.0232783</td> \n",
       "        <td id=\"T_b999f2ec_9efe_11e8_9ef0_fc3fdbb02c95row15_col1\" class=\"data row15 col1\" >-0.12898</td> \n",
       "        <td id=\"T_b999f2ec_9efe_11e8_9ef0_fc3fdbb02c95row15_col2\" class=\"data row15 col2\" >-0.0262776</td> \n",
       "        <td id=\"T_b999f2ec_9efe_11e8_9ef0_fc3fdbb02c95row15_col3\" class=\"data row15 col3\" >-0.207435</td> \n",
       "        <td id=\"T_b999f2ec_9efe_11e8_9ef0_fc3fdbb02c95row15_col4\" class=\"data row15 col4\" >-0.0478591</td> \n",
       "        <td id=\"T_b999f2ec_9efe_11e8_9ef0_fc3fdbb02c95row15_col5\" class=\"data row15 col5\" >0.455975</td> \n",
       "        <td id=\"T_b999f2ec_9efe_11e8_9ef0_fc3fdbb02c95row15_col6\" class=\"data row15 col6\" >0.41873</td> \n",
       "        <td id=\"T_b999f2ec_9efe_11e8_9ef0_fc3fdbb02c95row15_col7\" class=\"data row15 col7\" >-0.0385216</td> \n",
       "        <td id=\"T_b999f2ec_9efe_11e8_9ef0_fc3fdbb02c95row15_col8\" class=\"data row15 col8\" >-0.0449474</td> \n",
       "        <td id=\"T_b999f2ec_9efe_11e8_9ef0_fc3fdbb02c95row15_col9\" class=\"data row15 col9\" >0.0722246</td> \n",
       "        <td id=\"T_b999f2ec_9efe_11e8_9ef0_fc3fdbb02c95row15_col10\" class=\"data row15 col10\" >-0.300574</td> \n",
       "        <td id=\"T_b999f2ec_9efe_11e8_9ef0_fc3fdbb02c95row15_col11\" class=\"data row15 col11\" >-0.139552</td> \n",
       "        <td id=\"T_b999f2ec_9efe_11e8_9ef0_fc3fdbb02c95row15_col12\" class=\"data row15 col12\" >0.378664</td> \n",
       "        <td id=\"T_b999f2ec_9efe_11e8_9ef0_fc3fdbb02c95row15_col13\" class=\"data row15 col13\" >-0.198511</td> \n",
       "        <td id=\"T_b999f2ec_9efe_11e8_9ef0_fc3fdbb02c95row15_col14\" class=\"data row15 col14\" >-0.10377</td> \n",
       "        <td id=\"T_b999f2ec_9efe_11e8_9ef0_fc3fdbb02c95row15_col15\" class=\"data row15 col15\" >1</td> \n",
       "        <td id=\"T_b999f2ec_9efe_11e8_9ef0_fc3fdbb02c95row15_col16\" class=\"data row15 col16\" >0.306802</td> \n",
       "        <td id=\"T_b999f2ec_9efe_11e8_9ef0_fc3fdbb02c95row15_col17\" class=\"data row15 col17\" >0.904117</td> \n",
       "        <td id=\"T_b999f2ec_9efe_11e8_9ef0_fc3fdbb02c95row15_col18\" class=\"data row15 col18\" >0.0157892</td> \n",
       "    </tr>    <tr> \n",
       "        <th id=\"T_b999f2ec_9efe_11e8_9ef0_fc3fdbb02c95\" class=\"row_heading level0 row16\" >Height</th> \n",
       "        <td id=\"T_b999f2ec_9efe_11e8_9ef0_fc3fdbb02c95row16_col0\" class=\"data row16 col0\" >-0.0689424</td> \n",
       "        <td id=\"T_b999f2ec_9efe_11e8_9ef0_fc3fdbb02c95row16_col1\" class=\"data row16 col1\" >-0.0821332</td> \n",
       "        <td id=\"T_b999f2ec_9efe_11e8_9ef0_fc3fdbb02c95row16_col2\" class=\"data row16 col2\" >-0.0337374</td> \n",
       "        <td id=\"T_b999f2ec_9efe_11e8_9ef0_fc3fdbb02c95row16_col3\" class=\"data row16 col3\" >-0.194496</td> \n",
       "        <td id=\"T_b999f2ec_9efe_11e8_9ef0_fc3fdbb02c95row16_col4\" class=\"data row16 col4\" >-0.353372</td> \n",
       "        <td id=\"T_b999f2ec_9efe_11e8_9ef0_fc3fdbb02c95row16_col5\" class=\"data row16 col5\" >-0.0531345</td> \n",
       "        <td id=\"T_b999f2ec_9efe_11e8_9ef0_fc3fdbb02c95row16_col6\" class=\"data row16 col6\" >-0.0629966</td> \n",
       "        <td id=\"T_b999f2ec_9efe_11e8_9ef0_fc3fdbb02c95row16_col7\" class=\"data row16 col7\" >0.103315</td> \n",
       "        <td id=\"T_b999f2ec_9efe_11e8_9ef0_fc3fdbb02c95row16_col8\" class=\"data row16 col8\" >0.0932669</td> \n",
       "        <td id=\"T_b999f2ec_9efe_11e8_9ef0_fc3fdbb02c95row16_col9\" class=\"data row16 col9\" >-0.0104984</td> \n",
       "        <td id=\"T_b999f2ec_9efe_11e8_9ef0_fc3fdbb02c95row16_col10\" class=\"data row16 col10\" >0.100977</td> \n",
       "        <td id=\"T_b999f2ec_9efe_11e8_9ef0_fc3fdbb02c95row16_col11\" class=\"data row16 col11\" >-0.0142083</td> \n",
       "        <td id=\"T_b999f2ec_9efe_11e8_9ef0_fc3fdbb02c95row16_col12\" class=\"data row16 col12\" >0.169951</td> \n",
       "        <td id=\"T_b999f2ec_9efe_11e8_9ef0_fc3fdbb02c95row16_col13\" class=\"data row16 col13\" >0.00327139</td> \n",
       "        <td id=\"T_b999f2ec_9efe_11e8_9ef0_fc3fdbb02c95row16_col14\" class=\"data row16 col14\" >-0.103143</td> \n",
       "        <td id=\"T_b999f2ec_9efe_11e8_9ef0_fc3fdbb02c95row16_col15\" class=\"data row16 col15\" >0.306802</td> \n",
       "        <td id=\"T_b999f2ec_9efe_11e8_9ef0_fc3fdbb02c95row16_col16\" class=\"data row16 col16\" >1</td> \n",
       "        <td id=\"T_b999f2ec_9efe_11e8_9ef0_fc3fdbb02c95row16_col17\" class=\"data row16 col17\" >-0.121049</td> \n",
       "        <td id=\"T_b999f2ec_9efe_11e8_9ef0_fc3fdbb02c95row16_col18\" class=\"data row16 col18\" >0.14442</td> \n",
       "    </tr>    <tr> \n",
       "        <th id=\"T_b999f2ec_9efe_11e8_9ef0_fc3fdbb02c95\" class=\"row_heading level0 row17\" >BMI</th> \n",
       "        <td id=\"T_b999f2ec_9efe_11e8_9ef0_fc3fdbb02c95row17_col0\" class=\"data row17 col0\" >0.0510463</td> \n",
       "        <td id=\"T_b999f2ec_9efe_11e8_9ef0_fc3fdbb02c95row17_col1\" class=\"data row17 col1\" >-0.103578</td> \n",
       "        <td id=\"T_b999f2ec_9efe_11e8_9ef0_fc3fdbb02c95row17_col2\" class=\"data row17 col2\" >-0.0110311</td> \n",
       "        <td id=\"T_b999f2ec_9efe_11e8_9ef0_fc3fdbb02c95row17_col3\" class=\"data row17 col3\" >-0.136517</td> \n",
       "        <td id=\"T_b999f2ec_9efe_11e8_9ef0_fc3fdbb02c95row17_col4\" class=\"data row17 col4\" >0.113772</td> \n",
       "        <td id=\"T_b999f2ec_9efe_11e8_9ef0_fc3fdbb02c95row17_col5\" class=\"data row17 col5\" >0.499718</td> \n",
       "        <td id=\"T_b999f2ec_9efe_11e8_9ef0_fc3fdbb02c95row17_col6\" class=\"data row17 col6\" >0.470688</td> \n",
       "        <td id=\"T_b999f2ec_9efe_11e8_9ef0_fc3fdbb02c95row17_col7\" class=\"data row17 col7\" >-0.0907093</td> \n",
       "        <td id=\"T_b999f2ec_9efe_11e8_9ef0_fc3fdbb02c95row17_col8\" class=\"data row17 col8\" >-0.0889395</td> \n",
       "        <td id=\"T_b999f2ec_9efe_11e8_9ef0_fc3fdbb02c95row17_col9\" class=\"data row17 col9\" >0.0794282</td> \n",
       "        <td id=\"T_b999f2ec_9efe_11e8_9ef0_fc3fdbb02c95row17_col10\" class=\"data row17 col10\" >-0.366884</td> \n",
       "        <td id=\"T_b999f2ec_9efe_11e8_9ef0_fc3fdbb02c95row17_col11\" class=\"data row17 col11\" >-0.14415</td> \n",
       "        <td id=\"T_b999f2ec_9efe_11e8_9ef0_fc3fdbb02c95row17_col12\" class=\"data row17 col12\" >0.323978</td> \n",
       "        <td id=\"T_b999f2ec_9efe_11e8_9ef0_fc3fdbb02c95row17_col13\" class=\"data row17 col13\" >-0.196006</td> \n",
       "        <td id=\"T_b999f2ec_9efe_11e8_9ef0_fc3fdbb02c95row17_col14\" class=\"data row17 col14\" >-0.0761029</td> \n",
       "        <td id=\"T_b999f2ec_9efe_11e8_9ef0_fc3fdbb02c95row17_col15\" class=\"data row17 col15\" >0.904117</td> \n",
       "        <td id=\"T_b999f2ec_9efe_11e8_9ef0_fc3fdbb02c95row17_col16\" class=\"data row17 col16\" >-0.121049</td> \n",
       "        <td id=\"T_b999f2ec_9efe_11e8_9ef0_fc3fdbb02c95row17_col17\" class=\"data row17 col17\" >1</td> \n",
       "        <td id=\"T_b999f2ec_9efe_11e8_9ef0_fc3fdbb02c95row17_col18\" class=\"data row17 col18\" >-0.0497195</td> \n",
       "    </tr>    <tr> \n",
       "        <th id=\"T_b999f2ec_9efe_11e8_9ef0_fc3fdbb02c95\" class=\"row_heading level0 row18\" >Absenteeism</th> \n",
       "        <td id=\"T_b999f2ec_9efe_11e8_9ef0_fc3fdbb02c95row18_col0\" class=\"data row18 col0\" >0.0243454</td> \n",
       "        <td id=\"T_b999f2ec_9efe_11e8_9ef0_fc3fdbb02c95row18_col1\" class=\"data row18 col1\" >-0.124361</td> \n",
       "        <td id=\"T_b999f2ec_9efe_11e8_9ef0_fc3fdbb02c95row18_col2\" class=\"data row18 col2\" >-0.00561498</td> \n",
       "        <td id=\"T_b999f2ec_9efe_11e8_9ef0_fc3fdbb02c95row18_col3\" class=\"data row18 col3\" >0.0275846</td> \n",
       "        <td id=\"T_b999f2ec_9efe_11e8_9ef0_fc3fdbb02c95row18_col4\" class=\"data row18 col4\" >-0.0883628</td> \n",
       "        <td id=\"T_b999f2ec_9efe_11e8_9ef0_fc3fdbb02c95row18_col5\" class=\"data row18 col5\" >0.0190293</td> \n",
       "        <td id=\"T_b999f2ec_9efe_11e8_9ef0_fc3fdbb02c95row18_col6\" class=\"data row18 col6\" >0.0657597</td> \n",
       "        <td id=\"T_b999f2ec_9efe_11e8_9ef0_fc3fdbb02c95row18_col7\" class=\"data row18 col7\" >0.0247489</td> \n",
       "        <td id=\"T_b999f2ec_9efe_11e8_9ef0_fc3fdbb02c95row18_col8\" class=\"data row18 col8\" >0.0266951</td> \n",
       "        <td id=\"T_b999f2ec_9efe_11e8_9ef0_fc3fdbb02c95row18_col9\" class=\"data row18 col9\" >-0.124248</td> \n",
       "        <td id=\"T_b999f2ec_9efe_11e8_9ef0_fc3fdbb02c95row18_col10\" class=\"data row18 col10\" >-0.0462352</td> \n",
       "        <td id=\"T_b999f2ec_9efe_11e8_9ef0_fc3fdbb02c95row18_col11\" class=\"data row18 col11\" >0.113756</td> \n",
       "        <td id=\"T_b999f2ec_9efe_11e8_9ef0_fc3fdbb02c95row18_col12\" class=\"data row18 col12\" >0.0650673</td> \n",
       "        <td id=\"T_b999f2ec_9efe_11e8_9ef0_fc3fdbb02c95row18_col13\" class=\"data row18 col13\" >-0.00893642</td> \n",
       "        <td id=\"T_b999f2ec_9efe_11e8_9ef0_fc3fdbb02c95row18_col14\" class=\"data row18 col14\" >-0.0282766</td> \n",
       "        <td id=\"T_b999f2ec_9efe_11e8_9ef0_fc3fdbb02c95row18_col15\" class=\"data row18 col15\" >0.0157892</td> \n",
       "        <td id=\"T_b999f2ec_9efe_11e8_9ef0_fc3fdbb02c95row18_col16\" class=\"data row18 col16\" >0.14442</td> \n",
       "        <td id=\"T_b999f2ec_9efe_11e8_9ef0_fc3fdbb02c95row18_col17\" class=\"data row18 col17\" >-0.0497195</td> \n",
       "        <td id=\"T_b999f2ec_9efe_11e8_9ef0_fc3fdbb02c95row18_col18\" class=\"data row18 col18\" >1</td> \n",
       "    </tr></tbody> \n",
       "</table> "
      ],
      "text/plain": [
       "<pandas.io.formats.style.Styler at 0x2360627c0b8>"
      ]
     },
     "execution_count": 4,
     "metadata": {},
     "output_type": "execute_result"
    }
   ],
   "source": [
    "corr = df.iloc[:, 2:].corr()\n",
    "corr.style.background_gradient()"
   ]
  },
  {
   "cell_type": "markdown",
   "metadata": {},
   "source": [
    "The only strong correlations evident are those between `Weight` and `BMI` and between `Height` and `BMI` which is to expected since BMI is calculated from the weight and height measurements of an individual."
   ]
  },
  {
   "cell_type": "markdown",
   "metadata": {},
   "source": [
    "## Visualize some Variables"
   ]
  },
  {
   "cell_type": "code",
   "execution_count": 5,
   "metadata": {},
   "outputs": [
    {
     "data": {
      "text/plain": [
       "array([[<matplotlib.axes._subplots.AxesSubplot object at 0x000002360B06D710>]], dtype=object)"
      ]
     },
     "execution_count": 5,
     "metadata": {},
     "output_type": "execute_result"
    },
    {
     "data": {
      "image/png": "[encoded data removed]",
      "text/plain": [
       "<Figure size 432x288 with 1 Axes>"
      ]
     },
     "metadata": {},
     "output_type": "display_data"
    }
   ],
   "source": [
    "# Use a log scale to plot absentee hours\n",
    "df.hist(column=\"Absenteeism\", bins=20, log=True)"
   ]
  },
  {
   "cell_type": "code",
   "execution_count": 6,
   "metadata": {},
   "outputs": [
    {
     "data": {
      "text/plain": [
       "8      208\n",
       "2      157\n",
       "3      112\n",
       "1       88\n",
       "4       60\n",
       "0       44\n",
       "16      19\n",
       "24      16\n",
       "40       7\n",
       "5        7\n",
       "32       6\n",
       "64       3\n",
       "80       3\n",
       "120      3\n",
       "112      2\n",
       "56       2\n",
       "48       1\n",
       "7        1\n",
       "104      1\n",
       "Name: Absenteeism, dtype: int64"
      ]
     },
     "execution_count": 6,
     "metadata": {},
     "output_type": "execute_result"
    }
   ],
   "source": [
    "# Count number of observations for absenteeism\n",
    "df['Absenteeism'].value_counts(sort=True)"
   ]
  },
  {
   "cell_type": "code",
   "execution_count": 7,
   "metadata": {},
   "outputs": [
    {
     "data": {
      "text/plain": [
       "<matplotlib.axes._subplots.AxesSubplot at 0x2360b8d3fd0>"
      ]
     },
     "execution_count": 7,
     "metadata": {},
     "output_type": "execute_result"
    },
    {
     "data": {
      "image/png": "[encoded data removed]",
      "text/plain": [
       "<Figure size 432x288 with 1 Axes>"
      ]
     },
     "metadata": {},
     "output_type": "display_data"
    }
   ],
   "source": [
    "df.boxplot(['Age', 'TravelExpense', 'TravelDistance',\n",
    "            'Education', 'Height', 'Weight', 'WorkLoad', 'BMI',\n",
    "            'ServiceTime'], rot=45)"
   ]
  },
  {
   "cell_type": "code",
   "execution_count": 8,
   "metadata": {},
   "outputs": [
    {
     "data": {
      "text/plain": [
       "array([[<matplotlib.axes._subplots.AxesSubplot object at 0x000002360B9EF4E0>]], dtype=object)"
      ]
     },
     "execution_count": 8,
     "metadata": {},
     "output_type": "execute_result"
    },
    {
     "data": {
      "image/png": "[encoded data removed]",
      "text/plain": [
       "<Figure size 432x288 with 1 Axes>"
      ]
     },
     "metadata": {},
     "output_type": "display_data"
    }
   ],
   "source": [
    "df.hist(column='Age', bins=20)"
   ]
  },
  {
   "cell_type": "code",
   "execution_count": 9,
   "metadata": {},
   "outputs": [
    {
     "data": {
      "text/plain": [
       "array([[<matplotlib.axes._subplots.AxesSubplot object at 0x000002360B5CE668>]], dtype=object)"
      ]
     },
     "execution_count": 9,
     "metadata": {},
     "output_type": "execute_result"
    },
    {
     "data": {
      "image/png": "[encoded data removed]",
      "text/plain": [
       "<Figure size 432x288 with 1 Axes>"
      ]
     },
     "metadata": {},
     "output_type": "display_data"
    }
   ],
   "source": [
    "df.hist(column='TravelExpense', bins=20)"
   ]
  },
  {
   "cell_type": "code",
   "execution_count": 10,
   "metadata": {},
   "outputs": [
    {
     "data": {
      "text/plain": [
       "array([[<matplotlib.axes._subplots.AxesSubplot object at 0x000002360BA39198>]], dtype=object)"
      ]
     },
     "execution_count": 10,
     "metadata": {},
     "output_type": "execute_result"
    },
    {
     "data": {
      "image/png": "[encoded data removed]",
      "text/plain": [
       "<Figure size 432x288 with 1 Axes>"
      ]
     },
     "metadata": {},
     "output_type": "display_data"
    }
   ],
   "source": [
    "df.hist(column='Son')"
   ]
  },
  {
   "cell_type": "markdown",
   "metadata": {},
   "source": [
    "For classification purposes, we may want to group `Absenteeism` into two groups, one that exceeds a certain number of hours (`1`) and one that does not (`0`)."
   ]
  },
  {
   "cell_type": "markdown",
   "metadata": {},
   "source": [
    "## Preprocess Data"
   ]
  },
  {
   "cell_type": "code",
   "execution_count": 11,
   "metadata": {
    "collapsed": true
   },
   "outputs": [],
   "source": [
    "from sklearn.preprocessing import StandardScaler"
   ]
  },
  {
   "cell_type": "code",
   "execution_count": 12,
   "metadata": {
    "collapsed": true
   },
   "outputs": [],
   "source": [
    "df.drop(['ID'], inplace=True, axis=1)"
   ]
  },
  {
   "cell_type": "code",
   "execution_count": 13,
   "metadata": {},
   "outputs": [
    {
     "name": "stdout",
     "output_type": "stream",
     "text": [
      "(740, 70)\n"
     ]
    },
    {
     "data": {
      "text/html": [
       "<div>\n",
       "<style>\n",
       "    .dataframe thead tr:only-child th {\n",
       "        text-align: right;\n",
       "    }\n",
       "\n",
       "    .dataframe thead th {\n",
       "        text-align: left;\n",
       "    }\n",
       "\n",
       "    .dataframe tbody tr th {\n",
       "        vertical-align: top;\n",
       "    }\n",
       "</style>\n",
       "<table border=\"1\" class=\"dataframe\">\n",
       "  <thead>\n",
       "    <tr style=\"text-align: right;\">\n",
       "      <th></th>\n",
       "      <th>Reason_1</th>\n",
       "      <th>Reason_2</th>\n",
       "      <th>Reason_3</th>\n",
       "      <th>Reason_4</th>\n",
       "      <th>Reason_5</th>\n",
       "      <th>Reason_6</th>\n",
       "      <th>Reason_7</th>\n",
       "      <th>Reason_8</th>\n",
       "      <th>Reason_9</th>\n",
       "      <th>Reason_10</th>\n",
       "      <th>...</th>\n",
       "      <th>Education_4</th>\n",
       "      <th>Son_1</th>\n",
       "      <th>Son_2</th>\n",
       "      <th>Son_3</th>\n",
       "      <th>Son_4</th>\n",
       "      <th>Pet_1</th>\n",
       "      <th>Pet_2</th>\n",
       "      <th>Pet_4</th>\n",
       "      <th>Pet_5</th>\n",
       "      <th>Pet_8</th>\n",
       "    </tr>\n",
       "  </thead>\n",
       "  <tbody>\n",
       "    <tr>\n",
       "      <th>0</th>\n",
       "      <td>0</td>\n",
       "      <td>0</td>\n",
       "      <td>0</td>\n",
       "      <td>0</td>\n",
       "      <td>0</td>\n",
       "      <td>0</td>\n",
       "      <td>0</td>\n",
       "      <td>0</td>\n",
       "      <td>0</td>\n",
       "      <td>0</td>\n",
       "      <td>...</td>\n",
       "      <td>0</td>\n",
       "      <td>0</td>\n",
       "      <td>1</td>\n",
       "      <td>0</td>\n",
       "      <td>0</td>\n",
       "      <td>1</td>\n",
       "      <td>0</td>\n",
       "      <td>0</td>\n",
       "      <td>0</td>\n",
       "      <td>0</td>\n",
       "    </tr>\n",
       "    <tr>\n",
       "      <th>1</th>\n",
       "      <td>0</td>\n",
       "      <td>0</td>\n",
       "      <td>0</td>\n",
       "      <td>0</td>\n",
       "      <td>0</td>\n",
       "      <td>0</td>\n",
       "      <td>0</td>\n",
       "      <td>0</td>\n",
       "      <td>0</td>\n",
       "      <td>0</td>\n",
       "      <td>...</td>\n",
       "      <td>0</td>\n",
       "      <td>1</td>\n",
       "      <td>0</td>\n",
       "      <td>0</td>\n",
       "      <td>0</td>\n",
       "      <td>0</td>\n",
       "      <td>0</td>\n",
       "      <td>0</td>\n",
       "      <td>0</td>\n",
       "      <td>0</td>\n",
       "    </tr>\n",
       "    <tr>\n",
       "      <th>2</th>\n",
       "      <td>0</td>\n",
       "      <td>0</td>\n",
       "      <td>0</td>\n",
       "      <td>0</td>\n",
       "      <td>0</td>\n",
       "      <td>0</td>\n",
       "      <td>0</td>\n",
       "      <td>0</td>\n",
       "      <td>0</td>\n",
       "      <td>0</td>\n",
       "      <td>...</td>\n",
       "      <td>0</td>\n",
       "      <td>0</td>\n",
       "      <td>0</td>\n",
       "      <td>0</td>\n",
       "      <td>0</td>\n",
       "      <td>0</td>\n",
       "      <td>0</td>\n",
       "      <td>0</td>\n",
       "      <td>0</td>\n",
       "      <td>0</td>\n",
       "    </tr>\n",
       "    <tr>\n",
       "      <th>3</th>\n",
       "      <td>0</td>\n",
       "      <td>0</td>\n",
       "      <td>0</td>\n",
       "      <td>0</td>\n",
       "      <td>0</td>\n",
       "      <td>0</td>\n",
       "      <td>1</td>\n",
       "      <td>0</td>\n",
       "      <td>0</td>\n",
       "      <td>0</td>\n",
       "      <td>...</td>\n",
       "      <td>0</td>\n",
       "      <td>0</td>\n",
       "      <td>1</td>\n",
       "      <td>0</td>\n",
       "      <td>0</td>\n",
       "      <td>0</td>\n",
       "      <td>0</td>\n",
       "      <td>0</td>\n",
       "      <td>0</td>\n",
       "      <td>0</td>\n",
       "    </tr>\n",
       "    <tr>\n",
       "      <th>4</th>\n",
       "      <td>0</td>\n",
       "      <td>0</td>\n",
       "      <td>0</td>\n",
       "      <td>0</td>\n",
       "      <td>0</td>\n",
       "      <td>0</td>\n",
       "      <td>0</td>\n",
       "      <td>0</td>\n",
       "      <td>0</td>\n",
       "      <td>0</td>\n",
       "      <td>...</td>\n",
       "      <td>0</td>\n",
       "      <td>0</td>\n",
       "      <td>1</td>\n",
       "      <td>0</td>\n",
       "      <td>0</td>\n",
       "      <td>1</td>\n",
       "      <td>0</td>\n",
       "      <td>0</td>\n",
       "      <td>0</td>\n",
       "      <td>0</td>\n",
       "    </tr>\n",
       "  </tbody>\n",
       "</table>\n",
       "<p>5 rows × 70 columns</p>\n",
       "</div>"
      ],
      "text/plain": [
       "   Reason_1  Reason_2  Reason_3  Reason_4  Reason_5  Reason_6  Reason_7  \\\n",
       "0         0         0         0         0         0         0         0   \n",
       "1         0         0         0         0         0         0         0   \n",
       "2         0         0         0         0         0         0         0   \n",
       "3         0         0         0         0         0         0         1   \n",
       "4         0         0         0         0         0         0         0   \n",
       "\n",
       "   Reason_8  Reason_9  Reason_10  ...    Education_4  Son_1  Son_2  Son_3  \\\n",
       "0         0         0          0  ...              0      0      1      0   \n",
       "1         0         0          0  ...              0      1      0      0   \n",
       "2         0         0          0  ...              0      0      0      0   \n",
       "3         0         0          0  ...              0      0      1      0   \n",
       "4         0         0          0  ...              0      0      1      0   \n",
       "\n",
       "   Son_4  Pet_1  Pet_2  Pet_4  Pet_5  Pet_8  \n",
       "0      0      1      0      0      0      0  \n",
       "1      0      0      0      0      0      0  \n",
       "2      0      0      0      0      0      0  \n",
       "3      0      0      0      0      0      0  \n",
       "4      0      1      0      0      0      0  \n",
       "\n",
       "[5 rows x 70 columns]"
      ]
     },
     "execution_count": 13,
     "metadata": {},
     "output_type": "execute_result"
    }
   ],
   "source": [
    "# Use one hot encoding for categorical and ordinal features (although they appear numerical)\n",
    "dummy_column_names = ['Reason', 'Month', 'WeekDay', 'Season', 'HitTarget', 'Education', 'Son', 'Pet']\n",
    "df_dummy = df[dummy_column_names]\n",
    "df_dummy = pd.get_dummies(df_dummy, columns=dummy_column_names, drop_first=True)\n",
    "print(df_dummy.shape)\n",
    "df_dummy.head()"
   ]
  },
  {
   "cell_type": "code",
   "execution_count": 14,
   "metadata": {
    "collapsed": true
   },
   "outputs": [],
   "source": [
    "# Normalize numerical features\n",
    "scaled_column_names = ['TravelExpense', 'TravelDistance', 'ServiceTime', 'Age', 'WorkLoad',\n",
    "                       'Weight', 'Height', 'BMI']\n",
    "scaled_features = StandardScaler().fit_transform(df[scaled_column_names])"
   ]
  },
  {
   "cell_type": "code",
   "execution_count": 15,
   "metadata": {
    "collapsed": true
   },
   "outputs": [],
   "source": [
    "df_scaled_features = pd.DataFrame(scaled_features, index=df.index, columns=scaled_column_names)"
   ]
  },
  {
   "cell_type": "code",
   "execution_count": 16,
   "metadata": {},
   "outputs": [
    {
     "name": "stdout",
     "output_type": "stream",
     "text": [
      "(740, 82)\n"
     ]
    },
    {
     "data": {
      "text/html": [
       "<div>\n",
       "<style>\n",
       "    .dataframe thead tr:only-child th {\n",
       "        text-align: right;\n",
       "    }\n",
       "\n",
       "    .dataframe thead th {\n",
       "        text-align: left;\n",
       "    }\n",
       "\n",
       "    .dataframe tbody tr th {\n",
       "        vertical-align: top;\n",
       "    }\n",
       "</style>\n",
       "<table border=\"1\" class=\"dataframe\">\n",
       "  <thead>\n",
       "    <tr style=\"text-align: right;\">\n",
       "      <th></th>\n",
       "      <th>Reason_1</th>\n",
       "      <th>Reason_2</th>\n",
       "      <th>Reason_3</th>\n",
       "      <th>Reason_4</th>\n",
       "      <th>Reason_5</th>\n",
       "      <th>Reason_6</th>\n",
       "      <th>Reason_7</th>\n",
       "      <th>Reason_8</th>\n",
       "      <th>Reason_9</th>\n",
       "      <th>Reason_10</th>\n",
       "      <th>...</th>\n",
       "      <th>ServiceTime</th>\n",
       "      <th>Age</th>\n",
       "      <th>WorkLoad</th>\n",
       "      <th>Weight</th>\n",
       "      <th>Height</th>\n",
       "      <th>BMI</th>\n",
       "      <th>SocialDrinker</th>\n",
       "      <th>DisciplinaryFailure</th>\n",
       "      <th>SocialSmoker</th>\n",
       "      <th>Absenteeism</th>\n",
       "    </tr>\n",
       "  </thead>\n",
       "  <tbody>\n",
       "    <tr>\n",
       "      <th>0</th>\n",
       "      <td>0</td>\n",
       "      <td>0</td>\n",
       "      <td>0</td>\n",
       "      <td>0</td>\n",
       "      <td>0</td>\n",
       "      <td>0</td>\n",
       "      <td>0</td>\n",
       "      <td>0</td>\n",
       "      <td>0</td>\n",
       "      <td>0</td>\n",
       "      <td>...</td>\n",
       "      <td>0.101770</td>\n",
       "      <td>-0.532868</td>\n",
       "      <td>-0.818212</td>\n",
       "      <td>0.851673</td>\n",
       "      <td>-0.019046</td>\n",
       "      <td>0.775932</td>\n",
       "      <td>1</td>\n",
       "      <td>0</td>\n",
       "      <td>0</td>\n",
       "      <td>4</td>\n",
       "    </tr>\n",
       "    <tr>\n",
       "      <th>1</th>\n",
       "      <td>0</td>\n",
       "      <td>0</td>\n",
       "      <td>0</td>\n",
       "      <td>0</td>\n",
       "      <td>0</td>\n",
       "      <td>0</td>\n",
       "      <td>0</td>\n",
       "      <td>0</td>\n",
       "      <td>0</td>\n",
       "      <td>0</td>\n",
       "      <td>...</td>\n",
       "      <td>1.242825</td>\n",
       "      <td>2.092860</td>\n",
       "      <td>-0.818212</td>\n",
       "      <td>1.473056</td>\n",
       "      <td>0.975828</td>\n",
       "      <td>1.009438</td>\n",
       "      <td>1</td>\n",
       "      <td>1</td>\n",
       "      <td>0</td>\n",
       "      <td>0</td>\n",
       "    </tr>\n",
       "    <tr>\n",
       "      <th>2</th>\n",
       "      <td>0</td>\n",
       "      <td>0</td>\n",
       "      <td>0</td>\n",
       "      <td>0</td>\n",
       "      <td>0</td>\n",
       "      <td>0</td>\n",
       "      <td>0</td>\n",
       "      <td>0</td>\n",
       "      <td>0</td>\n",
       "      <td>0</td>\n",
       "      <td>...</td>\n",
       "      <td>1.242825</td>\n",
       "      <td>0.239405</td>\n",
       "      <td>-0.818212</td>\n",
       "      <td>0.774000</td>\n",
       "      <td>-0.350671</td>\n",
       "      <td>1.009438</td>\n",
       "      <td>1</td>\n",
       "      <td>0</td>\n",
       "      <td>0</td>\n",
       "      <td>2</td>\n",
       "    </tr>\n",
       "    <tr>\n",
       "      <th>3</th>\n",
       "      <td>0</td>\n",
       "      <td>0</td>\n",
       "      <td>0</td>\n",
       "      <td>0</td>\n",
       "      <td>0</td>\n",
       "      <td>0</td>\n",
       "      <td>1</td>\n",
       "      <td>0</td>\n",
       "      <td>0</td>\n",
       "      <td>0</td>\n",
       "      <td>...</td>\n",
       "      <td>0.329981</td>\n",
       "      <td>0.393859</td>\n",
       "      <td>-0.818212</td>\n",
       "      <td>-0.857131</td>\n",
       "      <td>-0.682295</td>\n",
       "      <td>-0.625100</td>\n",
       "      <td>1</td>\n",
       "      <td>0</td>\n",
       "      <td>1</td>\n",
       "      <td>4</td>\n",
       "    </tr>\n",
       "    <tr>\n",
       "      <th>4</th>\n",
       "      <td>0</td>\n",
       "      <td>0</td>\n",
       "      <td>0</td>\n",
       "      <td>0</td>\n",
       "      <td>0</td>\n",
       "      <td>0</td>\n",
       "      <td>0</td>\n",
       "      <td>0</td>\n",
       "      <td>0</td>\n",
       "      <td>0</td>\n",
       "      <td>...</td>\n",
       "      <td>0.101770</td>\n",
       "      <td>-0.532868</td>\n",
       "      <td>-0.818212</td>\n",
       "      <td>0.851673</td>\n",
       "      <td>-0.019046</td>\n",
       "      <td>0.775932</td>\n",
       "      <td>1</td>\n",
       "      <td>0</td>\n",
       "      <td>0</td>\n",
       "      <td>2</td>\n",
       "    </tr>\n",
       "  </tbody>\n",
       "</table>\n",
       "<p>5 rows × 82 columns</p>\n",
       "</div>"
      ],
      "text/plain": [
       "   Reason_1  Reason_2  Reason_3  Reason_4  Reason_5  Reason_6  Reason_7  \\\n",
       "0         0         0         0         0         0         0         0   \n",
       "1         0         0         0         0         0         0         0   \n",
       "2         0         0         0         0         0         0         0   \n",
       "3         0         0         0         0         0         0         1   \n",
       "4         0         0         0         0         0         0         0   \n",
       "\n",
       "   Reason_8  Reason_9  Reason_10     ...       ServiceTime       Age  \\\n",
       "0         0         0          0     ...          0.101770 -0.532868   \n",
       "1         0         0          0     ...          1.242825  2.092860   \n",
       "2         0         0          0     ...          1.242825  0.239405   \n",
       "3         0         0          0     ...          0.329981  0.393859   \n",
       "4         0         0          0     ...          0.101770 -0.532868   \n",
       "\n",
       "   WorkLoad    Weight    Height       BMI  SocialDrinker  DisciplinaryFailure  \\\n",
       "0 -0.818212  0.851673 -0.019046  0.775932              1                    0   \n",
       "1 -0.818212  1.473056  0.975828  1.009438              1                    1   \n",
       "2 -0.818212  0.774000 -0.350671  1.009438              1                    0   \n",
       "3 -0.818212 -0.857131 -0.682295 -0.625100              1                    0   \n",
       "4 -0.818212  0.851673 -0.019046  0.775932              1                    0   \n",
       "\n",
       "   SocialSmoker  Absenteeism  \n",
       "0             0            4  \n",
       "1             0            0  \n",
       "2             0            2  \n",
       "3             1            4  \n",
       "4             0            2  \n",
       "\n",
       "[5 rows x 82 columns]"
      ]
     },
     "execution_count": 16,
     "metadata": {},
     "output_type": "execute_result"
    }
   ],
   "source": [
    "# Join dataframes\n",
    "df_mod = pd.concat([df_dummy, df_scaled_features,\n",
    "                   df[['SocialDrinker', 'DisciplinaryFailure', 'SocialSmoker', 'Absenteeism']]], axis=1)\n",
    "print(df_mod.shape)\n",
    "df_mod.head()"
   ]
  },
  {
   "cell_type": "code",
   "execution_count": 17,
   "metadata": {},
   "outputs": [
    {
     "name": "stdout",
     "output_type": "stream",
     "text": [
      "(740, 81)\n",
      "(740,)\n"
     ]
    }
   ],
   "source": [
    "X = df_mod.loc[:, df_mod.columns != 'Absenteeism']\n",
    "y = df_mod['Absenteeism']\n",
    "print(X.shape)\n",
    "print(y.shape)"
   ]
  },
  {
   "cell_type": "markdown",
   "metadata": {},
   "source": [
    "## Split Data into Training and Test Sets"
   ]
  },
  {
   "cell_type": "code",
   "execution_count": 18,
   "metadata": {
    "collapsed": true
   },
   "outputs": [],
   "source": [
    "from sklearn.model_selection import train_test_split"
   ]
  },
  {
   "cell_type": "code",
   "execution_count": 19,
   "metadata": {
    "collapsed": true
   },
   "outputs": [],
   "source": [
    "X_train, X_test, y_train, y_test = train_test_split(X, y, test_size=0.2, random_state=4)"
   ]
  },
  {
   "cell_type": "markdown",
   "metadata": {},
   "source": [
    "## Linear Regression"
   ]
  },
  {
   "cell_type": "markdown",
   "metadata": {},
   "source": [
    "The (limited) data exploration in the previous section already indicated that (multiple) linear regression is probably not a good choice when trying to predict `Absenteeism` since most, if not all, of the features are not linearly related to the response variable. Nevertheless, lets try a multiple linear regression with a subset of the features.  \n",
    "\n",
    "http://scikit-learn.org/stable/modules/generated/sklearn.linear_model.RidgeCV.html"
   ]
  },
  {
   "cell_type": "code",
   "execution_count": 20,
   "metadata": {
    "collapsed": true
   },
   "outputs": [],
   "source": [
    "from sklearn.linear_model import Ridge, RidgeCV\n",
    "from sklearn.metrics import r2_score"
   ]
  },
  {
   "cell_type": "code",
   "execution_count": 21,
   "metadata": {},
   "outputs": [
    {
     "name": "stdout",
     "output_type": "stream",
     "text": [
      "Alpha from Ridge regression with cross validation: 20.0\n"
     ]
    }
   ],
   "source": [
    "def ridge_regression(X, y):\n",
    "    \n",
    "    regr = RidgeCV(alphas=[0.1, 1.0, 10.0, 20.0, 50.0, 100.0])\n",
    "    regr.fit(X_train, y_train)\n",
    "    \n",
    "    return regr.alpha_\n",
    "\n",
    "features = np.asanyarray(X_train[scaled_column_names])\n",
    "lbls = np.asanyarray(y_train)\n",
    "\n",
    "alpha = ridge_regression(features, lbls)\n",
    "print(\"Alpha from Ridge regression with cross validation:\", alpha)"
   ]
  },
  {
   "cell_type": "markdown",
   "metadata": {},
   "source": [
    "The relatively high value of alpha suggests that the model is underfitting and (ridge) regression is not recommended.  \n",
    "\n",
    "Use Ridge regression with the suggested alpha to make predictions:"
   ]
  },
  {
   "cell_type": "code",
   "execution_count": 22,
   "metadata": {},
   "outputs": [
    {
     "name": "stdout",
     "output_type": "stream",
     "text": [
      "Mean absolute error: 5.93\n",
      "Residual sum of squares (MSE): 179.68\n",
      "R2-score: -4.80\n"
     ]
    }
   ],
   "source": [
    "reg = Ridge(alpha=20.0)\n",
    "reg.fit(X_train, y_train)\n",
    "predictions = reg.predict(X_test)\n",
    "\n",
    "print(\"Mean absolute error: %.2f\" % np.mean(np.absolute(predictions - y_test)))\n",
    "print(\"Residual sum of squares (MSE): %.2f\" % np.mean((predictions - y_test) ** 2))\n",
    "print(\"R2-score: %.2f\" % r2_score(predictions , y_test))"
   ]
  },
  {
   "cell_type": "code",
   "execution_count": 23,
   "metadata": {},
   "outputs": [
    {
     "data": {
      "text/plain": [
       "<matplotlib.collections.PathCollection at 0x2360be39c18>"
      ]
     },
     "execution_count": 23,
     "metadata": {},
     "output_type": "execute_result"
    },
    {
     "data": {
      "image/png": "[encoded data removed]",
      "text/plain": [
       "<Figure size 432x288 with 1 Axes>"
      ]
     },
     "metadata": {},
     "output_type": "display_data"
    }
   ],
   "source": [
    "# Plot the residuals\n",
    "resid = predictions - y_test\n",
    "plt.scatter(range(len(resid)), resid)"
   ]
  },
  {
   "cell_type": "markdown",
   "metadata": {},
   "source": [
    "The metrics show above indeed show that ridge (linear) regression does not hold much promise."
   ]
  },
  {
   "cell_type": "markdown",
   "metadata": {},
   "source": [
    "## Logistic Regression"
   ]
  },
  {
   "cell_type": "markdown",
   "metadata": {},
   "source": [
    "Logistic regression typically requires a binary label (0/1, True/False, yes/no). Based on the variable `Absenteeism time in hours`, cases are assigned a `0` (does not exceed) or `1` (does exceed) based on user-specified cutoff value for classifiction purposes. Note that multiple classes are supported by `LogisticRegression` using the 'one versus rest` (OvR) scheme.  \n",
    "\n",
    "http://scikit-learn.org/stable/modules/generated/sklearn.linear_model.LogisticRegression.html"
   ]
  },
  {
   "cell_type": "code",
   "execution_count": 24,
   "metadata": {
    "collapsed": true
   },
   "outputs": [],
   "source": [
    "from sklearn.linear_model import LogisticRegressionCV\n",
    "from sklearn.metrics import confusion_matrix, jaccard_similarity_score, roc_curve,\\\n",
    "                            classification_report, log_loss, accuracy_score, roc_auc_score"
   ]
  },
  {
   "cell_type": "markdown",
   "metadata": {},
   "source": [
    "The function `plot_confusion_matrix` can be used to plot a visual confusion matrix."
   ]
  },
  {
   "cell_type": "code",
   "execution_count": 25,
   "metadata": {
    "collapsed": true
   },
   "outputs": [],
   "source": [
    "def plot_confusion_matrix(cm, classes,\n",
    "                          normalize=False,\n",
    "                          title='Confusion matrix',\n",
    "                          cmap=plt.cm.Blues):\n",
    "    \"\"\"\n",
    "    This function prints and plots the confusion matrix.\n",
    "    Normalization can be applied by setting `normalize=True`.\n",
    "    \"\"\"\n",
    "    if normalize:\n",
    "        cm = cm.astype('float') / cm.sum(axis=1)[:, np.newaxis]\n",
    "        print(\"Normalized confusion matrix\")\n",
    "    else:\n",
    "        print('Confusion matrix, without normalization')\n",
    "\n",
    "    print(cm)\n",
    "\n",
    "    plt.imshow(cm, interpolation='nearest', cmap=cmap)\n",
    "    plt.title(title)\n",
    "    plt.colorbar()\n",
    "    tick_marks = np.arange(len(classes))\n",
    "    plt.xticks(tick_marks, classes, rotation=45)\n",
    "    plt.yticks(tick_marks, classes)\n",
    "\n",
    "    fmt = '.2f' if normalize else 'd'\n",
    "    thresh = cm.max() / 2.\n",
    "    for i, j in itertools.product(range(cm.shape[0]), range(cm.shape[1])):\n",
    "        plt.text(j, i, format(cm[i, j], fmt),\n",
    "                 horizontalalignment=\"center\",\n",
    "                 color=\"white\" if cm[i, j] > thresh else \"black\")\n",
    "\n",
    "    plt.tight_layout()\n",
    "    plt.ylabel('True label')\n",
    "    plt.xlabel('Predicted label')\n",
    "    #print(confusion_matrix(y_test, yhat, labels=[1,0]))"
   ]
  },
  {
   "cell_type": "markdown",
   "metadata": {},
   "source": [
    "The function `plot_roc` can be used to plot the ROC AUC curve."
   ]
  },
  {
   "cell_type": "code",
   "execution_count": 26,
   "metadata": {
    "collapsed": true
   },
   "outputs": [],
   "source": [
    "def plot_roc(y_test, y_pred, model_name):\n",
    "    fpr, tpr, thr = roc_curve(y_test, y_pred)\n",
    "    fig, ax = plt.subplots(figsize=(8, 8))\n",
    "    ax.plot(fpr, tpr, 'k-')\n",
    "    ax.plot([0, 1], [0, 1], 'k--', linewidth=.5)  # roc curve for random model\n",
    "    ax.grid(True)\n",
    "    ax.set(title='ROC Curve for {} on Absenteeism problem'.format(model_name),\n",
    "           xlim=[-0.01, 1.01], ylim=[-0.01, 1.01])"
   ]
  },
  {
   "cell_type": "markdown",
   "metadata": {},
   "source": [
    "In order to evaluate the remaining algorithms, we choose a time cutoff value of 7 hours which gives the following:"
   ]
  },
  {
   "cell_type": "code",
   "execution_count": 27,
   "metadata": {},
   "outputs": [
    {
     "name": "stdout",
     "output_type": "stream",
     "text": [
      "Percent of cases exceeding at least 7 hours of absenteeism: 36.76\n"
     ]
    }
   ],
   "source": [
    "print('Percent of cases exceeding at least 7 hours of absenteeism:', '{:.2f}'.format(sum(y>=7)/len(y)*100))"
   ]
  },
  {
   "cell_type": "markdown",
   "metadata": {},
   "source": [
    "Note that we can achieve an accuracy of approximately 64% by predicting that nobody will exceed at least 7 hours of absenteeism time."
   ]
  },
  {
   "cell_type": "code",
   "execution_count": 28,
   "metadata": {
    "collapsed": true
   },
   "outputs": [],
   "source": [
    "# Prepare the (normalized) training and test sets\n",
    "y_bin = np.where(y >= 7, 1, 0)\n",
    "X = np.asarray(X)\n",
    "\n",
    "X_train, X_test, y_train, y_test = train_test_split(X, y_bin, test_size=0.2, random_state=4)"
   ]
  },
  {
   "cell_type": "code",
   "execution_count": 29,
   "metadata": {},
   "outputs": [
    {
     "name": "stdout",
     "output_type": "stream",
     "text": [
      "Accuracy on test set is 0.838\n"
     ]
    }
   ],
   "source": [
    "def logistic_regression(X_train, y_train, X_test, y_test, prob='no'):\n",
    "    \n",
    "    lr = LogisticRegressionCV(\n",
    "        Cs=list(np.power(10.0, np.arange(-10, 10))),\n",
    "        penalty='l2', scoring='roc_auc')\n",
    "    lr.fit(X_train, y_train)\n",
    "    \n",
    "    if prob == 'no':\n",
    "        predictions = lr.predict(X_test)\n",
    "        print('Accuracy on test set is {:.3f}'.format(accuracy_score(y_test, predictions)))\n",
    "    else:\n",
    "        predictions = lr.predict_log_proba(X_test)\n",
    "        print('ROC AUC score:', lr.scores_[1].max())\n",
    "    \n",
    "    return predictions\n",
    "    \n",
    "predictions = logistic_regression(X_train, y_train, X_test, y_test)"
   ]
  },
  {
   "cell_type": "code",
   "execution_count": 30,
   "metadata": {},
   "outputs": [
    {
     "name": "stdout",
     "output_type": "stream",
     "text": [
      "ROC AUC score: 0.879241192412\n"
     ]
    },
    {
     "data": {
      "image/png": "[encoded data removed]",
      "text/plain": [
       "<Figure size 576x576 with 1 Axes>"
      ]
     },
     "metadata": {},
     "output_type": "display_data"
    }
   ],
   "source": [
    "predictions_prob = logistic_regression(X_train, y_train, X_test, y_test, prob='yes')\n",
    "plot_roc(y_test, predictions_prob[:,1], 'LR')"
   ]
  },
  {
   "cell_type": "code",
   "execution_count": 31,
   "metadata": {},
   "outputs": [
    {
     "name": "stdout",
     "output_type": "stream",
     "text": [
      "Confusion matrix, without normalization\n",
      "[[40  7]\n",
      " [17 84]]\n"
     ]
    },
    {
     "data": {
      "image/png": "[encoded data removed]",
      "text/plain": [
       "<Figure size 432x288 with 2 Axes>"
      ]
     },
     "metadata": {},
     "output_type": "display_data"
    }
   ],
   "source": [
    "# Compute confusion matrix\n",
    "cnf_matrix = confusion_matrix(y_test, predictions, labels=[1,0])\n",
    "np.set_printoptions(precision=2)\n",
    "\n",
    "# Plot non-normalized confusion matrix\n",
    "plt.figure()\n",
    "plot_confusion_matrix(cnf_matrix, classes=['exceed=1','not exceed=0'], normalize=False,  title='Confusion matrix')"
   ]
  },
  {
   "cell_type": "markdown",
   "metadata": {},
   "source": [
    "The number of false positives (predicted to exceed the time cutoff although they did not) was 17/148 or approximately 11%. The percentage of false negatives (not expected to exceed the time cutoff but did) was approximately 5% (7/148). Compared to linear regression this is a significant improvement although it should be mentioned that we have lost granularity by 'binning' the observations into two groups."
   ]
  },
  {
   "cell_type": "code",
   "execution_count": 32,
   "metadata": {},
   "outputs": [
    {
     "name": "stdout",
     "output_type": "stream",
     "text": [
      "             precision    recall  f1-score   support\n",
      "\n",
      "          0       0.92      0.83      0.87       101\n",
      "          1       0.70      0.85      0.77        47\n",
      "\n",
      "avg / total       0.85      0.84      0.84       148\n",
      "\n"
     ]
    }
   ],
   "source": [
    "print(classification_report(y_test, predictions))"
   ]
  },
  {
   "cell_type": "markdown",
   "metadata": {},
   "source": [
    "Log loss quantifies the accuracy of a classifier by penalizing false classifications. Minimizing the log loss is basically equivalent to maximizing the accuracy of the classifier. The log loss gradually declines as the predicted probability improves. Moving in the opposite direction though, the log loss ramps up very rapidly as the predicted probability approaches 0. In short, log loss heavily penalizes classifiers tht are confident about an incorrect classification."
   ]
  },
  {
   "cell_type": "code",
   "execution_count": 33,
   "metadata": {},
   "outputs": [
    {
     "name": "stdout",
     "output_type": "stream",
     "text": [
      "0.69314718056\n"
     ]
    }
   ],
   "source": [
    "print(log_loss(y_test, predictions_prob))"
   ]
  },
  {
   "cell_type": "markdown",
   "metadata": {},
   "source": [
    "## Support Vector Machine  \n",
    "\n",
    "http://scikit-learn.org/stable/modules/generated/sklearn.svm.SVC.html"
   ]
  },
  {
   "cell_type": "code",
   "execution_count": 34,
   "metadata": {
    "collapsed": true
   },
   "outputs": [],
   "source": [
    "from sklearn.svm import SVC\n",
    "from sklearn.model_selection import cross_val_score"
   ]
  },
  {
   "cell_type": "code",
   "execution_count": 35,
   "metadata": {
    "collapsed": true
   },
   "outputs": [],
   "source": [
    "def svm(X, y, C):\n",
    "    \"\"\"\n",
    "    Using a support vector machine with cross validation\n",
    "    \"\"\"\n",
    "    clf = SVC(kernel='linear', C=C)\n",
    "    scores = cross_val_score(estimator=clf, X=X, y=y, cv=10, scoring='accuracy')\n",
    "    return scores"
   ]
  },
  {
   "cell_type": "code",
   "execution_count": 36,
   "metadata": {},
   "outputs": [
    {
     "name": "stdout",
     "output_type": "stream",
     "text": [
      "Accuracy: 0.70 (+/- 0.05) with C: 0.01\n",
      "Accuracy: 0.73 (+/- 0.05) with C: 0.02\n",
      "Accuracy: 0.78 (+/- 0.05) with C: 0.03\n",
      "Accuracy: 0.80 (+/- 0.07) with C: 0.04\n",
      "Accuracy: 0.82 (+/- 0.08) with C: 0.05\n",
      "Accuracy: 0.82 (+/- 0.07) with C: 0.1\n",
      "Accuracy: 0.80 (+/- 0.10) with C: 1\n"
     ]
    }
   ],
   "source": [
    "cv_scores = []\n",
    "for C in [0.01, 0.02, 0.03, 0.04, 0.05, 0.1, 1]:\n",
    "    scores = svm(X_train, y_train, C)\n",
    "    cv_scores.append(scores.mean())\n",
    "    print('Accuracy: %0.2f (+/- %0.2f)' % (scores.mean(), scores.std() * 2), 'with C:', C)"
   ]
  },
  {
   "cell_type": "code",
   "execution_count": 37,
   "metadata": {},
   "outputs": [
    {
     "name": "stdout",
     "output_type": "stream",
     "text": [
      "Accuracy Score: 0.790540540541\n"
     ]
    }
   ],
   "source": [
    "def svm_test(X_train, y_train, X_test, y_test):\n",
    "    clf = SVC(kernel='linear', C=0.05)\n",
    "    clf.fit(X_train, y_train)\n",
    "    predictions = clf.predict(X_test)\n",
    "    print('Accuracy Score:', accuracy_score(y_test, predictions))\n",
    "    \n",
    "    return predictions\n",
    "\n",
    "predictions_svm_test = svm_test(X_train, y_train, X_test, y_test)"
   ]
  },
  {
   "cell_type": "code",
   "execution_count": 38,
   "metadata": {},
   "outputs": [
    {
     "name": "stdout",
     "output_type": "stream",
     "text": [
      "Confusion matrix, without normalization\n",
      "[[34 13]\n",
      " [18 83]]\n"
     ]
    },
    {
     "data": {
      "image/png": "[encoded data removed]",
      "text/plain": [
       "<Figure size 432x288 with 2 Axes>"
      ]
     },
     "metadata": {},
     "output_type": "display_data"
    }
   ],
   "source": [
    "cnf_matrix = confusion_matrix(y_test, predictions_svm_test, labels=[1, 0])\n",
    "np.set_printoptions(precision=2)\n",
    "\n",
    "plt.figure()\n",
    "plot_confusion_matrix(cnf_matrix, classes=['Exceed(1)','Not exceed(0)'],normalize= False,  title='Confusion matrix')"
   ]
  },
  {
   "cell_type": "markdown",
   "metadata": {},
   "source": [
    "Small improvements may be possible by changing the penalty parameter C of the error term."
   ]
  },
  {
   "cell_type": "markdown",
   "metadata": {},
   "source": [
    "## Decision Trees"
   ]
  },
  {
   "cell_type": "code",
   "execution_count": 39,
   "metadata": {
    "collapsed": true
   },
   "outputs": [],
   "source": [
    "from sklearn.tree import DecisionTreeRegressor\n",
    "from sklearn.ensemble import AdaBoostRegressor\n",
    "from sklearn.metrics import mean_absolute_error"
   ]
  },
  {
   "cell_type": "code",
   "execution_count": 40,
   "metadata": {},
   "outputs": [
    {
     "name": "stdout",
     "output_type": "stream",
     "text": [
      "Number of estimators: 100  \t\t Mean Absolute Error:  0.396298764152\n",
      "Number of estimators: 500  \t\t Mean Absolute Error:  0.358156588232\n",
      "Number of estimators: 1000  \t\t Mean Absolute Error:  0.334578131978\n",
      "Number of estimators: 1500  \t\t Mean Absolute Error:  0.345067455972\n",
      "Number of estimators: 2000  \t\t Mean Absolute Error:  0.322425702678\n",
      "Number of estimators: 2500  \t\t Mean Absolute Error:  0.339020209233\n"
     ]
    }
   ],
   "source": [
    "#Creating a function to determine the best fit n_estimators\n",
    "def decision_tree(n_estimator, X_train, y_train, X_test, y_test):\n",
    "    \n",
    "    tree_model = AdaBoostRegressor(n_estimators=n_estimator)\n",
    "    tree_model.fit(X_train, y_train)\n",
    "    pred = tree_model.predict(X_test)\n",
    "    \n",
    "    return str(mean_absolute_error(pred, y_test))\n",
    "\n",
    "for estimators in [100,500,1000,1500,2000,2500]:\n",
    "    mae = decision_tree(estimators, X_train, y_train, X_test, y_test)\n",
    "    print(\"Number of estimators: {}  \\t\\t Mean Absolute Error:  {}\".format(estimators, mae))"
   ]
  },
  {
   "cell_type": "code",
   "execution_count": 41,
   "metadata": {},
   "outputs": [
    {
     "name": "stdout",
     "output_type": "stream",
     "text": [
      "Mean absolute error: 0.323559927474\n",
      "Accuracy score: 0.722972972973\n"
     ]
    }
   ],
   "source": [
    "def ada_boost(X_train, y_train, X_test, y_test, n_estimators=1000):\n",
    "    \n",
    "    tree_model = AdaBoostRegressor(n_estimators=n_estimators, learning_rate=0.05)\n",
    "    tree_model.fit(X_train, y_train)\n",
    "    \n",
    "    predictions = tree_model.predict(X_test)\n",
    "    \n",
    "    return predictions\n",
    "\n",
    "predictions = ada_boost(X_train, y_train, X_test, y_test)\n",
    "print('Mean absolute error:', mean_absolute_error(y_test, predictions))\n",
    "print('Accuracy score:', accuracy_score(y_test, np.round(predictions)))"
   ]
  },
  {
   "cell_type": "markdown",
   "metadata": {},
   "source": [
    "## Keras (Neural Network)"
   ]
  },
  {
   "cell_type": "markdown",
   "metadata": {},
   "source": [
    "Dividing the response variable in just two categories, namely exceeds or does not exceed a specific number of absenteeism hours may not be optimal and definitely leds to loss of information. On the other hand, given the skewed distribution of the response variable any regression approach, with or without gradient descent optimization, will probably not yield a viable model.  \n",
    "\n",
    "Nevertheless, it may be possible to bin the response variable in more than 2 categories and subsequently use a more sophisticated deep learning approach such as Keras."
   ]
  },
  {
   "cell_type": "code",
   "execution_count": 42,
   "metadata": {},
   "outputs": [
    {
     "name": "stderr",
     "output_type": "stream",
     "text": [
      "Using TensorFlow backend.\n"
     ]
    }
   ],
   "source": [
    "from keras.models  import Sequential, K\n",
    "from keras.layers import Input, Dense, Flatten, Dropout, BatchNormalization\n",
    "from keras.optimizers import Adam, SGD, RMSprop"
   ]
  },
  {
   "cell_type": "markdown",
   "metadata": {},
   "source": [
    "### Single Hidden Layer"
   ]
  },
  {
   "cell_type": "code",
   "execution_count": 43,
   "metadata": {},
   "outputs": [
    {
     "name": "stdout",
     "output_type": "stream",
     "text": [
      " 32/148 [=====>........................] - ETA: 0s\n",
      "accuracy is 0.764\n",
      "roc-auc is 0.863\n"
     ]
    },
    {
     "data": {
      "image/png": "[encoded data removed]",
      "text/plain": [
       "<Figure size 576x576 with 1 Axes>"
      ]
     },
     "metadata": {},
     "output_type": "display_data"
    }
   ],
   "source": [
    "# Define the Model \n",
    "# Input size is 81-dimensional\n",
    "# 1 hidden layer, 12 hidden nodes, relu activation\n",
    "# Final layer has just one node with a sigmoid activation (standard for binary classification)\n",
    "model_1 = Sequential([\n",
    "    Dense(12, input_shape=(81,), activation=\"relu\"),\n",
    "    Dense(1, activation=\"sigmoid\")\n",
    "])\n",
    "\n",
    "#model_1.summary()\n",
    "model_1.compile(SGD(lr = .003), \"binary_crossentropy\", metrics=[\"accuracy\"])\n",
    "run_hist_1 = model_1.fit(X_train, y_train, validation_data=(X_test, y_test), epochs=500, verbose=0)\n",
    "\n",
    "## We generate two kinds of predictions\n",
    "#  One is a hard decision, the other is a probabilitistic score.\n",
    "y_pred_class_nn_1 = model_1.predict_classes(X_test)\n",
    "y_pred_prob_nn_1 = model_1.predict(X_test)\n",
    "\n",
    "# Print model performance and plot the roc curve\n",
    "print('\\naccuracy is {:.3f}'.format(accuracy_score(y_test,y_pred_class_nn_1)))\n",
    "print('roc-auc is {:.3f}'.format(roc_auc_score(y_test,y_pred_prob_nn_1)))\n",
    "\n",
    "plot_roc(y_test, y_pred_prob_nn_1, 'NN')"
   ]
  },
  {
   "cell_type": "code",
   "execution_count": 44,
   "metadata": {},
   "outputs": [
    {
     "data": {
      "image/png": "[encoded data removed]",
      "text/plain": [
       "<Figure size 576x288 with 2 Axes>"
      ]
     },
     "metadata": {},
     "output_type": "display_data"
    }
   ],
   "source": [
    "def plot_loss_accuracy(history):\n",
    "    n = len(history[\"loss\"])\n",
    "\n",
    "    fig = plt.figure(figsize=(8, 4))\n",
    "    ax = fig.add_subplot(1,2,1)\n",
    "    ax.plot(range(n), (history[\"loss\"]), 'r.', label=\"Train Loss\")\n",
    "    ax.plot(range(n), (history[\"val_loss\"]), 'b.', label=\"Validation Loss\")\n",
    "    ax.legend()\n",
    "    ax.set_title('Loss over iterations')\n",
    "\n",
    "    ax = fig.add_subplot(1,2,2)\n",
    "    ax.plot(range(n), (history[\"acc\"]), 'r.', label=\"Train Acc\")\n",
    "    ax.plot(range(n), (history[\"val_acc\"]), 'b.', label=\"Validation Acc\")\n",
    "    ax.legend(loc='lower right')\n",
    "    ax.set_title('Accuracy over iterations')\n",
    "\n",
    "plot_loss_accuracy(run_hist_1.history)"
   ]
  },
  {
   "cell_type": "markdown",
   "metadata": {},
   "source": [
    "### Two Hidden Layers"
   ]
  },
  {
   "cell_type": "code",
   "execution_count": 45,
   "metadata": {},
   "outputs": [
    {
     "name": "stdout",
     "output_type": "stream",
     "text": [
      " 32/148 [=====>........................] - ETA: 0s\n",
      "accuracy is 0.770\n",
      "roc-auc is 0.861\n"
     ]
    },
    {
     "data": {
      "image/png": "[encoded data removed]",
      "text/plain": [
       "<Figure size 576x576 with 1 Axes>"
      ]
     },
     "metadata": {},
     "output_type": "display_data"
    },
    {
     "data": {
      "image/png": "[encoded data removed]",
      "text/plain": [
       "<Figure size 576x288 with 2 Axes>"
      ]
     },
     "metadata": {},
     "output_type": "display_data"
    }
   ],
   "source": [
    "model_2 = Sequential([\n",
    "    Dense(12, input_shape=(81,), activation=\"relu\"),\n",
    "    Dense(12, activation=\"relu\"),\n",
    "    Dense(1, activation=\"sigmoid\")\n",
    "])\n",
    "\n",
    "model_2.compile(SGD(lr = .003), \"binary_crossentropy\", metrics=[\"accuracy\"])\n",
    "run_hist_2 = model_2.fit(X_train, y_train, validation_data=(X_test, y_test), epochs=500, verbose=0)\n",
    "\n",
    "y_pred_class_nn_2 = model_2.predict_classes(X_test)\n",
    "y_pred_prob_nn_2 = model_2.predict(X_test)\n",
    "\n",
    "print('\\naccuracy is {:.3f}'.format(accuracy_score(y_test,y_pred_class_nn_2)))\n",
    "print('roc-auc is {:.3f}'.format(roc_auc_score(y_test,y_pred_prob_nn_2)))\n",
    "\n",
    "plot_roc(y_test, y_pred_prob_nn_2, 'NN')\n",
    "\n",
    "plot_loss_accuracy(run_hist_2.history)"
   ]
  },
  {
   "cell_type": "markdown",
   "metadata": {},
   "source": [
    "### Three Hidden Layers with Dropout"
   ]
  },
  {
   "cell_type": "code",
   "execution_count": 46,
   "metadata": {
    "collapsed": true
   },
   "outputs": [],
   "source": [
    "exec_flag = 0"
   ]
  },
  {
   "cell_type": "code",
   "execution_count": 47,
   "metadata": {},
   "outputs": [],
   "source": [
    "if exec_flag ==1:\n",
    "    model_3 = Sequential()\n",
    "    model_3.add(Dense(12, activation='relu', input_shape=(81,)))\n",
    "    model_3.add(Dropout(0.1))\n",
    "    model_3.add(Dense(12, activation='relu'))\n",
    "    model_3.add(Dropout(0.1))\n",
    "    model_3.add(Dense(1, activation='sigmoid'))\n",
    "\n",
    "    # Add Dropout layers and increase learning rate slightly\n",
    "    model_3.compile(SGD(lr = .004, nesterov=True), \"binary_crossentropy\", metrics=[\"accuracy\"])\n",
    "    run_hist_3 = model_3.fit(X_train, y_train, validation_split=0.1, epochs=500, verbose=0)\n",
    "\n",
    "    y_pred_class_nn_3 = model_3.predict_classes(X_test)\n",
    "    y_pred_prob_nn_3 = model_3.predict(X_test)\n",
    "\n",
    "    print('\\naccuracy is {:.3f}'.format(accuracy_score(y_test,y_pred_class_nn_3)))\n",
    "    print('roc-auc is {:.3f}'.format(roc_auc_score(y_test,y_pred_prob_nn_3)))\n",
    "\n",
    "    plot_roc(y_test, y_pred_prob_nn_3, 'NN')\n",
    "\n",
    "    plot_loss_accuracy(run_hist_3.history)\n",
    "    model_3.save('model/nn_absenteeism_model.h5')\n",
    "    from keras.models import load_model\n",
    "    new_model = load_model('model/nn_absenteeism_model.h5')\n",
    "    new_model.summary()"
   ]
  }
 ],
 "metadata": {
  "kernelspec": {
   "display_name": "Python 3",
   "language": "python",
   "name": "python3"
  },
  "language_info": {
   "codemirror_mode": {
    "name": "ipython",
    "version": 3
   },
   "file_extension": ".py",
   "mimetype": "text/x-python",
   "name": "python",
   "nbconvert_exporter": "python",
   "pygments_lexer": "ipython3",
   "version": "3.6.6"
  }
 },
 "nbformat": 4,
 "nbformat_minor": 2
}
